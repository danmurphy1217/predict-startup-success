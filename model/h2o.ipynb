{
 "cells": [
  {
   "cell_type": "code",
   "execution_count": 1,
   "metadata": {},
   "outputs": [
    {
     "name": "stdout",
     "output_type": "stream",
     "text": [
      "Checking whether there is an H2O instance running at http://localhost:54321 ..... not found.\n",
      "Attempting to start a local H2O server...\n",
      "  Java Version: java version \"13.0.2\" 2020-01-14; Java(TM) SE Runtime Environment (build 13.0.2+8); Java HotSpot(TM) 64-Bit Server VM (build 13.0.2+8, mixed mode, sharing)\n",
      "  Starting server from /usr/local/lib/python3.7/site-packages/h2o/backend/bin/h2o.jar\n",
      "  Ice root: /var/folders/p9/p7z03z594sd1wmfvrvgs1_lh0000gn/T/tmp2m6z7fzh\n",
      "  JVM stdout: /var/folders/p9/p7z03z594sd1wmfvrvgs1_lh0000gn/T/tmp2m6z7fzh/h2o_danielmurphy_started_from_python.out\n",
      "  JVM stderr: /var/folders/p9/p7z03z594sd1wmfvrvgs1_lh0000gn/T/tmp2m6z7fzh/h2o_danielmurphy_started_from_python.err\n",
      "  Server is running at http://127.0.0.1:54321\n",
      "Connecting to H2O server at http://127.0.0.1:54321 ... successful.\n"
     ]
    },
    {
     "data": {
      "text/html": [
       "<div style=\"overflow:auto\"><table style=\"width:50%\"><tr><td>H2O cluster uptime:</td>\n",
       "<td>02 secs</td></tr>\n",
       "<tr><td>H2O cluster timezone:</td>\n",
       "<td>America/New_York</td></tr>\n",
       "<tr><td>H2O data parsing timezone:</td>\n",
       "<td>UTC</td></tr>\n",
       "<tr><td>H2O cluster version:</td>\n",
       "<td>3.28.1.2</td></tr>\n",
       "<tr><td>H2O cluster version age:</td>\n",
       "<td>16 days </td></tr>\n",
       "<tr><td>H2O cluster name:</td>\n",
       "<td>H2O_from_python_danielmurphy_oifm0x</td></tr>\n",
       "<tr><td>H2O cluster total nodes:</td>\n",
       "<td>1</td></tr>\n",
       "<tr><td>H2O cluster free memory:</td>\n",
       "<td>4 Gb</td></tr>\n",
       "<tr><td>H2O cluster total cores:</td>\n",
       "<td>16</td></tr>\n",
       "<tr><td>H2O cluster allowed cores:</td>\n",
       "<td>16</td></tr>\n",
       "<tr><td>H2O cluster status:</td>\n",
       "<td>accepting new members, healthy</td></tr>\n",
       "<tr><td>H2O connection url:</td>\n",
       "<td>http://127.0.0.1:54321</td></tr>\n",
       "<tr><td>H2O connection proxy:</td>\n",
       "<td>{'http': None, 'https': None}</td></tr>\n",
       "<tr><td>H2O internal security:</td>\n",
       "<td>False</td></tr>\n",
       "<tr><td>H2O API Extensions:</td>\n",
       "<td>Amazon S3, XGBoost, Algos, AutoML, Core V3, TargetEncoder, Core V4</td></tr>\n",
       "<tr><td>Python version:</td>\n",
       "<td>3.7.6 final</td></tr></table></div>"
      ],
      "text/plain": [
       "--------------------------  ------------------------------------------------------------------\n",
       "H2O cluster uptime:         02 secs\n",
       "H2O cluster timezone:       America/New_York\n",
       "H2O data parsing timezone:  UTC\n",
       "H2O cluster version:        3.28.1.2\n",
       "H2O cluster version age:    16 days\n",
       "H2O cluster name:           H2O_from_python_danielmurphy_oifm0x\n",
       "H2O cluster total nodes:    1\n",
       "H2O cluster free memory:    4 Gb\n",
       "H2O cluster total cores:    16\n",
       "H2O cluster allowed cores:  16\n",
       "H2O cluster status:         accepting new members, healthy\n",
       "H2O connection url:         http://127.0.0.1:54321\n",
       "H2O connection proxy:       {'http': None, 'https': None}\n",
       "H2O internal security:      False\n",
       "H2O API Extensions:         Amazon S3, XGBoost, Algos, AutoML, Core V3, TargetEncoder, Core V4\n",
       "Python version:             3.7.6 final\n",
       "--------------------------  ------------------------------------------------------------------"
      ]
     },
     "metadata": {},
     "output_type": "display_data"
    }
   ],
   "source": [
    "#!/usr/bin/env python3\n",
    "# -*- coding: utf-8 -*-\n",
    "import pandas as pd\n",
    "import h2o\n",
    "from h2o.automl import H2OAutoML, get_leaderboard\n",
    "h2o.init(ip=\"localhost\")"
   ]
  },
  {
   "cell_type": "code",
   "execution_count": 3,
   "metadata": {},
   "outputs": [
    {
     "name": "stdout",
     "output_type": "stream",
     "text": [
      "Parse progress: |█████████████████████████████████████████████████████████| 100%\n"
     ]
    }
   ],
   "source": [
    "df = pd.read_csv (r'founder_V0.3_founder.csv')\n",
    "df.columns = df.columns.str.replace(' ','_')\n",
    "\n",
    "#Select features for model\n",
    "y = \"Success\"\n",
    "df[y] = df[y].astype('category')\n",
    "\n",
    "#Set Factors\n",
    "x_factor = [\"Gender\", \"Headquarters_Location_\"]\n",
    "df[x_factor] = df[x_factor].astype('category')\n",
    "\n",
    "#Set Numerics\n",
    "x_numeric=df.columns[pd.Series(df.columns).str.contains('Number').tolist()].tolist() #Get all columns with \"Number\" in the name\n",
    "x_numeric.extend(['Founded_Date']) #add any other necessary columns\n",
    "df[x_numeric] = df[x_numeric].apply(pd.to_numeric)\n",
    "\n",
    "#get all features together\n",
    "x = x_numeric + x_factor\n",
    "x_y = x+[y] # combining predictors and y\n",
    "df=df[x_y]\n",
    "data_h2o = h2o.H2OFrame(df)\n",
    "\n",
    "\n",
    "train, test = data_h2o.split_frame(ratios = [.7], seed = 1234)\n"
   ]
  },
  {
   "cell_type": "code",
   "execution_count": 17,
   "metadata": {},
   "outputs": [
    {
     "name": "stdout",
     "output_type": "stream",
     "text": [
      "AutoML progress: |████████████████████████████████████████████████████████| 100%\n"
     ]
    }
   ],
   "source": [
    "aml = H2OAutoML(max_models=10, seed=1)\n",
    "aml.train(x=x, y=y, training_frame=train)"
   ]
  },
  {
   "cell_type": "code",
   "execution_count": 18,
   "metadata": {},
   "outputs": [],
   "source": [
    "lb = aml.leaderboard"
   ]
  },
  {
   "cell_type": "code",
   "execution_count": 20,
   "metadata": {},
   "outputs": [
    {
     "data": {
      "text/html": [
       "<table>\n",
       "<thead>\n",
       "<tr><th>model_id                                           </th><th style=\"text-align: right;\">  mean_residual_deviance</th><th style=\"text-align: right;\">    rmse</th><th style=\"text-align: right;\">     mse</th><th style=\"text-align: right;\">     mae</th><th style=\"text-align: right;\">   rmsle</th><th style=\"text-align: right;\">  training_time_ms</th><th style=\"text-align: right;\">  predict_time_per_row_ms</th></tr>\n",
       "</thead>\n",
       "<tbody>\n",
       "<tr><td>StackedEnsemble_AllModels_AutoML_20200402_191542   </td><td style=\"text-align: right;\">                0.151825</td><td style=\"text-align: right;\">0.389647</td><td style=\"text-align: right;\">0.151825</td><td style=\"text-align: right;\">0.303991</td><td style=\"text-align: right;\">0.273484</td><td style=\"text-align: right;\">              1689</td><td style=\"text-align: right;\">                 0.127313</td></tr>\n",
       "<tr><td>StackedEnsemble_BestOfFamily_AutoML_20200402_191542</td><td style=\"text-align: right;\">                0.152105</td><td style=\"text-align: right;\">0.390006</td><td style=\"text-align: right;\">0.152105</td><td style=\"text-align: right;\">0.304629</td><td style=\"text-align: right;\">0.273709</td><td style=\"text-align: right;\">               782</td><td style=\"text-align: right;\">                 0.049002</td></tr>\n",
       "<tr><td>DRF_1_AutoML_20200402_191542                       </td><td style=\"text-align: right;\">                0.154389</td><td style=\"text-align: right;\">0.392924</td><td style=\"text-align: right;\">0.154389</td><td style=\"text-align: right;\">0.300368</td><td style=\"text-align: right;\">0.275615</td><td style=\"text-align: right;\">              1023</td><td style=\"text-align: right;\">                 0.020872</td></tr>\n",
       "<tr><td>GBM_4_AutoML_20200402_191542                       </td><td style=\"text-align: right;\">                0.155543</td><td style=\"text-align: right;\">0.39439 </td><td style=\"text-align: right;\">0.155543</td><td style=\"text-align: right;\">0.308218</td><td style=\"text-align: right;\">0.276569</td><td style=\"text-align: right;\">               335</td><td style=\"text-align: right;\">                 0.014789</td></tr>\n",
       "<tr><td>GBM_3_AutoML_20200402_191542                       </td><td style=\"text-align: right;\">                0.156284</td><td style=\"text-align: right;\">0.395328</td><td style=\"text-align: right;\">0.156284</td><td style=\"text-align: right;\">0.312175</td><td style=\"text-align: right;\">0.277254</td><td style=\"text-align: right;\">               269</td><td style=\"text-align: right;\">                 0.013645</td></tr>\n",
       "<tr><td>GBM_2_AutoML_20200402_191542                       </td><td style=\"text-align: right;\">                0.156699</td><td style=\"text-align: right;\">0.395852</td><td style=\"text-align: right;\">0.156699</td><td style=\"text-align: right;\">0.314159</td><td style=\"text-align: right;\">0.277728</td><td style=\"text-align: right;\">               303</td><td style=\"text-align: right;\">                 0.011381</td></tr>\n",
       "<tr><td>GBM_1_AutoML_20200402_191542                       </td><td style=\"text-align: right;\">                0.157224</td><td style=\"text-align: right;\">0.396515</td><td style=\"text-align: right;\">0.157224</td><td style=\"text-align: right;\">0.315754</td><td style=\"text-align: right;\">0.278265</td><td style=\"text-align: right;\">               282</td><td style=\"text-align: right;\">                 0.010104</td></tr>\n",
       "<tr><td>XGBoost_1_AutoML_20200402_191542                   </td><td style=\"text-align: right;\">                0.157948</td><td style=\"text-align: right;\">0.397427</td><td style=\"text-align: right;\">0.157948</td><td style=\"text-align: right;\">0.317664</td><td style=\"text-align: right;\">0.278616</td><td style=\"text-align: right;\">              2240</td><td style=\"text-align: right;\">                 0.012234</td></tr>\n",
       "<tr><td>GBM_5_AutoML_20200402_191542                       </td><td style=\"text-align: right;\">                0.15844 </td><td style=\"text-align: right;\">0.398045</td><td style=\"text-align: right;\">0.15844 </td><td style=\"text-align: right;\">0.317777</td><td style=\"text-align: right;\">0.279481</td><td style=\"text-align: right;\">               266</td><td style=\"text-align: right;\">                 0.014418</td></tr>\n",
       "<tr><td>XGBoost_3_AutoML_20200402_191542                   </td><td style=\"text-align: right;\">                0.159309</td><td style=\"text-align: right;\">0.399136</td><td style=\"text-align: right;\">0.159309</td><td style=\"text-align: right;\">0.325794</td><td style=\"text-align: right;\">0.280022</td><td style=\"text-align: right;\">               959</td><td style=\"text-align: right;\">                 0.005033</td></tr>\n",
       "<tr><td>XGBoost_2_AutoML_20200402_191542                   </td><td style=\"text-align: right;\">                0.160951</td><td style=\"text-align: right;\">0.401186</td><td style=\"text-align: right;\">0.160951</td><td style=\"text-align: right;\">0.319354</td><td style=\"text-align: right;\">0.281391</td><td style=\"text-align: right;\">              3420</td><td style=\"text-align: right;\">                 0.019162</td></tr>\n",
       "<tr><td>GLM_1_AutoML_20200402_191542                       </td><td style=\"text-align: right;\">                0.235382</td><td style=\"text-align: right;\">0.485162</td><td style=\"text-align: right;\">0.235382</td><td style=\"text-align: right;\">0.470561</td><td style=\"text-align: right;\">0.339805</td><td style=\"text-align: right;\">                46</td><td style=\"text-align: right;\">                 0.000315</td></tr>\n",
       "</tbody>\n",
       "</table>"
      ]
     },
     "metadata": {},
     "output_type": "display_data"
    },
    {
     "data": {
      "text/plain": []
     },
     "execution_count": 20,
     "metadata": {},
     "output_type": "execute_result"
    }
   ],
   "source": [
    "# Optionally edd extra model information to the leaderboard\n",
    "lb = get_leaderboard(aml, extra_columns='ALL')\n",
    "# Print all rows (instead of default 10 rows)\n",
    "lb.head(rows=lb.nrows)"
   ]
  },
  {
   "cell_type": "code",
   "execution_count": 21,
   "metadata": {},
   "outputs": [
    {
     "name": "stdout",
     "output_type": "stream",
     "text": [
      "Model Details\n",
      "=============\n",
      "H2OStackedEnsembleEstimator :  Stacked Ensemble\n",
      "Model Key:  StackedEnsemble_AllModels_AutoML_20200402_191542\n",
      "\n",
      "No model summary for this model\n",
      "\n",
      "ModelMetricsRegressionGLM: stackedensemble\n",
      "** Reported on train data. **\n",
      "\n",
      "MSE: 0.09647924394138345\n",
      "RMSE: 0.3106110814851644\n",
      "MAE: 0.23883434673195827\n",
      "RMSLE: 0.21983184675814738\n",
      "R^2: 0.5953734306380533\n",
      "Mean Residual Deviance: 0.09647924394138345\n",
      "Null degrees of freedom: 12904\n",
      "Residual degrees of freedom: 12897\n",
      "Null deviance: 3077.070902751219\n",
      "Residual deviance: 1245.0646430635534\n",
      "AIC: 6463.398171335158\n",
      "\n",
      "ModelMetricsRegressionGLM: stackedensemble\n",
      "** Reported on cross-validation data. **\n",
      "\n",
      "MSE: 0.15182459343861296\n",
      "RMSE: 0.3896467546876439\n",
      "MAE: 0.30399129962139876\n",
      "RMSLE: 0.27348410306995635\n",
      "R^2: 0.36325926823015076\n",
      "Mean Residual Deviance: 0.15182459343861296\n",
      "Null degrees of freedom: 12904\n",
      "Residual degrees of freedom: 12897\n",
      "Null deviance: 3077.4548876755243\n",
      "Residual deviance: 1959.2963783253003\n",
      "AIC: 12314.498941036545\n"
     ]
    },
    {
     "data": {
      "text/plain": []
     },
     "execution_count": 21,
     "metadata": {},
     "output_type": "execute_result"
    }
   ],
   "source": [
    "aml.leader"
   ]
  },
  {
   "cell_type": "code",
   "execution_count": 22,
   "metadata": {},
   "outputs": [
    {
     "name": "stdout",
     "output_type": "stream",
     "text": [
      "stackedensemble prediction progress: |████████████████████████████████████| 100%\n"
     ]
    },
    {
     "data": {
      "text/html": [
       "<table>\n",
       "<thead>\n",
       "<tr><th style=\"text-align: right;\">  Number_of_News_Articles</th><th style=\"text-align: right;\">  Number_of_Founded_Organizations</th><th style=\"text-align: right;\">  Number_of_Portfolio_Companies</th><th style=\"text-align: right;\">  Number_of_Investments_x</th><th style=\"text-align: right;\">  Number_of_Partner_Investments</th><th style=\"text-align: right;\">  Number_of_Lead_Investments_x</th><th style=\"text-align: right;\">  Number_of_Exits_x</th><th style=\"text-align: right;\">  Number_of_Events_x</th><th style=\"text-align: right;\">  Number_of_Founders</th><th style=\"text-align: right;\">  Founded_Date</th><th style=\"text-align: right;\">  Gender</th><th>Headquarters_Location_  </th><th style=\"text-align: right;\">  Success</th><th style=\"text-align: right;\">  predict</th></tr>\n",
       "</thead>\n",
       "<tbody>\n",
       "<tr><td style=\"text-align: right;\">                    14445</td><td style=\"text-align: right;\">                                7</td><td style=\"text-align: right;\">                             11</td><td style=\"text-align: right;\">                       21</td><td style=\"text-align: right;\">                              0</td><td style=\"text-align: right;\">                             9</td><td style=\"text-align: right;\">                  6</td><td style=\"text-align: right;\">                   2</td><td style=\"text-align: right;\">                   4</td><td style=\"text-align: right;\">          2003</td><td style=\"text-align: right;\">       1</td><td>California              </td><td style=\"text-align: right;\">        1</td><td style=\"text-align: right;\">0.899756 </td></tr>\n",
       "<tr><td style=\"text-align: right;\">                      128</td><td style=\"text-align: right;\">                                1</td><td style=\"text-align: right;\">                              6</td><td style=\"text-align: right;\">                        7</td><td style=\"text-align: right;\">                              0</td><td style=\"text-align: right;\">                             0</td><td style=\"text-align: right;\">                  1</td><td style=\"text-align: right;\">                   5</td><td style=\"text-align: right;\">                   2</td><td style=\"text-align: right;\">          2006</td><td style=\"text-align: right;\">       1</td><td>California              </td><td style=\"text-align: right;\">        1</td><td style=\"text-align: right;\">0.987523 </td></tr>\n",
       "<tr><td style=\"text-align: right;\">                     3669</td><td style=\"text-align: right;\">                                1</td><td style=\"text-align: right;\">                             73</td><td style=\"text-align: right;\">                      101</td><td style=\"text-align: right;\">                              0</td><td style=\"text-align: right;\">                             3</td><td style=\"text-align: right;\">                 17</td><td style=\"text-align: right;\">                  19</td><td style=\"text-align: right;\">                   2</td><td style=\"text-align: right;\">          1999</td><td style=\"text-align: right;\">       1</td><td>California              </td><td style=\"text-align: right;\">        1</td><td style=\"text-align: right;\">0.950903 </td></tr>\n",
       "<tr><td style=\"text-align: right;\">                       90</td><td style=\"text-align: right;\">                                1</td><td style=\"text-align: right;\">                              0</td><td style=\"text-align: right;\">                        0</td><td style=\"text-align: right;\">                              0</td><td style=\"text-align: right;\">                             0</td><td style=\"text-align: right;\">                  0</td><td style=\"text-align: right;\">                   0</td><td style=\"text-align: right;\">                   2</td><td style=\"text-align: right;\">          1999</td><td style=\"text-align: right;\">       1</td><td>China                   </td><td style=\"text-align: right;\">        1</td><td style=\"text-align: right;\">1.01592  </td></tr>\n",
       "<tr><td style=\"text-align: right;\">                       48</td><td style=\"text-align: right;\">                                1</td><td style=\"text-align: right;\">                              3</td><td style=\"text-align: right;\">                        3</td><td style=\"text-align: right;\">                              0</td><td style=\"text-align: right;\">                             0</td><td style=\"text-align: right;\">                  2</td><td style=\"text-align: right;\">                   0</td><td style=\"text-align: right;\">                   3</td><td style=\"text-align: right;\">          2014</td><td style=\"text-align: right;\">       1</td><td>California              </td><td style=\"text-align: right;\">        1</td><td style=\"text-align: right;\">0.834022 </td></tr>\n",
       "<tr><td style=\"text-align: right;\">                      451</td><td style=\"text-align: right;\">                                1</td><td style=\"text-align: right;\">                              2</td><td style=\"text-align: right;\">                        3</td><td style=\"text-align: right;\">                              0</td><td style=\"text-align: right;\">                             0</td><td style=\"text-align: right;\">                  1</td><td style=\"text-align: right;\">                   2</td><td style=\"text-align: right;\">                   1</td><td style=\"text-align: right;\">          2014</td><td style=\"text-align: right;\">       1</td><td>New York                </td><td style=\"text-align: right;\">        1</td><td style=\"text-align: right;\">0.541971 </td></tr>\n",
       "<tr><td style=\"text-align: right;\">                     1330</td><td style=\"text-align: right;\">                                3</td><td style=\"text-align: right;\">                              1</td><td style=\"text-align: right;\">                        1</td><td style=\"text-align: right;\">                              0</td><td style=\"text-align: right;\">                             0</td><td style=\"text-align: right;\">                  0</td><td style=\"text-align: right;\">                  12</td><td style=\"text-align: right;\">                   1</td><td style=\"text-align: right;\">          2016</td><td style=\"text-align: right;\">       0</td><td>New York                </td><td style=\"text-align: right;\">        0</td><td style=\"text-align: right;\">0.277839 </td></tr>\n",
       "<tr><td style=\"text-align: right;\">                      436</td><td style=\"text-align: right;\">                                1</td><td style=\"text-align: right;\">                              0</td><td style=\"text-align: right;\">                        0</td><td style=\"text-align: right;\">                              0</td><td style=\"text-align: right;\">                             0</td><td style=\"text-align: right;\">                  0</td><td style=\"text-align: right;\">                   0</td><td style=\"text-align: right;\">                   1</td><td style=\"text-align: right;\">          2000</td><td style=\"text-align: right;\">       1</td><td>Massachusetts           </td><td style=\"text-align: right;\">        1</td><td style=\"text-align: right;\">0.987908 </td></tr>\n",
       "<tr><td style=\"text-align: right;\">                      234</td><td style=\"text-align: right;\">                                1</td><td style=\"text-align: right;\">                              3</td><td style=\"text-align: right;\">                        3</td><td style=\"text-align: right;\">                              0</td><td style=\"text-align: right;\">                             0</td><td style=\"text-align: right;\">                  0</td><td style=\"text-align: right;\">                   0</td><td style=\"text-align: right;\">                   5</td><td style=\"text-align: right;\">          2013</td><td style=\"text-align: right;\">       1</td><td>Nevada                  </td><td style=\"text-align: right;\">        0</td><td style=\"text-align: right;\">0.320035 </td></tr>\n",
       "<tr><td style=\"text-align: right;\">                        0</td><td style=\"text-align: right;\">                                3</td><td style=\"text-align: right;\">                              0</td><td style=\"text-align: right;\">                        0</td><td style=\"text-align: right;\">                              0</td><td style=\"text-align: right;\">                             0</td><td style=\"text-align: right;\">                  0</td><td style=\"text-align: right;\">                   0</td><td style=\"text-align: right;\">                   5</td><td style=\"text-align: right;\">          2013</td><td style=\"text-align: right;\">       1</td><td>Nevada                  </td><td style=\"text-align: right;\">        0</td><td style=\"text-align: right;\">0.0514043</td></tr>\n",
       "</tbody>\n",
       "</table>"
      ]
     },
     "metadata": {},
     "output_type": "display_data"
    },
    {
     "data": {
      "text/plain": []
     },
     "execution_count": 22,
     "metadata": {},
     "output_type": "execute_result"
    }
   ],
   "source": [
    "preds = aml.predict(test_data= test)\n",
    "\n",
    "preds.head(15)\n",
    "test.concat(preds)"
   ]
  },
  {
   "cell_type": "code",
   "execution_count": null,
   "metadata": {},
   "outputs": [],
   "source": []
  }
 ],
 "metadata": {
  "kernelspec": {
   "display_name": "Python 3",
   "language": "python",
   "name": "python3"
  },
  "language_info": {
   "codemirror_mode": {
    "name": "ipython",
    "version": 3
   },
   "file_extension": ".py",
   "mimetype": "text/x-python",
   "name": "python",
   "nbconvert_exporter": "python",
   "pygments_lexer": "ipython3",
   "version": "3.7.6"
  }
 },
 "nbformat": 4,
 "nbformat_minor": 4
}
