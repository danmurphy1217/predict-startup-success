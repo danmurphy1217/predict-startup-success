{
 "cells": [
  {
   "cell_type": "code",
   "execution_count": 15,
   "metadata": {},
   "outputs": [
    {
     "name": "stdout",
     "output_type": "stream",
     "text": [
      "Checking whether there is an H2O instance running at http://localhost:54321 . connected.\n"
     ]
    },
    {
     "data": {
      "text/html": [
       "<div style=\"overflow:auto\"><table style=\"width:50%\"><tr><td>H2O cluster uptime:</td>\n",
       "<td>1 day 20 hours 40 mins</td></tr>\n",
       "<tr><td>H2O cluster timezone:</td>\n",
       "<td>America/New_York</td></tr>\n",
       "<tr><td>H2O data parsing timezone:</td>\n",
       "<td>UTC</td></tr>\n",
       "<tr><td>H2O cluster version:</td>\n",
       "<td>3.28.1.2</td></tr>\n",
       "<tr><td>H2O cluster version age:</td>\n",
       "<td>18 days </td></tr>\n",
       "<tr><td>H2O cluster name:</td>\n",
       "<td>H2O_from_python_danielmurphy_oifm0x</td></tr>\n",
       "<tr><td>H2O cluster total nodes:</td>\n",
       "<td>1</td></tr>\n",
       "<tr><td>H2O cluster free memory:</td>\n",
       "<td>3.862 Gb</td></tr>\n",
       "<tr><td>H2O cluster total cores:</td>\n",
       "<td>16</td></tr>\n",
       "<tr><td>H2O cluster allowed cores:</td>\n",
       "<td>16</td></tr>\n",
       "<tr><td>H2O cluster status:</td>\n",
       "<td>locked, healthy</td></tr>\n",
       "<tr><td>H2O connection url:</td>\n",
       "<td>http://localhost:54321</td></tr>\n",
       "<tr><td>H2O connection proxy:</td>\n",
       "<td>{'http': None, 'https': None}</td></tr>\n",
       "<tr><td>H2O internal security:</td>\n",
       "<td>False</td></tr>\n",
       "<tr><td>H2O API Extensions:</td>\n",
       "<td>Amazon S3, XGBoost, Algos, AutoML, Core V3, TargetEncoder, Core V4</td></tr>\n",
       "<tr><td>Python version:</td>\n",
       "<td>3.7.6 final</td></tr></table></div>"
      ],
      "text/plain": [
       "--------------------------  ------------------------------------------------------------------\n",
       "H2O cluster uptime:         1 day 20 hours 40 mins\n",
       "H2O cluster timezone:       America/New_York\n",
       "H2O data parsing timezone:  UTC\n",
       "H2O cluster version:        3.28.1.2\n",
       "H2O cluster version age:    18 days\n",
       "H2O cluster name:           H2O_from_python_danielmurphy_oifm0x\n",
       "H2O cluster total nodes:    1\n",
       "H2O cluster free memory:    3.862 Gb\n",
       "H2O cluster total cores:    16\n",
       "H2O cluster allowed cores:  16\n",
       "H2O cluster status:         locked, healthy\n",
       "H2O connection url:         http://localhost:54321\n",
       "H2O connection proxy:       {'http': None, 'https': None}\n",
       "H2O internal security:      False\n",
       "H2O API Extensions:         Amazon S3, XGBoost, Algos, AutoML, Core V3, TargetEncoder, Core V4\n",
       "Python version:             3.7.6 final\n",
       "--------------------------  ------------------------------------------------------------------"
      ]
     },
     "metadata": {},
     "output_type": "display_data"
    }
   ],
   "source": [
    "#!/usr/bin/env python3\n",
    "# -*- coding: utf-8 -*-\n",
    "import pandas as pd\n",
    "import h2o\n",
    "from h2o.automl import H2OAutoML, get_leaderboard\n",
    "h2o.init(ip=\"localhost\")"
   ]
  },
  {
   "cell_type": "code",
   "execution_count": 8,
   "metadata": {},
   "outputs": [
    {
     "name": "stdout",
     "output_type": "stream",
     "text": [
      "Parse progress: |█████████████████████████████████████████████████████████| 100%\n"
     ]
    }
   ],
   "source": [
    "df = pd.read_csv (r'founder_V0.3_founder.csv')\n",
    "df.columns = df.columns.str.replace(' ','_')\n",
    "\n",
    "#Select features for model\n",
    "y = \"Success\"\n",
    "df[y] = df[y].astype('category')\n",
    "\n",
    "#Set Factors\n",
    "x_factor = [\"Gender\", \"Headquarters_Location_\"]\n",
    "df[x_factor] = df[x_factor].astype('category')\n",
    "\n",
    "#Set Numerics\n",
    "x_numeric=df.columns[pd.Series(df.columns).str.contains('Number').tolist()].tolist() #Get all columns with \"Number\" in the name\n",
    "x_numeric.extend(['Founded_Date']) #add any other necessary columns\n",
    "df[x_numeric] = df[x_numeric].apply(pd.to_numeric)\n",
    "\n",
    "#get all features together\n",
    "x = x_numeric + x_factor\n",
    "x_y = x+[y] # combining predictors and y\n",
    "df=df[x_y]\n",
    "data_h2o = h2o.H2OFrame(df)\n",
    "\n",
    "\n",
    "train, test = data_h2o.split_frame(ratios = [.7], seed = 1234)\n"
   ]
  },
  {
   "cell_type": "code",
   "execution_count": 9,
   "metadata": {},
   "outputs": [
    {
     "name": "stdout",
     "output_type": "stream",
     "text": [
      "AutoML progress: |████████████████████████████████████████████████████████| 100%\n"
     ]
    }
   ],
   "source": [
    "aml = H2OAutoML(max_models=3, seed=1)\n",
    "aml.train(x=x, y=y, training_frame=train)"
   ]
  },
  {
   "cell_type": "code",
   "execution_count": 10,
   "metadata": {},
   "outputs": [],
   "source": [
    "lb = aml.leaderboard"
   ]
  },
  {
   "cell_type": "code",
   "execution_count": 11,
   "metadata": {},
   "outputs": [
    {
     "data": {
      "text/html": [
       "<table>\n",
       "<thead>\n",
       "<tr><th>model_id                                        </th><th style=\"text-align: right;\">  mean_residual_deviance</th><th style=\"text-align: right;\">    rmse</th><th style=\"text-align: right;\">     mse</th><th style=\"text-align: right;\">     mae</th><th style=\"text-align: right;\">   rmsle</th><th style=\"text-align: right;\">  training_time_ms</th><th style=\"text-align: right;\">  predict_time_per_row_ms</th></tr>\n",
       "</thead>\n",
       "<tbody>\n",
       "<tr><td>StackedEnsemble_AllModels_AutoML_20200404_142022</td><td style=\"text-align: right;\">                0.157696</td><td style=\"text-align: right;\">0.39711 </td><td style=\"text-align: right;\">0.157696</td><td style=\"text-align: right;\">0.315901</td><td style=\"text-align: right;\">0.278413</td><td style=\"text-align: right;\">               561</td><td style=\"text-align: right;\">                 0.037159</td></tr>\n",
       "<tr><td>XGBoost_1_AutoML_20200404_142022                </td><td style=\"text-align: right;\">                0.157948</td><td style=\"text-align: right;\">0.397427</td><td style=\"text-align: right;\">0.157948</td><td style=\"text-align: right;\">0.317664</td><td style=\"text-align: right;\">0.278616</td><td style=\"text-align: right;\">              2015</td><td style=\"text-align: right;\">                 0.011023</td></tr>\n",
       "<tr><td>XGBoost_3_AutoML_20200404_142022                </td><td style=\"text-align: right;\">                0.159309</td><td style=\"text-align: right;\">0.399136</td><td style=\"text-align: right;\">0.159309</td><td style=\"text-align: right;\">0.325794</td><td style=\"text-align: right;\">0.280022</td><td style=\"text-align: right;\">               951</td><td style=\"text-align: right;\">                 0.005066</td></tr>\n",
       "<tr><td>XGBoost_2_AutoML_20200404_142022                </td><td style=\"text-align: right;\">                0.160951</td><td style=\"text-align: right;\">0.401186</td><td style=\"text-align: right;\">0.160951</td><td style=\"text-align: right;\">0.319354</td><td style=\"text-align: right;\">0.281391</td><td style=\"text-align: right;\">              2906</td><td style=\"text-align: right;\">                 0.017631</td></tr>\n",
       "</tbody>\n",
       "</table>"
      ]
     },
     "metadata": {},
     "output_type": "display_data"
    },
    {
     "data": {
      "text/plain": []
     },
     "execution_count": 11,
     "metadata": {},
     "output_type": "execute_result"
    }
   ],
   "source": [
    "# Optionally edd extra model information to the leaderboard\n",
    "lb = get_leaderboard(aml, extra_columns='ALL')\n",
    "# Print all rows (instead of default 10 rows)\n",
    "lb.head(rows=lb.nrows)"
   ]
  },
  {
   "cell_type": "code",
   "execution_count": 14,
   "metadata": {},
   "outputs": [
    {
     "name": "stdout",
     "output_type": "stream",
     "text": [
      "Model Details\n",
      "=============\n",
      "H2OStackedEnsembleEstimator :  Stacked Ensemble\n",
      "Model Key:  StackedEnsemble_AllModels_AutoML_20200404_142022\n",
      "\n",
      "No model summary for this model\n",
      "\n",
      "ModelMetricsRegressionGLM: stackedensemble\n",
      "** Reported on train data. **\n",
      "\n",
      "MSE: 0.13570929335058163\n",
      "RMSE: 0.3683874228995632\n",
      "MAE: 0.29209821587308893\n",
      "RMSLE: 0.2593399993585393\n",
      "R^2: 0.43084560413489803\n",
      "Mean Residual Deviance: 0.13570929335058163\n",
      "Null degrees of freedom: 12904\n",
      "Residual degrees of freedom: 12901\n",
      "Null deviance: 3077.070902751219\n",
      "Residual deviance: 1751.3284306892558\n",
      "AIC: 10858.41837441366\n",
      "\n",
      "ModelMetricsRegressionGLM: stackedensemble\n",
      "** Reported on cross-validation data. **\n",
      "\n",
      "MSE: 0.15769641572925394\n",
      "RMSE: 0.3971100801153931\n",
      "MAE: 0.31590123273624976\n",
      "RMSLE: 0.2784127654323142\n",
      "R^2: 0.33863329468076686\n",
      "Mean Residual Deviance: 0.15769641572925394\n",
      "Null degrees of freedom: 12904\n",
      "Residual degrees of freedom: 12901\n",
      "Null deviance: 3077.4548876755243\n",
      "Residual deviance: 2035.072244986022\n",
      "AIC: 12796.190797913616\n"
     ]
    },
    {
     "data": {
      "text/plain": []
     },
     "execution_count": 14,
     "metadata": {},
     "output_type": "execute_result"
    }
   ],
   "source": [
    "aml.leader"
   ]
  },
  {
   "cell_type": "code",
   "execution_count": 22,
   "metadata": {},
   "outputs": [
    {
     "name": "stdout",
     "output_type": "stream",
     "text": [
      "stackedensemble prediction progress: |████████████████████████████████████| 100%\n"
     ]
    },
    {
     "data": {
      "text/html": [
       "<table>\n",
       "<thead>\n",
       "<tr><th style=\"text-align: right;\">  Number_of_News_Articles</th><th style=\"text-align: right;\">  Number_of_Founded_Organizations</th><th style=\"text-align: right;\">  Number_of_Portfolio_Companies</th><th style=\"text-align: right;\">  Number_of_Investments_x</th><th style=\"text-align: right;\">  Number_of_Partner_Investments</th><th style=\"text-align: right;\">  Number_of_Lead_Investments_x</th><th style=\"text-align: right;\">  Number_of_Exits_x</th><th style=\"text-align: right;\">  Number_of_Events_x</th><th style=\"text-align: right;\">  Number_of_Founders</th><th style=\"text-align: right;\">  Founded_Date</th><th style=\"text-align: right;\">  Gender</th><th>Headquarters_Location_  </th><th style=\"text-align: right;\">  Success</th><th style=\"text-align: right;\">  predict</th></tr>\n",
       "</thead>\n",
       "<tbody>\n",
       "<tr><td style=\"text-align: right;\">                    14445</td><td style=\"text-align: right;\">                                7</td><td style=\"text-align: right;\">                             11</td><td style=\"text-align: right;\">                       21</td><td style=\"text-align: right;\">                              0</td><td style=\"text-align: right;\">                             9</td><td style=\"text-align: right;\">                  6</td><td style=\"text-align: right;\">                   2</td><td style=\"text-align: right;\">                   4</td><td style=\"text-align: right;\">          2003</td><td style=\"text-align: right;\">       1</td><td>California              </td><td style=\"text-align: right;\">        1</td><td style=\"text-align: right;\">0.899756 </td></tr>\n",
       "<tr><td style=\"text-align: right;\">                      128</td><td style=\"text-align: right;\">                                1</td><td style=\"text-align: right;\">                              6</td><td style=\"text-align: right;\">                        7</td><td style=\"text-align: right;\">                              0</td><td style=\"text-align: right;\">                             0</td><td style=\"text-align: right;\">                  1</td><td style=\"text-align: right;\">                   5</td><td style=\"text-align: right;\">                   2</td><td style=\"text-align: right;\">          2006</td><td style=\"text-align: right;\">       1</td><td>California              </td><td style=\"text-align: right;\">        1</td><td style=\"text-align: right;\">0.987523 </td></tr>\n",
       "<tr><td style=\"text-align: right;\">                     3669</td><td style=\"text-align: right;\">                                1</td><td style=\"text-align: right;\">                             73</td><td style=\"text-align: right;\">                      101</td><td style=\"text-align: right;\">                              0</td><td style=\"text-align: right;\">                             3</td><td style=\"text-align: right;\">                 17</td><td style=\"text-align: right;\">                  19</td><td style=\"text-align: right;\">                   2</td><td style=\"text-align: right;\">          1999</td><td style=\"text-align: right;\">       1</td><td>California              </td><td style=\"text-align: right;\">        1</td><td style=\"text-align: right;\">0.950903 </td></tr>\n",
       "<tr><td style=\"text-align: right;\">                       90</td><td style=\"text-align: right;\">                                1</td><td style=\"text-align: right;\">                              0</td><td style=\"text-align: right;\">                        0</td><td style=\"text-align: right;\">                              0</td><td style=\"text-align: right;\">                             0</td><td style=\"text-align: right;\">                  0</td><td style=\"text-align: right;\">                   0</td><td style=\"text-align: right;\">                   2</td><td style=\"text-align: right;\">          1999</td><td style=\"text-align: right;\">       1</td><td>China                   </td><td style=\"text-align: right;\">        1</td><td style=\"text-align: right;\">1.01592  </td></tr>\n",
       "<tr><td style=\"text-align: right;\">                       48</td><td style=\"text-align: right;\">                                1</td><td style=\"text-align: right;\">                              3</td><td style=\"text-align: right;\">                        3</td><td style=\"text-align: right;\">                              0</td><td style=\"text-align: right;\">                             0</td><td style=\"text-align: right;\">                  2</td><td style=\"text-align: right;\">                   0</td><td style=\"text-align: right;\">                   3</td><td style=\"text-align: right;\">          2014</td><td style=\"text-align: right;\">       1</td><td>California              </td><td style=\"text-align: right;\">        1</td><td style=\"text-align: right;\">0.834022 </td></tr>\n",
       "<tr><td style=\"text-align: right;\">                      451</td><td style=\"text-align: right;\">                                1</td><td style=\"text-align: right;\">                              2</td><td style=\"text-align: right;\">                        3</td><td style=\"text-align: right;\">                              0</td><td style=\"text-align: right;\">                             0</td><td style=\"text-align: right;\">                  1</td><td style=\"text-align: right;\">                   2</td><td style=\"text-align: right;\">                   1</td><td style=\"text-align: right;\">          2014</td><td style=\"text-align: right;\">       1</td><td>New York                </td><td style=\"text-align: right;\">        1</td><td style=\"text-align: right;\">0.541971 </td></tr>\n",
       "<tr><td style=\"text-align: right;\">                     1330</td><td style=\"text-align: right;\">                                3</td><td style=\"text-align: right;\">                              1</td><td style=\"text-align: right;\">                        1</td><td style=\"text-align: right;\">                              0</td><td style=\"text-align: right;\">                             0</td><td style=\"text-align: right;\">                  0</td><td style=\"text-align: right;\">                  12</td><td style=\"text-align: right;\">                   1</td><td style=\"text-align: right;\">          2016</td><td style=\"text-align: right;\">       0</td><td>New York                </td><td style=\"text-align: right;\">        0</td><td style=\"text-align: right;\">0.277839 </td></tr>\n",
       "<tr><td style=\"text-align: right;\">                      436</td><td style=\"text-align: right;\">                                1</td><td style=\"text-align: right;\">                              0</td><td style=\"text-align: right;\">                        0</td><td style=\"text-align: right;\">                              0</td><td style=\"text-align: right;\">                             0</td><td style=\"text-align: right;\">                  0</td><td style=\"text-align: right;\">                   0</td><td style=\"text-align: right;\">                   1</td><td style=\"text-align: right;\">          2000</td><td style=\"text-align: right;\">       1</td><td>Massachusetts           </td><td style=\"text-align: right;\">        1</td><td style=\"text-align: right;\">0.987908 </td></tr>\n",
       "<tr><td style=\"text-align: right;\">                      234</td><td style=\"text-align: right;\">                                1</td><td style=\"text-align: right;\">                              3</td><td style=\"text-align: right;\">                        3</td><td style=\"text-align: right;\">                              0</td><td style=\"text-align: right;\">                             0</td><td style=\"text-align: right;\">                  0</td><td style=\"text-align: right;\">                   0</td><td style=\"text-align: right;\">                   5</td><td style=\"text-align: right;\">          2013</td><td style=\"text-align: right;\">       1</td><td>Nevada                  </td><td style=\"text-align: right;\">        0</td><td style=\"text-align: right;\">0.320035 </td></tr>\n",
       "<tr><td style=\"text-align: right;\">                        0</td><td style=\"text-align: right;\">                                3</td><td style=\"text-align: right;\">                              0</td><td style=\"text-align: right;\">                        0</td><td style=\"text-align: right;\">                              0</td><td style=\"text-align: right;\">                             0</td><td style=\"text-align: right;\">                  0</td><td style=\"text-align: right;\">                   0</td><td style=\"text-align: right;\">                   5</td><td style=\"text-align: right;\">          2013</td><td style=\"text-align: right;\">       1</td><td>Nevada                  </td><td style=\"text-align: right;\">        0</td><td style=\"text-align: right;\">0.0514043</td></tr>\n",
       "</tbody>\n",
       "</table>"
      ]
     },
     "metadata": {},
     "output_type": "display_data"
    },
    {
     "data": {
      "text/plain": []
     },
     "execution_count": 22,
     "metadata": {},
     "output_type": "execute_result"
    }
   ],
   "source": [
    "preds = aml.predict(test_data= test)\n",
    "\n",
    "preds.head(15)\n",
    "test.concat(preds)"
   ]
  },
  {
   "cell_type": "code",
   "execution_count": null,
   "metadata": {},
   "outputs": [],
   "source": []
  }
 ],
 "metadata": {
  "kernelspec": {
   "display_name": "Python 3",
   "language": "python",
   "name": "python3"
  },
  "language_info": {
   "codemirror_mode": {
    "name": "ipython",
    "version": 3
   },
   "file_extension": ".py",
   "mimetype": "text/x-python",
   "name": "python",
   "nbconvert_exporter": "python",
   "pygments_lexer": "ipython3",
   "version": "3.7.6"
  }
 },
 "nbformat": 4,
 "nbformat_minor": 4
}
