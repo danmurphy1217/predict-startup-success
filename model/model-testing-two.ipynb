{
 "cells": [
  {
   "cell_type": "code",
   "execution_count": 43,
   "metadata": {},
   "outputs": [],
   "source": [
    "import numpy as np\n",
    "import pandas as pd\n",
    "from sklearn.ensemble import RandomForestClassifier\n",
    "from sklearn.model_selection import train_test_split\n",
    "from sklearn.metrics import average_precision_score\n",
    "from sklearn.metrics import precision_recall_curve\n",
    "import matplotlib.pyplot as plt\n",
    "import xgboost\n",
    "from sklearn.metrics import accuracy_score"
   ]
  },
  {
   "cell_type": "markdown",
   "metadata": {},
   "source": [
    "# Load and Pre-Process the Data"
   ]
  },
  {
   "cell_type": "code",
   "execution_count": 44,
   "metadata": {},
   "outputs": [],
   "source": [
    "df = pd.read_csv('../data/founder_V0.3_founder.csv')"
   ]
  },
  {
   "cell_type": "code",
   "execution_count": 45,
   "metadata": {
    "scrolled": true
   },
   "outputs": [
    {
     "data": {
      "text/plain": [
       "Index(['Full_Name', 'Primary_Job_Title', 'Bio', 'Gender',\n",
       "       'Number_of_News_Articles', 'Number_of_Founded_Organizations',\n",
       "       'Number_of_Portfolio_Companies', 'Number_of_Investments_x',\n",
       "       'Number_of_Partner_Investments', 'Number_of_Lead_Investments_x',\n",
       "       'Number_of_Exits_x', 'Number_of_Events_x', 'Categories',\n",
       "       'Headquarters_Location_', 'Operating_Status', 'Founded_Date',\n",
       "       'Closed_Date', 'Company_Type', 'Number_of_Founders', 'Success',\n",
       "       'Founder'],\n",
       "      dtype='object')"
      ]
     },
     "execution_count": 45,
     "metadata": {},
     "output_type": "execute_result"
    }
   ],
   "source": [
    "df.columns = df.columns.str.replace(' ', '_')\n",
    "df.columns"
   ]
  },
  {
   "cell_type": "code",
   "execution_count": 46,
   "metadata": {},
   "outputs": [
    {
     "data": {
      "text/plain": [
       "(18361, 21)"
      ]
     },
     "execution_count": 46,
     "metadata": {},
     "output_type": "execute_result"
    }
   ],
   "source": [
    "df.shape"
   ]
  },
  {
   "cell_type": "code",
   "execution_count": 47,
   "metadata": {},
   "outputs": [],
   "source": [
    "filtered_df = df.drop(['Full_Name', 'Primary_Job_Title', 'Bio', 'Number_of_Portfolio_Companies', 'Number_of_Investments_x','Number_of_Partner_Investments', 'Number_of_Lead_Investments_x', 'Number_of_Events_x', 'Founded_Date', 'Closed_Date', 'Company_Type', 'Founder'], axis=1)\n"
   ]
  },
  {
   "cell_type": "code",
   "execution_count": 48,
   "metadata": {},
   "outputs": [
    {
     "name": "stdout",
     "output_type": "stream",
     "text": [
      "(18361, 9)\n"
     ]
    }
   ],
   "source": [
    "print(filtered_df.shape)"
   ]
  },
  {
   "cell_type": "code",
   "execution_count": 49,
   "metadata": {},
   "outputs": [
    {
     "name": "stdout",
     "output_type": "stream",
     "text": [
      "(18361, 584)\n"
     ]
    }
   ],
   "source": [
    "categories_dummy = df['Categories']\n",
    "categories_dummy = categories_dummy.str.split(',', expand=True)\n",
    "categories_dummy = categories_dummy[0]\n",
    "categories_dummy = pd.get_dummies(categories_dummy)\n",
    "print(categories_dummy.shape)"
   ]
  },
  {
   "cell_type": "code",
   "execution_count": 50,
   "metadata": {},
   "outputs": [
    {
     "name": "stdout",
     "output_type": "stream",
     "text": [
      "(18361, 593)\n"
     ]
    }
   ],
   "source": [
    "filtered_df = pd.concat([filtered_df, categories_dummy], axis=1)\n",
    "print(filtered_df.shape)"
   ]
  },
  {
   "cell_type": "code",
   "execution_count": 51,
   "metadata": {
    "scrolled": true
   },
   "outputs": [
    {
     "name": "stdout",
     "output_type": "stream",
     "text": [
      "(18361, 142)\n"
     ]
    }
   ],
   "source": [
    "hq_dummy = df['Headquarters_Location_']\n",
    "hq_dummy = pd.get_dummies(hq_dummy)\n",
    "print(hq_dummy.shape)"
   ]
  },
  {
   "cell_type": "code",
   "execution_count": 52,
   "metadata": {},
   "outputs": [
    {
     "name": "stdout",
     "output_type": "stream",
     "text": [
      "(18361, 735)\n"
     ]
    }
   ],
   "source": [
    "filtered_df = pd.concat([filtered_df, hq_dummy], axis=1)\n",
    "print(filtered_df.shape)"
   ]
  },
  {
   "cell_type": "code",
   "execution_count": 53,
   "metadata": {},
   "outputs": [
    {
     "name": "stdout",
     "output_type": "stream",
     "text": [
      "(18361, 733)\n"
     ]
    }
   ],
   "source": [
    "filtered_df = filtered_df.drop(['Headquarters_Location_', 'Categories'], axis=1)\n",
    "print(filtered_df.shape)"
   ]
  },
  {
   "cell_type": "markdown",
   "metadata": {},
   "source": [
    "# Inspecting the Dataset"
   ]
  },
  {
   "cell_type": "code",
   "execution_count": 64,
   "metadata": {},
   "outputs": [
    {
     "name": "stdout",
     "output_type": "stream",
     "text": [
      "Shape of X: (18361, 731)\n",
      "Shape of y: (18361,)\n"
     ]
    }
   ],
   "source": [
    "y = filtered_df['Success'].values\n",
    "X = filtered_df.drop('Success', axis=1)\n",
    "X = filtered_df.drop('0', axis=1)\n",
    "print(\"Shape of X: \" + str(X.values.shape))\n",
    "print(\"Shape of y: \" + str(y.shape))\n"
   ]
  },
  {
   "cell_type": "markdown",
   "metadata": {},
   "source": [
    "# Train & Test Split"
   ]
  },
  {
   "cell_type": "code",
   "execution_count": 65,
   "metadata": {},
   "outputs": [],
   "source": [
    "x_train, x_test, y_train, y_test = train_test_split(X, y, test_size = .3, random_state = 1234) "
   ]
  },
  {
   "cell_type": "markdown",
   "metadata": {},
   "source": [
    "### XGBoost"
   ]
  },
  {
   "cell_type": "code",
   "execution_count": 76,
   "metadata": {},
   "outputs": [
    {
     "name": "stdout",
     "output_type": "stream",
     "text": [
      "XGB testing data accuracy: 1.0\n"
     ]
    }
   ],
   "source": [
    "# instantiate\n",
    "xgb = xgboost.XGBRegressor()\n",
    "\n",
    "# fit the model to training data\n",
    "xgb.fit(x_train, y_train)\n",
    "\n",
    "# y prediction\n",
    "y_pred_xgb = xgb.predict(x_test)\n",
    "\n",
    "# xgb_score_TRAIN = accuracy_score(y_train, y_pred_xgb)\n",
    "xgb_score_TEST = accuracy_score(y_test, y_pred_xgb.round())\n",
    "\n",
    "# print(\"XGB training data accuracy: \" + str(xgb_score_TRAIN*100))\n",
    "print(\"XGB testing data accuracy: \" + str(xgb_score_TEST))"
   ]
  },
  {
   "cell_type": "code",
   "execution_count": 57,
   "metadata": {},
   "outputs": [
    {
     "data": {
      "text/html": [
       "<div>\n",
       "<style scoped>\n",
       "    .dataframe tbody tr th:only-of-type {\n",
       "        vertical-align: middle;\n",
       "    }\n",
       "\n",
       "    .dataframe tbody tr th {\n",
       "        vertical-align: top;\n",
       "    }\n",
       "\n",
       "    .dataframe thead th {\n",
       "        text-align: right;\n",
       "    }\n",
       "</style>\n",
       "<table border=\"1\" class=\"dataframe\">\n",
       "  <thead>\n",
       "    <tr style=\"text-align: right;\">\n",
       "      <th></th>\n",
       "      <th>feature</th>\n",
       "      <th>importance</th>\n",
       "    </tr>\n",
       "  </thead>\n",
       "  <tbody>\n",
       "    <tr>\n",
       "      <th>1</th>\n",
       "      <td>Number of News Articles</td>\n",
       "      <td>0.171992</td>\n",
       "    </tr>\n",
       "    <tr>\n",
       "      <th>5</th>\n",
       "      <td>Number of Founders</td>\n",
       "      <td>0.083332</td>\n",
       "    </tr>\n",
       "    <tr>\n",
       "      <th>2</th>\n",
       "      <td>Number of Founded Organizations</td>\n",
       "      <td>0.039341</td>\n",
       "    </tr>\n",
       "    <tr>\n",
       "      <th>607</th>\n",
       "      <td>California</td>\n",
       "      <td>0.019167</td>\n",
       "    </tr>\n",
       "    <tr>\n",
       "      <th>675</th>\n",
       "      <td>New York</td>\n",
       "      <td>0.013552</td>\n",
       "    </tr>\n",
       "    <tr>\n",
       "      <th>0</th>\n",
       "      <td>Gender</td>\n",
       "      <td>0.012226</td>\n",
       "    </tr>\n",
       "    <tr>\n",
       "      <th>612</th>\n",
       "      <td>China</td>\n",
       "      <td>0.010248</td>\n",
       "    </tr>\n",
       "    <tr>\n",
       "      <th>3</th>\n",
       "      <td>Number of Exits_x</td>\n",
       "      <td>0.009493</td>\n",
       "    </tr>\n",
       "    <tr>\n",
       "      <th>507</th>\n",
       "      <td>Software</td>\n",
       "      <td>0.009316</td>\n",
       "    </tr>\n",
       "    <tr>\n",
       "      <th>638</th>\n",
       "      <td>India</td>\n",
       "      <td>0.008903</td>\n",
       "    </tr>\n",
       "  </tbody>\n",
       "</table>\n",
       "</div>"
      ],
      "text/plain": [
       "                             feature  importance\n",
       "1            Number of News Articles    0.171992\n",
       "5                 Number of Founders    0.083332\n",
       "2    Number of Founded Organizations    0.039341\n",
       "607                       California    0.019167\n",
       "675                         New York    0.013552\n",
       "0                             Gender    0.012226\n",
       "612                            China    0.010248\n",
       "3                  Number of Exits_x    0.009493\n",
       "507                         Software    0.009316\n",
       "638                            India    0.008903"
      ]
     },
     "execution_count": 57,
     "metadata": {},
     "output_type": "execute_result"
    }
   ],
   "source": [
    "X = pd.DataFrame(X)\n",
    "rand_forest_feature_importance = pd.DataFrame({\n",
    "    'feature' : X.columns,\n",
    "    'importance': rand_forest.feature_importances_\n",
    "}).sort_values(by = 'importance', ascending=False)\n",
    "\n",
    "rand_forest_feature_importance[:10]"
   ]
  },
  {
   "cell_type": "markdown",
   "metadata": {},
   "source": [
    "# KNN"
   ]
  },
  {
   "cell_type": "code",
   "execution_count": 58,
   "metadata": {},
   "outputs": [
    {
     "name": "stdout",
     "output_type": "stream",
     "text": [
      "KNN Train Score: 68.45\n",
      "KNN Test Score: 66.78\n"
     ]
    }
   ],
   "source": [
    "from sklearn.neighbors import KNeighborsClassifier\n",
    "\n",
    "knn = KNeighborsClassifier(n_neighbors= int(np.sqrt(18361)))\n",
    "knn.fit(x_train, y_train)\n",
    "y_pred_KNN = knn.predict(x_test)\n",
    "\n",
    "knn_score_train = round(knn.score(x_train, y_train)*100, 2)\n",
    "knn_score_test =  round(knn.score(x_test, y_test)*100, 2)\n",
    "\n",
    "print(\"KNN Train Score: \" + str(knn_score_train))\n",
    "print(\"KNN Test Score: \" + str(knn_score_test))"
   ]
  },
  {
   "cell_type": "code",
   "execution_count": 59,
   "metadata": {},
   "outputs": [
    {
     "name": "stdout",
     "output_type": "stream",
     "text": [
      "Avg Precision Score: 0.4900233791769417\n"
     ]
    }
   ],
   "source": [
    "avg_precision_knn = average_precision_score(y_test, y_pred_KNN)\n",
    "print(\"Avg Precision Score: {}\".format(str(avg_precision_knn)))"
   ]
  },
  {
   "cell_type": "code",
   "execution_count": 60,
   "metadata": {},
   "outputs": [
    {
     "data": {
      "text/plain": [
       "Text(0.5, 0, 'Recall')"
      ]
     },
     "execution_count": 60,
     "metadata": {},
     "output_type": "execute_result"
    },
    {
     "data": {
      "image/png": "[encoded data removed]",
      "text/plain": [
       "<Figure size 432x288 with 1 Axes>"
      ]
     },
     "metadata": {
      "needs_background": "light"
     },
     "output_type": "display_data"
    }
   ],
   "source": [
    "precision, recall, _ = precision_recall_curve(y_test, y_pred_KNN)\n",
    "plt.step(recall, precision, where=\"post\")\n",
    "plt.fill_between(recall, precision, step=\"post\")\n",
    "plt.ylabel(\"Precision\")\n",
    "plt.xlabel(\"Recall\")"
   ]
  },
  {
   "cell_type": "code",
   "execution_count": null,
   "metadata": {},
   "outputs": [],
   "source": []
  }
 ],
 "metadata": {
  "kernelspec": {
   "display_name": "Python 3",
   "language": "python",
   "name": "python3"
  },
  "language_info": {
   "codemirror_mode": {
    "name": "ipython",
    "version": 3
   },
   "file_extension": ".py",
   "mimetype": "text/x-python",
   "name": "python",
   "nbconvert_exporter": "python",
   "pygments_lexer": "ipython3",
   "version": "3.7.6"
  }
 },
 "nbformat": 4,
 "nbformat_minor": 4
}
