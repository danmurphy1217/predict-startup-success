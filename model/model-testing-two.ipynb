{
 "cells": [
  {
   "cell_type": "code",
   "execution_count": 1,
   "metadata": {},
   "outputs": [],
   "source": [
    "import numpy as np\n",
    "import pandas as pd\n",
    "from sklearn.ensemble import RandomForestClassifier\n",
    "from sklearn.model_selection import train_test_split\n",
    "from sklearn.metrics import average_precision_score\n",
    "from sklearn.metrics import precision_recall_curve\n",
    "import matplotlib.pyplot as plt\n",
    "import xgboost as xgb\n",
    "from sklearn.metrics import precision_score, recall_score, accuracy_score\n",
    "import matplotlib.pyplot as plt\n",
    "from sklearn.model_selection import GridSearchCV\n",
    "from sklearn.model_selection import StratifiedKFold"
   ]
  },
  {
   "cell_type": "markdown",
   "metadata": {},
   "source": [
    "# Load and Pre-Process the Data"
   ]
  },
  {
   "cell_type": "code",
   "execution_count": 2,
   "metadata": {},
   "outputs": [],
   "source": [
    "raw_df = pd.read_csv('../data/founder_V0.3_founder.csv')"
   ]
  },
  {
   "cell_type": "code",
   "execution_count": 3,
   "metadata": {},
   "outputs": [
    {
     "data": {
      "text/plain": [
       "Index(['Full_Name', 'Primary_Job_Title', 'Bio', 'Gender',\n",
       "       'Number_of_News_Articles', 'Number_of_Founded_Organizations',\n",
       "       'Number_of_Portfolio_Companies', 'Number_of_Investments_x',\n",
       "       'Number_of_Partner_Investments', 'Number_of_Lead_Investments_x',\n",
       "       'Number_of_Exits_x', 'Number_of_Events_x', 'Categories',\n",
       "       'Headquarters_Location_', 'Operating_Status', 'Founded_Date',\n",
       "       'Closed_Date', 'Company_Type', 'Number_of_Founders', 'Success',\n",
       "       'Founder'],\n",
       "      dtype='object')"
      ]
     },
     "execution_count": 3,
     "metadata": {},
     "output_type": "execute_result"
    }
   ],
   "source": [
    "raw_df.columns = raw_df.columns.str.replace(' ', '_')\n",
    "raw_df.columns "
   ]
  },
  {
   "cell_type": "code",
   "execution_count": 4,
   "metadata": {},
   "outputs": [
    {
     "data": {
      "text/plain": [
       "(18361, 21)"
      ]
     },
     "execution_count": 4,
     "metadata": {},
     "output_type": "execute_result"
    }
   ],
   "source": [
    "raw_df.shape"
   ]
  },
  {
   "cell_type": "markdown",
   "metadata": {},
   "source": [
    "# Normalization"
   ]
  },
  {
   "cell_type": "code",
   "execution_count": 5,
   "metadata": {},
   "outputs": [],
   "source": [
    "raw_df['Number_of_News_Articles'] = raw_df['Number_of_News_Articles']/raw_df['Number_of_News_Articles'].max()"
   ]
  },
  {
   "cell_type": "code",
   "execution_count": 6,
   "metadata": {},
   "outputs": [],
   "source": [
    "raw_df['Number_of_Founded_Organizations'] = raw_df['Number_of_Founded_Organizations']/raw_df['Number_of_Founded_Organizations'].max()"
   ]
  },
  {
   "cell_type": "code",
   "execution_count": 7,
   "metadata": {},
   "outputs": [],
   "source": [
    "raw_df['Number_of_Portfolio_Companies'] = raw_df['Number_of_Portfolio_Companies']/raw_df['Number_of_Portfolio_Companies'].max()"
   ]
  },
  {
   "cell_type": "code",
   "execution_count": 8,
   "metadata": {},
   "outputs": [],
   "source": [
    "raw_df['Number_of_Investments_x'] = raw_df['Number_of_Investments_x'] / raw_df['Number_of_Investments_x'].max()"
   ]
  },
  {
   "cell_type": "code",
   "execution_count": 9,
   "metadata": {},
   "outputs": [],
   "source": [
    "raw_df['Number_of_Partner_Investments'] = raw_df['Number_of_Partner_Investments'] /raw_df['Number_of_Partner_Investments'].max()"
   ]
  },
  {
   "cell_type": "code",
   "execution_count": 10,
   "metadata": {},
   "outputs": [],
   "source": [
    "raw_df['Number_of_Lead_Investments_x'] = raw_df['Number_of_Lead_Investments_x']/ raw_df['Number_of_Lead_Investments_x'].max()"
   ]
  },
  {
   "cell_type": "code",
   "execution_count": 11,
   "metadata": {},
   "outputs": [],
   "source": [
    "raw_df['Number_of_Exits_x'] = raw_df['Number_of_Exits_x'] / raw_df['Number_of_Exits_x'].max()"
   ]
  },
  {
   "cell_type": "code",
   "execution_count": 12,
   "metadata": {},
   "outputs": [],
   "source": [
    "raw_df['Number_of_Events_x'] = raw_df['Number_of_Events_x']/ raw_df['Number_of_Events_x'].max()"
   ]
  },
  {
   "cell_type": "markdown",
   "metadata": {},
   "source": [
    "# OHE Headquarters & Clean the Categories Column"
   ]
  },
  {
   "cell_type": "markdown",
   "metadata": {},
   "source": [
    "### OHE Headqurters"
   ]
  },
  {
   "cell_type": "code",
   "execution_count": 13,
   "metadata": {},
   "outputs": [
    {
     "data": {
      "text/plain": [
       "(18361, 163)"
      ]
     },
     "execution_count": 13,
     "metadata": {},
     "output_type": "execute_result"
    }
   ],
   "source": [
    "country_Dummies = pd.get_dummies(raw_df['Headquarters_Location_'])\n",
    "raw_df_dummies = pd.concat([raw_df, country_Dummies], axis = 1)\n",
    "raw_df_dummies.shape\n"
   ]
  },
  {
   "cell_type": "markdown",
   "metadata": {},
   "source": [
    "### A Few Helpful Functions"
   ]
  },
  {
   "cell_type": "code",
   "execution_count": 14,
   "metadata": {},
   "outputs": [],
   "source": [
    "def get_unique_vals(column_name):\n",
    "    unique_arr = []\n",
    "    for val in raw_df_dummies[column_name].values:\n",
    "        arr = val.split(',')\n",
    "        for category in arr:\n",
    "            if category not in unique_arr:\n",
    "                unique_arr.append(category.strip())\n",
    "    return unique_arr"
   ]
  },
  {
   "cell_type": "code",
   "execution_count": 15,
   "metadata": {},
   "outputs": [],
   "source": [
    "def get_all_vals(column_name):\n",
    "    categories_arr = []\n",
    "    for val in raw_df_dummies[column_name].values:\n",
    "        arr = val.split(',')\n",
    "        categories_arr.append(arr[0].strip())\n",
    "    return categories_arr\n"
   ]
  },
  {
   "cell_type": "markdown",
   "metadata": {},
   "source": [
    "### Clean the Category Column\n",
    "#### 1. Create Needed DataFrames"
   ]
  },
  {
   "cell_type": "code",
   "execution_count": 16,
   "metadata": {},
   "outputs": [
    {
     "data": {
      "text/html": [
       "<div>\n",
       "<style scoped>\n",
       "    .dataframe tbody tr th:only-of-type {\n",
       "        vertical-align: middle;\n",
       "    }\n",
       "\n",
       "    .dataframe tbody tr th {\n",
       "        vertical-align: top;\n",
       "    }\n",
       "\n",
       "    .dataframe thead th {\n",
       "        text-align: right;\n",
       "    }\n",
       "</style>\n",
       "<table border=\"1\" class=\"dataframe\">\n",
       "  <thead>\n",
       "    <tr style=\"text-align: right;\">\n",
       "      <th></th>\n",
       "      <th>0</th>\n",
       "    </tr>\n",
       "  </thead>\n",
       "  <tbody>\n",
       "    <tr>\n",
       "      <th>Software</th>\n",
       "      <td>818</td>\n",
       "    </tr>\n",
       "    <tr>\n",
       "      <th>Health Care</th>\n",
       "      <td>532</td>\n",
       "    </tr>\n",
       "    <tr>\n",
       "      <th>Mobile</th>\n",
       "      <td>467</td>\n",
       "    </tr>\n",
       "    <tr>\n",
       "      <th>E-Commerce</th>\n",
       "      <td>400</td>\n",
       "    </tr>\n",
       "    <tr>\n",
       "      <th>Analytics</th>\n",
       "      <td>394</td>\n",
       "    </tr>\n",
       "    <tr>\n",
       "      <th>Internet</th>\n",
       "      <td>384</td>\n",
       "    </tr>\n",
       "    <tr>\n",
       "      <th>Enterprise Software</th>\n",
       "      <td>352</td>\n",
       "    </tr>\n",
       "    <tr>\n",
       "      <th>SaaS</th>\n",
       "      <td>308</td>\n",
       "    </tr>\n",
       "    <tr>\n",
       "      <th>0</th>\n",
       "      <td>306</td>\n",
       "    </tr>\n",
       "    <tr>\n",
       "      <th>Apps</th>\n",
       "      <td>288</td>\n",
       "    </tr>\n",
       "    <tr>\n",
       "      <th>Information Technology</th>\n",
       "      <td>282</td>\n",
       "    </tr>\n",
       "    <tr>\n",
       "      <th>FinTech</th>\n",
       "      <td>240</td>\n",
       "    </tr>\n",
       "    <tr>\n",
       "      <th>Medical</th>\n",
       "      <td>215</td>\n",
       "    </tr>\n",
       "    <tr>\n",
       "      <th>Artificial Intelligence</th>\n",
       "      <td>210</td>\n",
       "    </tr>\n",
       "    <tr>\n",
       "      <th>Real Estate</th>\n",
       "      <td>196</td>\n",
       "    </tr>\n",
       "  </tbody>\n",
       "</table>\n",
       "</div>"
      ],
      "text/plain": [
       "                           0\n",
       "Software                 818\n",
       "Health Care              532\n",
       "Mobile                   467\n",
       "E-Commerce               400\n",
       "Analytics                394\n",
       "Internet                 384\n",
       "Enterprise Software      352\n",
       "SaaS                     308\n",
       "0                        306\n",
       "Apps                     288\n",
       "Information Technology   282\n",
       "FinTech                  240\n",
       "Medical                  215\n",
       "Artificial Intelligence  210\n",
       "Real Estate              196"
      ]
     },
     "execution_count": 16,
     "metadata": {},
     "output_type": "execute_result"
    }
   ],
   "source": [
    "category_df = pd.Series(get_all_vals('Categories')) # all categories\n",
    "cat_counts_series =  pd.Series(pd.Series(get_all_vals('Categories')).value_counts()) # category counts\n",
    "cat_counts_df = pd.DataFrame(cat_counts_series)\n",
    "cat_counts_df = cat_counts_df.head(15)\n",
    "cat_counts_df"
   ]
  },
  {
   "cell_type": "markdown",
   "metadata": {},
   "source": [
    "### 2. Take top 10 Categories, Test if they're in each row, and convert the end values to 0/1"
   ]
  },
  {
   "cell_type": "code",
   "execution_count": 17,
   "metadata": {
    "scrolled": true
   },
   "outputs": [],
   "source": [
    "for cat in cat_counts_df.index:\n",
    "    category_bool = raw_df_dummies[\"Categories\"].apply(lambda x: cat in x)\n",
    "    raw_df_dummies[cat] = category_bool*1 # convert to True/False\n",
    "  "
   ]
  },
  {
   "cell_type": "markdown",
   "metadata": {},
   "source": [
    "# Next, make final changes and create **_clean_df_**"
   ]
  },
  {
   "cell_type": "code",
   "execution_count": 18,
   "metadata": {},
   "outputs": [],
   "source": [
    "raw_df_dummies['Gender'].value_counts() # 131 people responded 2\n",
    "index_names = raw_df_dummies[raw_df_dummies[\"Gender\"] == 2].index\n",
    "raw_df_dummies.drop(index_names, inplace=True)"
   ]
  },
  {
   "cell_type": "code",
   "execution_count": 19,
   "metadata": {},
   "outputs": [
    {
     "data": {
      "text/plain": [
       "(17900, 177)"
      ]
     },
     "execution_count": 19,
     "metadata": {},
     "output_type": "execute_result"
    }
   ],
   "source": [
    "df_filter_date = raw_df_dummies[raw_df_dummies['Founded_Date'] >= 1995]\n",
    "df_filter_date.shape"
   ]
  },
  {
   "cell_type": "code",
   "execution_count": 20,
   "metadata": {},
   "outputs": [
    {
     "data": {
      "text/html": [
       "<div>\n",
       "<style scoped>\n",
       "    .dataframe tbody tr th:only-of-type {\n",
       "        vertical-align: middle;\n",
       "    }\n",
       "\n",
       "    .dataframe tbody tr th {\n",
       "        vertical-align: top;\n",
       "    }\n",
       "\n",
       "    .dataframe thead th {\n",
       "        text-align: right;\n",
       "    }\n",
       "</style>\n",
       "<table border=\"1\" class=\"dataframe\">\n",
       "  <thead>\n",
       "    <tr style=\"text-align: right;\">\n",
       "      <th></th>\n",
       "      <th>Full_Name</th>\n",
       "      <th>Primary_Job_Title</th>\n",
       "      <th>Bio</th>\n",
       "      <th>Gender</th>\n",
       "      <th>Number_of_News_Articles</th>\n",
       "      <th>Number_of_Founded_Organizations</th>\n",
       "      <th>Number_of_Portfolio_Companies</th>\n",
       "      <th>Number_of_Investments_x</th>\n",
       "      <th>Number_of_Partner_Investments</th>\n",
       "      <th>Number_of_Lead_Investments_x</th>\n",
       "      <th>...</th>\n",
       "      <th>Analytics</th>\n",
       "      <th>Internet</th>\n",
       "      <th>Enterprise Software</th>\n",
       "      <th>SaaS</th>\n",
       "      <th>Apps</th>\n",
       "      <th>Information Technology</th>\n",
       "      <th>FinTech</th>\n",
       "      <th>Medical</th>\n",
       "      <th>Artificial Intelligence</th>\n",
       "      <th>Real Estate</th>\n",
       "    </tr>\n",
       "  </thead>\n",
       "  <tbody>\n",
       "    <tr>\n",
       "      <th>0</th>\n",
       "      <td>Elon Musk</td>\n",
       "      <td>Chairman, Product Architect &amp; CEO</td>\n",
       "      <td>Elon co-founded Tesla and continues to oversee...</td>\n",
       "      <td>1</td>\n",
       "      <td>0.734069</td>\n",
       "      <td>0.538462</td>\n",
       "      <td>0.112245</td>\n",
       "      <td>0.187500</td>\n",
       "      <td>0.0</td>\n",
       "      <td>1.0</td>\n",
       "      <td>...</td>\n",
       "      <td>0</td>\n",
       "      <td>0</td>\n",
       "      <td>0</td>\n",
       "      <td>0</td>\n",
       "      <td>0</td>\n",
       "      <td>0</td>\n",
       "      <td>0</td>\n",
       "      <td>0</td>\n",
       "      <td>0</td>\n",
       "      <td>0</td>\n",
       "    </tr>\n",
       "    <tr>\n",
       "      <th>1</th>\n",
       "      <td>JB Straubel</td>\n",
       "      <td>Co-Founder and CTO</td>\n",
       "      <td>The story of JB Straubel's career started at a...</td>\n",
       "      <td>1</td>\n",
       "      <td>0.005082</td>\n",
       "      <td>0.153846</td>\n",
       "      <td>0.010204</td>\n",
       "      <td>0.008929</td>\n",
       "      <td>0.0</td>\n",
       "      <td>0.0</td>\n",
       "      <td>...</td>\n",
       "      <td>0</td>\n",
       "      <td>0</td>\n",
       "      <td>0</td>\n",
       "      <td>0</td>\n",
       "      <td>0</td>\n",
       "      <td>0</td>\n",
       "      <td>0</td>\n",
       "      <td>0</td>\n",
       "      <td>0</td>\n",
       "      <td>0</td>\n",
       "    </tr>\n",
       "    <tr>\n",
       "      <th>2</th>\n",
       "      <td>Mark Zuckerberg</td>\n",
       "      <td>Founder &amp; CEO</td>\n",
       "      <td>Mark Zuckerberg is the founder and CEO of Face...</td>\n",
       "      <td>1</td>\n",
       "      <td>1.000000</td>\n",
       "      <td>0.769231</td>\n",
       "      <td>0.061224</td>\n",
       "      <td>0.062500</td>\n",
       "      <td>0.0</td>\n",
       "      <td>0.0</td>\n",
       "      <td>...</td>\n",
       "      <td>0</td>\n",
       "      <td>0</td>\n",
       "      <td>0</td>\n",
       "      <td>0</td>\n",
       "      <td>0</td>\n",
       "      <td>0</td>\n",
       "      <td>0</td>\n",
       "      <td>0</td>\n",
       "      <td>0</td>\n",
       "      <td>0</td>\n",
       "    </tr>\n",
       "    <tr>\n",
       "      <th>3</th>\n",
       "      <td>Ross Mason</td>\n",
       "      <td>Founder and VP of Product Strategy</td>\n",
       "      <td>Created the Mule Project, Founded MuleSoft, go...</td>\n",
       "      <td>1</td>\n",
       "      <td>0.006505</td>\n",
       "      <td>0.076923</td>\n",
       "      <td>0.061224</td>\n",
       "      <td>0.062500</td>\n",
       "      <td>0.0</td>\n",
       "      <td>0.0</td>\n",
       "      <td>...</td>\n",
       "      <td>0</td>\n",
       "      <td>0</td>\n",
       "      <td>1</td>\n",
       "      <td>0</td>\n",
       "      <td>1</td>\n",
       "      <td>0</td>\n",
       "      <td>1</td>\n",
       "      <td>0</td>\n",
       "      <td>0</td>\n",
       "      <td>0</td>\n",
       "    </tr>\n",
       "    <tr>\n",
       "      <th>4</th>\n",
       "      <td>Rahul Gandhi</td>\n",
       "      <td>Co-Founder &amp; SVP of Finance Operations</td>\n",
       "      <td>Rahul is a Co-founder &amp; Senior Vice President ...</td>\n",
       "      <td>1</td>\n",
       "      <td>0.043754</td>\n",
       "      <td>0.076923</td>\n",
       "      <td>0.000000</td>\n",
       "      <td>0.000000</td>\n",
       "      <td>0.0</td>\n",
       "      <td>0.0</td>\n",
       "      <td>...</td>\n",
       "      <td>0</td>\n",
       "      <td>1</td>\n",
       "      <td>0</td>\n",
       "      <td>0</td>\n",
       "      <td>0</td>\n",
       "      <td>0</td>\n",
       "      <td>0</td>\n",
       "      <td>0</td>\n",
       "      <td>0</td>\n",
       "      <td>0</td>\n",
       "    </tr>\n",
       "  </tbody>\n",
       "</table>\n",
       "<p>5 rows × 177 columns</p>\n",
       "</div>"
      ],
      "text/plain": [
       "         Full_Name                       Primary_Job_Title  \\\n",
       "0        Elon Musk       Chairman, Product Architect & CEO   \n",
       "1      JB Straubel                      Co-Founder and CTO   \n",
       "2  Mark Zuckerberg                           Founder & CEO   \n",
       "3       Ross Mason      Founder and VP of Product Strategy   \n",
       "4     Rahul Gandhi  Co-Founder & SVP of Finance Operations   \n",
       "\n",
       "                                                 Bio  Gender  \\\n",
       "0  Elon co-founded Tesla and continues to oversee...       1   \n",
       "1  The story of JB Straubel's career started at a...       1   \n",
       "2  Mark Zuckerberg is the founder and CEO of Face...       1   \n",
       "3  Created the Mule Project, Founded MuleSoft, go...       1   \n",
       "4  Rahul is a Co-founder & Senior Vice President ...       1   \n",
       "\n",
       "   Number_of_News_Articles  Number_of_Founded_Organizations  \\\n",
       "0                 0.734069                         0.538462   \n",
       "1                 0.005082                         0.153846   \n",
       "2                 1.000000                         0.769231   \n",
       "3                 0.006505                         0.076923   \n",
       "4                 0.043754                         0.076923   \n",
       "\n",
       "   Number_of_Portfolio_Companies  Number_of_Investments_x  \\\n",
       "0                       0.112245                 0.187500   \n",
       "1                       0.010204                 0.008929   \n",
       "2                       0.061224                 0.062500   \n",
       "3                       0.061224                 0.062500   \n",
       "4                       0.000000                 0.000000   \n",
       "\n",
       "   Number_of_Partner_Investments  Number_of_Lead_Investments_x  ...  \\\n",
       "0                            0.0                           1.0  ...   \n",
       "1                            0.0                           0.0  ...   \n",
       "2                            0.0                           0.0  ...   \n",
       "3                            0.0                           0.0  ...   \n",
       "4                            0.0                           0.0  ...   \n",
       "\n",
       "   Analytics  Internet Enterprise Software SaaS  Apps  Information Technology  \\\n",
       "0          0         0                   0    0     0                       0   \n",
       "1          0         0                   0    0     0                       0   \n",
       "2          0         0                   0    0     0                       0   \n",
       "3          0         0                   1    0     1                       0   \n",
       "4          0         1                   0    0     0                       0   \n",
       "\n",
       "   FinTech  Medical  Artificial Intelligence  Real Estate  \n",
       "0        0        0                        0            0  \n",
       "1        0        0                        0            0  \n",
       "2        0        0                        0            0  \n",
       "3        1        0                        0            0  \n",
       "4        0        0                        0            0  \n",
       "\n",
       "[5 rows x 177 columns]"
      ]
     },
     "execution_count": 20,
     "metadata": {},
     "output_type": "execute_result"
    }
   ],
   "source": [
    "clean_df = pd.DataFrame(df_filter_date)\n",
    "clean_df.head(5)"
   ]
  },
  {
   "cell_type": "code",
   "execution_count": 21,
   "metadata": {},
   "outputs": [
    {
     "data": {
      "text/plain": [
       "(17900, 166)"
      ]
     },
     "execution_count": 21,
     "metadata": {},
     "output_type": "execute_result"
    }
   ],
   "source": [
    "X = clean_df.drop(['Primary_Job_Title', 'Operating_Status', 'Company_Type', 'Success', 'Full_Name', 'Bio', 'Categories', 'Headquarters_Location_', 'Founder', 'Closed_Date', '0'], axis = 1)\n",
    "y = clean_df['Success'].values\n",
    "x_train, x_test, y_train, y_test = train_test_split(X, y, test_size = .2, random_state = 1234)\n",
    "X.shape\n"
   ]
  },
  {
   "cell_type": "markdown",
   "metadata": {},
   "source": [
    "# XGBoost"
   ]
  },
  {
   "cell_type": "code",
   "execution_count": 22,
   "metadata": {},
   "outputs": [
    {
     "name": "stdout",
     "output_type": "stream",
     "text": [
      "Train Accuracy: 90.608\n",
      "Test Accuracy: 79.413\n"
     ]
    }
   ],
   "source": [
    "xgb_classifier = xgb.XGBClassifier(n_estimators= 1000, objective='binary:logistic', booster='dart', learning_rate=.3, colsample_bytree=.3, reg_alpha= .3, random_state = 1234)\n",
    "xgb_classifier.fit(x_train, y_train)\n",
    "xgb_y_pred = xgb_classifier.predict(x_test)\n",
    "\n",
    "xgb_train_score = round(xgb_classifier.score(x_train, y_train)*100, 3)\n",
    "xgb_test_score = round(xgb_classifier.score(x_test, y_test)*100, 3)\n",
    "\n",
    "print(\"Train Accuracy: \" + str(xgb_train_score))\n",
    "print(\"Test Accuracy: \" + str(xgb_test_score))\n"
   ]
  },
  {
   "cell_type": "code",
   "execution_count": 26,
   "metadata": {},
   "outputs": [],
   "source": [
    "%%capture\n",
    "xgb.plot_importance(xgb_classifier)\n",
    "plt.rcParams['figure.figsize'] = [50, 30]"
   ]
  },
  {
   "cell_type": "code",
   "execution_count": 27,
   "metadata": {},
   "outputs": [
    {
     "data": {
      "text/plain": [
       "<Figure size 3600x2160 with 0 Axes>"
      ]
     },
     "metadata": {},
     "output_type": "display_data"
    }
   ],
   "source": [
    "plt.savefig(\"feature-importance.png\") #easier to inspect as image"
   ]
  },
  {
   "cell_type": "code",
   "execution_count": 28,
   "metadata": {
    "scrolled": true
   },
   "outputs": [
    {
     "name": "stdout",
     "output_type": "stream",
     "text": [
      "RMSE: 0.45372449987598146\n",
      "MSE: 0.2058659217877095\n"
     ]
    }
   ],
   "source": [
    "from sklearn.metrics import mean_squared_error\n",
    "rmse = np.sqrt(mean_squared_error(y_test, xgb_y_pred))\n",
    "\n",
    "print(\"RMSE: \" + str(rmse))\n",
    "print(\"MSE: \" + str(mean_squared_error(y_test, xgb_y_pred)))"
   ]
  },
  {
   "cell_type": "code",
   "execution_count": 29,
   "metadata": {},
   "outputs": [
    {
     "name": "stdout",
     "output_type": "stream",
     "text": [
      "{'objective': 'binary:hinge', 'base_score': 0.5, 'booster': 'gbtree', 'colsample_bylevel': 1, 'colsample_bynode': 1, 'colsample_bytree': 0.3, 'gamma': 0, 'gpu_id': -1, 'importance_type': 'gain', 'interaction_constraints': None, 'learning_rate': 0.3, 'max_delta_step': 0, 'max_depth': 5, 'min_child_weight': 1, 'missing': nan, 'monotone_constraints': None, 'n_estimators': 1000, 'n_jobs': 0, 'num_parallel_tree': 1, 'random_state': 1234, 'reg_alpha': 0.3, 'reg_lambda': 1, 'scale_pos_weight': 1, 'subsample': 1, 'tree_method': None, 'validate_parameters': False, 'verbosity': None}\n"
     ]
    }
   ],
   "source": [
    "params = {\n",
    "    'booster': ['gbtree', 'dart'],\n",
    "    'objective': ['binary:hinge', 'binary:logitraw'],\n",
    "    'max_depth': [4, 5, 6]\n",
    "}\n",
    "\n",
    "gs_clf_xgb = GridSearchCV(xgb_classifier, param_grid=params, \n",
    "                          cv=StratifiedKFold(n_splits=3), scoring='recall')\n",
    "gs_clf_xgb.fit(x_train, y_train)\n",
    "\n",
    "print(gs_clf_xgb.best_estimator_.get_params())"
   ]
  },
  {
   "cell_type": "markdown",
   "metadata": {},
   "source": [
    "# KNearestNeighbors"
   ]
  },
  {
   "cell_type": "code",
   "execution_count": 30,
   "metadata": {},
   "outputs": [
    {
     "name": "stdout",
     "output_type": "stream",
     "text": [
      "79.66\n",
      "76.12\n"
     ]
    }
   ],
   "source": [
    "from sklearn.neighbors import KNeighborsClassifier\n",
    "\n",
    "knn = KNeighborsClassifier(n_neighbors= 10, algorithm= 'auto', n_jobs=-1)\n",
    "\n",
    "knn.fit(x_train, y_train)\n",
    "\n",
    "knn_y_pred = knn.predict(x_test)\n",
    "\n",
    "knn_train_score = round(knn.score(x_train, y_train)*100, 2)\n",
    "knn_test_score = round(knn.score(x_test, y_test)*100, 2)\n",
    "\n",
    "print(knn_train_score)\n",
    "print(knn_test_score)\n"
   ]
  },
  {
   "cell_type": "code",
   "execution_count": 31,
   "metadata": {},
   "outputs": [
    {
     "name": "stdout",
     "output_type": "stream",
     "text": [
      "[0.7875, 0.7620810055865922, 0.7585893854748604, 0.7599860335195532, 0.7569832402234636, 0.7578910614525138, 0.7553072625698324, 0.7542597765363128, 0.7548882681564246, 0.7539804469273743, 0.7527932960893855, 0.7530027932960894]\n"
     ]
    }
   ],
   "source": [
    "from sklearn.model_selection import cross_val_score \n",
    "k_neighbor = list(range(1, 24, 2))\n",
    "\n",
    "cross_val_scores = []\n",
    "\n",
    "for k in k_neighbor:\n",
    "    knn = KNeighborsClassifier(n_neighbors=k)\n",
    "    scores = cross_val_score(knn, x_train, y_train, cv = 10, scoring = 'accuracy')\n",
    "    cross_val_scores.append(scores.mean())\n",
    "print(cross_val_scores)"
   ]
  },
  {
   "cell_type": "code",
   "execution_count": 32,
   "metadata": {},
   "outputs": [
    {
     "name": "stdout",
     "output_type": "stream",
     "text": [
      "0.7875\n"
     ]
    }
   ],
   "source": [
    "print(max(cross_val_scores))"
   ]
  },
  {
   "cell_type": "code",
   "execution_count": 33,
   "metadata": {},
   "outputs": [
    {
     "name": "stdout",
     "output_type": "stream",
     "text": [
      "Best value for n_neighbors: 1\n"
     ]
    }
   ],
   "source": [
    "misclassification_error = [1 - score for score in cross_val_scores]\n",
    "\n",
    "best_k = k_neighbor[misclassification_error.index(min(misclassification_error))]\n",
    "print(\"Best value for n_neighbors: \" + str(best_k))"
   ]
  },
  {
   "cell_type": "code",
   "execution_count": 34,
   "metadata": {},
   "outputs": [],
   "source": [
    "%%capture\n",
    "plt.plot(k_neighbor, misclassification_error)\n",
    "plt.xlabel(\"Number of Neighbors\")\n",
    "plt.ylabel(\"Misclassification Error\")\n",
    "plt.rcParams['figure.figsize'] = [5, 5]\n",
    "plt.savefig('knn-misclassification.png')"
   ]
  },
  {
   "cell_type": "markdown",
   "metadata": {},
   "source": [
    "# Decision Tree Classifier"
   ]
  },
  {
   "cell_type": "markdown",
   "metadata": {},
   "source": [
    "### Grid Search"
   ]
  },
  {
   "cell_type": "code",
   "execution_count": 36,
   "metadata": {},
   "outputs": [],
   "source": [
    "from sklearn.pipeline import Pipeline\n",
    "from sklearn.preprocessing import StandardScaler\n",
    "from sklearn.tree import DecisionTreeClassifier\n",
    "\n",
    "def decisionTreeGridSearch():\n",
    "    scaler = StandardScaler()\n",
    "    dt_clf = DecisionTreeClassifier()\n",
    "\n",
    "    pipe = Pipeline(\n",
    "        steps=[\n",
    "            ('scaler', scaler),\n",
    "            ('decisiontree', dt_clf)\n",
    "        ]\n",
    "    )\n",
    "\n",
    "    criterion = ['gini', 'entropy']\n",
    "    max_depth = [2, 4, 6, 8, 10, 12]\n",
    "    splitter = ['best', 'random']\n",
    "    max_features = ['auto', 'sqrt', 'log2']\n",
    "\n",
    "\n",
    "    params = dict(\n",
    "        decisiontree__criterion = criterion,\n",
    "        decisiontree__max_depth = max_depth,\n",
    "        decisiontree__splitter = splitter,\n",
    "        decisiontree__max_features = max_features\n",
    "    )\n",
    "\n",
    "    clf = GridSearchCV(pipe, params)\n",
    "\n",
    "    clf.fit(x_train, y_train)\n",
    "    return clf.best_estimator_.get_params()['decisiontree__criterion'], clf.best_estimator_.get_params()['decisiontree__max_depth'], clf.best_estimator_.get_params()['decisiontree__splitter'], clf.best_estimator_.get_params()['decisiontree__max_features']\n",
    "\n",
    "paramsToUse = decisionTreeGridSearch()\n",
    "\n"
   ]
  },
  {
   "cell_type": "markdown",
   "metadata": {},
   "source": [
    "### Use Best Params in Model"
   ]
  },
  {
   "cell_type": "code",
   "execution_count": 37,
   "metadata": {},
   "outputs": [
    {
     "name": "stdout",
     "output_type": "stream",
     "text": [
      "DecisionTreeClassifier TRAINING Score: 71.89\n",
      "DecisionTreeClassifier TESTING Score: 68.97\n"
     ]
    }
   ],
   "source": [
    "from sklearn.tree import DecisionTreeClassifier\n",
    "\n",
    "dt_clf = DecisionTreeClassifier(max_features=str(paramsToUse[3]), criterion= str(paramsToUse[0]), splitter= str(paramsToUse[2]), max_depth= int(paramsToUse[1]))\n",
    "\n",
    "dt_clf.fit(x_train, y_train)\n",
    "\n",
    "dt_y_pred = dt_clf.predict(x_test)\n",
    "\n",
    "dt_score_TRAIN = round(dt_clf.score(x_train, y_train)*100, 2)\n",
    "dt_score_TEST = round(dt_clf.score(x_test, y_test)*100, 2)\n",
    "\n",
    "print(\"{} TRAINING Score: \".format(str(dt_clf.__class__.__name__)) + str(dt_score_TRAIN))\n",
    "print(\"{} TESTING Score: \".format(str(dt_clf.__class__.__name__)) + str(dt_score_TEST))\n"
   ]
  },
  {
   "cell_type": "code",
   "execution_count": 38,
   "metadata": {},
   "outputs": [
    {
     "name": "stdout",
     "output_type": "stream",
     "text": [
      "DecisionTreeClassifier TRAINING Score: 98.07\n",
      "DecisionTreeClassifier TESTING Score: 74.16\n"
     ]
    }
   ],
   "source": [
    "from sklearn.tree import DecisionTreeClassifier\n",
    "\n",
    "dt_clf = DecisionTreeClassifier(max_features='log2', random_state=1234, criterion=\"entropy\", splitter=\"best\")\n",
    "\n",
    "dt_clf.fit(x_train, y_train)\n",
    "\n",
    "dt_y_pred = dt_clf.predict(x_test)\n",
    "\n",
    "dt_score_TRAIN = round(dt_clf.score(x_train, y_train)*100, 2)\n",
    "dt_score_TEST = round(dt_clf.score(x_test, y_test)*100, 2)\n",
    "\n",
    "print(\"{} TRAINING Score: \".format(str(dt_clf.__class__.__name__)) + str(dt_score_TRAIN))\n",
    "print(\"{} TESTING Score: \".format(str(dt_clf.__class__.__name__)) + str(dt_score_TEST))\n"
   ]
  },
  {
   "cell_type": "markdown",
   "metadata": {},
   "source": [
    "# Log Regression"
   ]
  },
  {
   "cell_type": "code",
   "execution_count": 39,
   "metadata": {},
   "outputs": [
    {
     "name": "stdout",
     "output_type": "stream",
     "text": [
      "LogisticRegression TRAINING Score: 62.81\n",
      "LogisticRegression TESTING Score: 63.85\n"
     ]
    }
   ],
   "source": [
    "from sklearn.linear_model import LogisticRegression\n",
    "\n",
    "log_clf = LogisticRegression()\n",
    "\n",
    "log_clf.fit(x_train, y_train)\n",
    "\n",
    "log_y_pred = log_clf.predict(x_test)\n",
    "\n",
    "log_score_TRAIN = round(log_clf.score(x_train, y_train)*100, 2)\n",
    "log_score_TEST = round(log_clf.score(x_test, y_test)*100, 2)\n",
    "\n",
    "print(\"{} TRAINING Score: \".format(str(log_clf.__class__.__name__)) + str(log_score_TRAIN))\n",
    "print(\"{} TESTING Score: \".format(str(log_clf.__class__.__name__)) + str(log_score_TEST))\n"
   ]
  },
  {
   "cell_type": "markdown",
   "metadata": {},
   "source": [
    "# Ensemble Model"
   ]
  },
  {
   "cell_type": "code",
   "execution_count": 40,
   "metadata": {},
   "outputs": [
    {
     "name": "stdout",
     "output_type": "stream",
     "text": [
      "92.66\n",
      "80.78\n",
      "\n",
      "\n",
      "RandomForestClassifier\n",
      "Accuracy: 0.8120111731843576\n",
      "RMSE: 0.43357678306805414\n",
      "MSE: 0.18798882681564247\n",
      "\n",
      "\n",
      "\n",
      "KNeighborsClassifier\n",
      "Accuracy: 0.7675977653631285\n",
      "RMSE: 0.4820811494311632\n",
      "MSE: 0.2324022346368715\n",
      "\n",
      "\n",
      "\n",
      "XGBClassifier\n",
      "Accuracy: 0.7835195530726257\n",
      "RMSE: 0.46527459303874985\n",
      "MSE: 0.2164804469273743\n",
      "\n",
      "\n",
      "\n",
      "VotingClassifier\n",
      "Accuracy: 0.8072625698324022\n",
      "RMSE: 0.4390187127761159\n",
      "MSE: 0.19273743016759776\n",
      "\n",
      "\n",
      "\n"
     ]
    }
   ],
   "source": [
    "from sklearn.ensemble import VotingClassifier\n",
    "\n",
    "rf_clf = RandomForestClassifier()\n",
    "knn_clf = KNeighborsClassifier()\n",
    "xgb_clf = xgb.XGBClassifier()\n",
    "# dt_clf = DecisionTreeClassifier()\n",
    "\n",
    "voting_clf = VotingClassifier(\n",
    "    estimators= [('rf', rf_clf), ('knn', knn_clf), ('xgb', xgb_clf)],\n",
    "    voting='soft' # more weight to highly confident votes\n",
    ")\n",
    "\n",
    "voting_clf.fit(x_train, y_train)\n",
    "voting_y_pred = voting_clf.predict(x_test)\n",
    "\n",
    "voting_train_score = round(voting_clf.score(x_train, y_train)*100, 2)\n",
    "voting_test_score = round(voting_clf.score(x_test, y_test)*100, 2)\n",
    "\n",
    "print(voting_train_score)\n",
    "print(voting_test_score)\n",
    "print(\"\\n\")\n",
    "\n",
    "for classifier in (rf_clf, knn_clf, xgb_clf, voting_clf):\n",
    "    classifier.fit(x_train, y_train)\n",
    "    y_pred = classifier.predict(x_test)\n",
    "    print(classifier.__class__.__name__)\n",
    "    print(\"Accuracy: \" + str(accuracy_score(y_test, y_pred)))\n",
    "    print(\"RMSE: \" + str(np.sqrt(mean_squared_error(y_test, y_pred))))\n",
    "    print(\"MSE: \" + str(mean_squared_error(y_test, y_pred)))\n",
    "    print('\\n\\n')\n",
    "\n",
    "# RMSE: Square root of the variance of the residuals\n",
    "# MSE: Variance of the residuals"
   ]
  },
  {
   "cell_type": "markdown",
   "metadata": {},
   "source": [
    "## To Do: Fix Overfitting"
   ]
  },
  {
   "cell_type": "markdown",
   "metadata": {},
   "source": [
    "# Confusion Matrix & AUC"
   ]
  },
  {
   "cell_type": "code",
   "execution_count": 42,
   "metadata": {
    "scrolled": true
   },
   "outputs": [
    {
     "name": "stdout",
     "output_type": "stream",
     "text": [
      "Confusion Matrix: ndarray 0\n",
      "[[1867  313]\n",
      " [ 424  976]]\n",
      "Confusion Matrix: ndarray 1\n",
      "[[1895  285]\n",
      " [ 570  830]]\n",
      "Confusion Matrix: ndarray 2\n",
      "[[1911  269]\n",
      " [1025  375]]\n",
      "Confusion Matrix: ndarray 3\n",
      "[[1905  275]\n",
      " [ 462  938]]\n",
      "Confusion Matrix: ndarray 4\n",
      "[[1753  427]\n",
      " [ 498  902]]\n"
     ]
    }
   ],
   "source": [
    "from sklearn.metrics import confusion_matrix\n",
    "\n",
    "i = 0\n",
    "model_predictions = [xgb_y_pred, knn_y_pred, log_y_pred, rf_y_pred, dt_y_pred]\n",
    "for pred in model_predictions:\n",
    "    print(\"Confusion Matrix: {}\".format(model_predictions[i].__class__.__name__) + \" \" + str(i) + str('\\n') + str(confusion_matrix(y_test, pred)))\n",
    "    i += 1\n",
    "\n"
   ]
  },
  {
   "cell_type": "code",
   "execution_count": 44,
   "metadata": {},
   "outputs": [
    {
     "name": "stdout",
     "output_type": "stream",
     "text": [
      "Predicted     0    1\n",
      "True                \n",
      "0          1867  313\n",
      "1           424  976\n",
      "Predicted     0    1\n",
      "True                \n",
      "0          1895  285\n",
      "1           570  830\n",
      "Predicted     0    1\n",
      "True                \n",
      "0          1911  269\n",
      "1          1025  375\n",
      "Predicted     0    1\n",
      "True                \n",
      "0          1905  275\n",
      "1           462  938\n",
      "Predicted     0    1\n",
      "True                \n",
      "0          1753  427\n",
      "1           498  902\n"
     ]
    }
   ],
   "source": [
    "model_predictions = [xgb_y_pred, knn_y_pred, log_y_pred, rf_y_pred, dt_y_pred]\n",
    "for pred in model_predictions:\n",
    "    print(pd.crosstab(y_test, pred, rownames=[\"True\"], colnames=[\"Predicted\"]))\n"
   ]
  },
  {
   "cell_type": "code",
   "execution_count": 46,
   "metadata": {},
   "outputs": [
    {
     "data": {
      "text/plain": [
       "Text(0.5, 1, 'Rand Forest Confusion Matrix')"
      ]
     },
     "execution_count": 46,
     "metadata": {},
     "output_type": "execute_result"
    },
    {
     "data": {
      "image/png": "[encoded data removed]",
      "text/plain": [
       "<Figure size 1080x720 with 11 Axes>"
      ]
     },
     "metadata": {
      "needs_background": "light"
     },
     "output_type": "display_data"
    }
   ],
   "source": [
    "import seaborn as sns\n",
    "\n",
    "plt.rcParams['figure.figsize'] = 15, 10\n",
    "\n",
    "figure, ([ax1, ax2, ax3], [ax4, ax5, ax6]) = plt.subplots(2, 3)\n",
    "plot1 = sns.heatmap(confusion_matrix(y_test, xgb_y_pred), ax = ax1)\n",
    "plot1.set_title('XGBoost Confusion Matrix')\n",
    "\n",
    "plot2 = sns.heatmap(confusion_matrix(y_test, knn_y_pred), ax = ax2)\n",
    "plot2.set_title('KNN Confusion Matrix')\n",
    "\n",
    "plot3 = sns.heatmap(confusion_matrix(y_test, log_y_pred), ax = ax3)\n",
    "plot3.set_title('Log Reg Confusion Matrix')\n",
    "\n",
    "#plot4 = sns.heatmap(confusion_matrix(y_test, gnb_y_pred), ax = ax4)\n",
    "#plot4.set_title('Gaussian NB Confusion Matrix')\n",
    "\n",
    "plot5 = sns.heatmap(confusion_matrix(y_test, dt_y_pred), ax = ax4)\n",
    "plot5.set_title('XGBoost Confusion Matrix')\n",
    "\n",
    "plot6 = sns.heatmap(confusion_matrix(y_test, rf_y_pred), ax = ax5)\n",
    "plot6.set_title('Rand Forest Confusion Matrix')"
   ]
  },
  {
   "cell_type": "code",
   "execution_count": 47,
   "metadata": {},
   "outputs": [
    {
     "name": "stdout",
     "output_type": "stream",
     "text": [
      "AUC: \n",
      "0.7914711664482307\n",
      "\n",
      "\n",
      "Receiver Operating Characteristic: \n",
      "(array([0.        , 0.13348624, 1.        ]), array([0.        , 0.71642857, 1.        ]), array([2, 1, 0]))\n"
     ]
    }
   ],
   "source": [
    "from sklearn.metrics import roc_auc_score, roc_curve, auc\n",
    "\n",
    "print(\"AUC: \\n{}\".format(roc_auc_score(y_test, voting_y_pred))) # 1.00 would be 100% correct model, 0.0 would be 100% wrong model\n",
    "print(\"\\n\")\n",
    "print(\"Receiver Operating Characteristic: \\n{}\".format(roc_curve(y_test, voting_y_pred)))"
   ]
  },
  {
   "cell_type": "code",
   "execution_count": 48,
   "metadata": {},
   "outputs": [
    {
     "name": "stdout",
     "output_type": "stream",
     "text": [
      "False Positive Rate: [0.         0.13348624 1.        ]\n",
      "True Positive Rate: [0.         0.71642857 1.        ]\n"
     ]
    },
    {
     "data": {
      "text/plain": [
       "[<matplotlib.lines.Line2D at 0x1a20d30690>]"
      ]
     },
     "execution_count": 48,
     "metadata": {},
     "output_type": "execute_result"
    },
    {
     "data": {
      "image/png": "[encoded data removed]",
      "text/plain": [
       "<Figure size 1080x720 with 1 Axes>"
      ]
     },
     "metadata": {
      "needs_background": "light"
     },
     "output_type": "display_data"
    }
   ],
   "source": [
    "fpr, tpr, threshold = roc_curve(y_test, voting_y_pred)\n",
    "\n",
    "print(\"False Positive Rate: {}\".format(fpr))\n",
    "print(\"True Positive Rate: {}\".format(tpr))\n",
    "\n",
    "roc_auc = auc(fpr, tpr)\n",
    "\n",
    "\n",
    "fig, ax = plt.subplots(ncols =1)\n",
    "\n",
    "\n",
    "plt.rcParams['figure.figsize'] = 10, 8\n",
    "plt.title(\"Receiver Operating Characteristic Curve\")\n",
    "plt.plot(fpr, tpr, 'b')\n",
    "plt.xlabel(\"True Positive Rate\")\n",
    "plt.ylabel(\"False Positive Rate\")\n",
    "plt.xlim([0,1])\n",
    "plt.ylim([0,1])\n",
    "\n",
    "x = np.linspace(*ax.get_xlim()) # 45 degree line to measure ROC...\n",
    "plt.plot(x, x, 'black')\n",
    "# The closer the ROC to the 45 degree line, the less accurate \n",
    "\n"
   ]
  },
  {
   "cell_type": "code",
   "execution_count": 49,
   "metadata": {},
   "outputs": [
    {
     "name": "stdout",
     "output_type": "stream",
     "text": [
      "0.7751159196290572\n"
     ]
    }
   ],
   "source": [
    "print(precision_score(y_test, voting_y_pred))"
   ]
  },
  {
   "cell_type": "code",
   "execution_count": null,
   "metadata": {},
   "outputs": [],
   "source": []
  }
 ],
 "metadata": {
  "kernelspec": {
   "display_name": "Python 3",
   "language": "python",
   "name": "python3"
  },
  "language_info": {
   "codemirror_mode": {
    "name": "ipython",
    "version": 3
   },
   "file_extension": ".py",
   "mimetype": "text/x-python",
   "name": "python",
   "nbconvert_exporter": "python",
   "pygments_lexer": "ipython3",
   "version": "3.7.7"
  }
 },
 "nbformat": 4,
 "nbformat_minor": 4
}
