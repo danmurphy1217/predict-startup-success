{
 "cells": [
  {
   "cell_type": "code",
   "execution_count": 84,
   "metadata": {},
   "outputs": [],
   "source": [
    "import numpy as np\n",
    "import pandas as pd\n",
    "from sklearn.ensemble import RandomForestClassifier\n",
    "from sklearn.model_selection import train_test_split\n",
    "from sklearn.metrics import average_precision_score\n",
    "from sklearn.metrics import precision_recall_curve\n",
    "import matplotlib.pyplot as plt\n",
    "# import xgboost as xgb\n",
    "from sklearn.metrics import precision_score, recall_score, accuracy_score\n",
    "# import graphviz\n",
    "import matplotlib.pyplot as plt"
   ]
  },
  {
   "cell_type": "markdown",
   "metadata": {},
   "source": [
    "# Load and Pre-Process the Data"
   ]
  },
  {
   "cell_type": "code",
   "execution_count": 85,
   "metadata": {},
   "outputs": [],
   "source": [
    "df = pd.read_csv('../data/founder_V0.3_founder.csv')"
   ]
  },
  {
   "cell_type": "code",
   "execution_count": 86,
   "metadata": {
    "scrolled": true
   },
   "outputs": [
    {
     "data": {
      "text/plain": [
       "Index(['Full_Name', 'Primary_Job_Title', 'Bio', 'Gender',\n",
       "       'Number_of_News_Articles', 'Number_of_Founded_Organizations',\n",
       "       'Number_of_Portfolio_Companies', 'Number_of_Investments_x',\n",
       "       'Number_of_Partner_Investments', 'Number_of_Lead_Investments_x',\n",
       "       'Number_of_Exits_x', 'Number_of_Events_x', 'Categories',\n",
       "       'Headquarters_Location_', 'Operating_Status', 'Founded_Date',\n",
       "       'Closed_Date', 'Company_Type', 'Number_of_Founders', 'Success',\n",
       "       'Founder'],\n",
       "      dtype='object')"
      ]
     },
     "execution_count": 86,
     "metadata": {},
     "output_type": "execute_result"
    }
   ],
   "source": [
    "df.columns = df.columns.str.replace(' ', '_')\n",
    "df.columns"
   ]
  },
  {
   "cell_type": "code",
   "execution_count": 87,
   "metadata": {},
   "outputs": [
    {
     "data": {
      "text/plain": [
       "(18361, 21)"
      ]
     },
     "execution_count": 87,
     "metadata": {},
     "output_type": "execute_result"
    }
   ],
   "source": [
    "df.shape"
   ]
  },
  {
   "cell_type": "markdown",
   "metadata": {},
   "source": [
    "# Normalization"
   ]
  },
  {
   "cell_type": "code",
   "execution_count": 88,
   "metadata": {},
   "outputs": [],
   "source": [
    "df['Number_of_News_Articles'] = df['Number_of_News_Articles']/df['Number_of_News_Articles'].max()"
   ]
  },
  {
   "cell_type": "code",
   "execution_count": 89,
   "metadata": {},
   "outputs": [],
   "source": [
    "df['Number_of_Founded_Organizations'] = df['Number_of_Founded_Organizations']/df['Number_of_Founded_Organizations'].max()"
   ]
  },
  {
   "cell_type": "code",
   "execution_count": 90,
   "metadata": {},
   "outputs": [],
   "source": [
    "df['Number_of_Portfolio_Companies'] = df['Number_of_Portfolio_Companies']/df['Number_of_Portfolio_Companies'].max()"
   ]
  },
  {
   "cell_type": "code",
   "execution_count": 91,
   "metadata": {},
   "outputs": [],
   "source": [
    "df['Number_of_Investments_x'] = df['Number_of_Investments_x'] / df['Number_of_Investments_x'].max()"
   ]
  },
  {
   "cell_type": "code",
   "execution_count": 92,
   "metadata": {},
   "outputs": [],
   "source": [
    "df['Number_of_Partner_Investments'] = df['Number_of_Partner_Investments'] /df['Number_of_Partner_Investments'].max()"
   ]
  },
  {
   "cell_type": "code",
   "execution_count": 93,
   "metadata": {},
   "outputs": [],
   "source": [
    "df['Number_of_Lead_Investments_x'] = df['Number_of_Lead_Investments_x']/ df['Number_of_Lead_Investments_x'].max()"
   ]
  },
  {
   "cell_type": "code",
   "execution_count": 94,
   "metadata": {},
   "outputs": [],
   "source": [
    "df['Number_of_Exits_x'] = df['Number_of_Exits_x'] / df['Number_of_Exits_x'].max()"
   ]
  },
  {
   "cell_type": "code",
   "execution_count": 95,
   "metadata": {},
   "outputs": [],
   "source": [
    "df['Number_of_Events_x'] = df['Number_of_Events_x']/ df['Number_of_Events_x'].max()"
   ]
  },
  {
   "cell_type": "markdown",
   "metadata": {},
   "source": [
    "### Convert HQ Locations to Frequency of that Location Across the Dataset"
   ]
  },
  {
   "cell_type": "code",
   "execution_count": 96,
   "metadata": {},
   "outputs": [
    {
     "name": "stdout",
     "output_type": "stream",
     "text": [
      "  Headquarters_Location_  count\n",
      "0             California   6592\n",
      "1               New York   1947\n",
      "2         United Kingdom   1062\n",
      "3                  India    934\n",
      "4          Massachusetts    736\n",
      "5                 Canada    503\n",
      "6                Germany    449\n",
      "7                 Israel    433\n",
      "8                  Texas    337\n",
      "9             Washington    322\n"
     ]
    }
   ],
   "source": [
    "hq_subset = df['Headquarters_Location_'].value_counts().reset_index(name = 'count').rename(columns = {'index':'Headquarters_Location_'})\n",
    "hq_subset = pd.DataFrame(hq_subset)\n",
    "print(hq_subset.head(10))\n"
   ]
  },
  {
   "cell_type": "code",
   "execution_count": 97,
   "metadata": {},
   "outputs": [
    {
     "data": {
      "text/html": [
       "<div>\n",
       "<style scoped>\n",
       "    .dataframe tbody tr th:only-of-type {\n",
       "        vertical-align: middle;\n",
       "    }\n",
       "\n",
       "    .dataframe tbody tr th {\n",
       "        vertical-align: top;\n",
       "    }\n",
       "\n",
       "    .dataframe thead th {\n",
       "        text-align: right;\n",
       "    }\n",
       "</style>\n",
       "<table border=\"1\" class=\"dataframe\">\n",
       "  <thead>\n",
       "    <tr style=\"text-align: right;\">\n",
       "      <th></th>\n",
       "      <th>Full_Name</th>\n",
       "      <th>Primary_Job_Title</th>\n",
       "      <th>Bio</th>\n",
       "      <th>Gender</th>\n",
       "      <th>Number_of_News_Articles</th>\n",
       "      <th>Number_of_Founded_Organizations</th>\n",
       "      <th>Number_of_Portfolio_Companies</th>\n",
       "      <th>Number_of_Investments_x</th>\n",
       "      <th>Number_of_Partner_Investments</th>\n",
       "      <th>Number_of_Lead_Investments_x</th>\n",
       "      <th>...</th>\n",
       "      <th>Categories</th>\n",
       "      <th>Headquarters_Location_</th>\n",
       "      <th>Operating_Status</th>\n",
       "      <th>Founded_Date</th>\n",
       "      <th>Closed_Date</th>\n",
       "      <th>Company_Type</th>\n",
       "      <th>Number_of_Founders</th>\n",
       "      <th>Success</th>\n",
       "      <th>Founder</th>\n",
       "      <th>count</th>\n",
       "    </tr>\n",
       "  </thead>\n",
       "  <tbody>\n",
       "    <tr>\n",
       "      <th>18356</th>\n",
       "      <td>Glenn Shimkus</td>\n",
       "      <td>Co-founder &amp; CEO</td>\n",
       "      <td>0</td>\n",
       "      <td>1</td>\n",
       "      <td>0.0</td>\n",
       "      <td>0.076923</td>\n",
       "      <td>0.0</td>\n",
       "      <td>0.0</td>\n",
       "      <td>0.0</td>\n",
       "      <td>0.0</td>\n",
       "      <td>...</td>\n",
       "      <td>Document Management, Transaction Processing, R...</td>\n",
       "      <td>Illinois</td>\n",
       "      <td>1</td>\n",
       "      <td>2009</td>\n",
       "      <td>0</td>\n",
       "      <td>0</td>\n",
       "      <td>2</td>\n",
       "      <td>1</td>\n",
       "      <td>1</td>\n",
       "      <td>273</td>\n",
       "    </tr>\n",
       "    <tr>\n",
       "      <th>18357</th>\n",
       "      <td>Douglas Keszler</td>\n",
       "      <td>Co-Founder</td>\n",
       "      <td>0</td>\n",
       "      <td>1</td>\n",
       "      <td>0.0</td>\n",
       "      <td>0.076923</td>\n",
       "      <td>0.0</td>\n",
       "      <td>0.0</td>\n",
       "      <td>0.0</td>\n",
       "      <td>0.0</td>\n",
       "      <td>...</td>\n",
       "      <td>Semiconductor, Electronics, Manufacturing</td>\n",
       "      <td>Oregon</td>\n",
       "      <td>1</td>\n",
       "      <td>2007</td>\n",
       "      <td>0</td>\n",
       "      <td>1</td>\n",
       "      <td>2</td>\n",
       "      <td>1</td>\n",
       "      <td>1</td>\n",
       "      <td>80</td>\n",
       "    </tr>\n",
       "    <tr>\n",
       "      <th>18358</th>\n",
       "      <td>Clark Johannson</td>\n",
       "      <td>Co-Founder &amp; Chief Technology Officer</td>\n",
       "      <td>0</td>\n",
       "      <td>1</td>\n",
       "      <td>0.0</td>\n",
       "      <td>0.076923</td>\n",
       "      <td>0.0</td>\n",
       "      <td>0.0</td>\n",
       "      <td>0.0</td>\n",
       "      <td>0.0</td>\n",
       "      <td>...</td>\n",
       "      <td>Peer to Peer, Construction, Social Network</td>\n",
       "      <td>Canada</td>\n",
       "      <td>1</td>\n",
       "      <td>2015</td>\n",
       "      <td>0</td>\n",
       "      <td>1</td>\n",
       "      <td>3</td>\n",
       "      <td>0</td>\n",
       "      <td>1</td>\n",
       "      <td>503</td>\n",
       "    </tr>\n",
       "    <tr>\n",
       "      <th>18359</th>\n",
       "      <td>Stefano Colonna</td>\n",
       "      <td>Founder</td>\n",
       "      <td>Digital serial entrepreneur.  Founded and mana...</td>\n",
       "      <td>1</td>\n",
       "      <td>0.0</td>\n",
       "      <td>0.076923</td>\n",
       "      <td>0.0</td>\n",
       "      <td>0.0</td>\n",
       "      <td>0.0</td>\n",
       "      <td>0.0</td>\n",
       "      <td>...</td>\n",
       "      <td>E-Commerce, Mobile, Mobile Payments</td>\n",
       "      <td>Massachusetts</td>\n",
       "      <td>1</td>\n",
       "      <td>2009</td>\n",
       "      <td>0</td>\n",
       "      <td>1</td>\n",
       "      <td>1</td>\n",
       "      <td>0</td>\n",
       "      <td>1</td>\n",
       "      <td>736</td>\n",
       "    </tr>\n",
       "    <tr>\n",
       "      <th>18360</th>\n",
       "      <td>Daniel Hoepfner</td>\n",
       "      <td>Founder</td>\n",
       "      <td>Daniel Hoepfner is founder and managing direct...</td>\n",
       "      <td>1</td>\n",
       "      <td>0.0</td>\n",
       "      <td>0.153846</td>\n",
       "      <td>0.0</td>\n",
       "      <td>0.0</td>\n",
       "      <td>0.0</td>\n",
       "      <td>0.0</td>\n",
       "      <td>...</td>\n",
       "      <td>Content Marketing, Mobile, Publishing, Digital...</td>\n",
       "      <td>Germany</td>\n",
       "      <td>1</td>\n",
       "      <td>2011</td>\n",
       "      <td>0</td>\n",
       "      <td>1</td>\n",
       "      <td>2</td>\n",
       "      <td>0</td>\n",
       "      <td>1</td>\n",
       "      <td>449</td>\n",
       "    </tr>\n",
       "  </tbody>\n",
       "</table>\n",
       "<p>5 rows × 22 columns</p>\n",
       "</div>"
      ],
      "text/plain": [
       "             Full_Name                      Primary_Job_Title  \\\n",
       "18356    Glenn Shimkus                       Co-founder & CEO   \n",
       "18357  Douglas Keszler                             Co-Founder   \n",
       "18358  Clark Johannson  Co-Founder & Chief Technology Officer   \n",
       "18359  Stefano Colonna                                Founder   \n",
       "18360  Daniel Hoepfner                                Founder   \n",
       "\n",
       "                                                     Bio  Gender  \\\n",
       "18356                                                  0       1   \n",
       "18357                                                  0       1   \n",
       "18358                                                  0       1   \n",
       "18359  Digital serial entrepreneur.  Founded and mana...       1   \n",
       "18360  Daniel Hoepfner is founder and managing direct...       1   \n",
       "\n",
       "       Number_of_News_Articles  Number_of_Founded_Organizations  \\\n",
       "18356                      0.0                         0.076923   \n",
       "18357                      0.0                         0.076923   \n",
       "18358                      0.0                         0.076923   \n",
       "18359                      0.0                         0.076923   \n",
       "18360                      0.0                         0.153846   \n",
       "\n",
       "       Number_of_Portfolio_Companies  Number_of_Investments_x  \\\n",
       "18356                            0.0                      0.0   \n",
       "18357                            0.0                      0.0   \n",
       "18358                            0.0                      0.0   \n",
       "18359                            0.0                      0.0   \n",
       "18360                            0.0                      0.0   \n",
       "\n",
       "       Number_of_Partner_Investments  Number_of_Lead_Investments_x  ...  \\\n",
       "18356                            0.0                           0.0  ...   \n",
       "18357                            0.0                           0.0  ...   \n",
       "18358                            0.0                           0.0  ...   \n",
       "18359                            0.0                           0.0  ...   \n",
       "18360                            0.0                           0.0  ...   \n",
       "\n",
       "                                              Categories  \\\n",
       "18356  Document Management, Transaction Processing, R...   \n",
       "18357          Semiconductor, Electronics, Manufacturing   \n",
       "18358         Peer to Peer, Construction, Social Network   \n",
       "18359                E-Commerce, Mobile, Mobile Payments   \n",
       "18360  Content Marketing, Mobile, Publishing, Digital...   \n",
       "\n",
       "       Headquarters_Location_ Operating_Status Founded_Date  Closed_Date  \\\n",
       "18356                Illinois                1         2009            0   \n",
       "18357                  Oregon                1         2007            0   \n",
       "18358                  Canada                1         2015            0   \n",
       "18359           Massachusetts                1         2009            0   \n",
       "18360                 Germany                1         2011            0   \n",
       "\n",
       "       Company_Type  Number_of_Founders  Success  Founder  count  \n",
       "18356             0                   2        1        1    273  \n",
       "18357             1                   2        1        1     80  \n",
       "18358             1                   3        0        1    503  \n",
       "18359             1                   1        0        1    736  \n",
       "18360             1                   2        0        1    449  \n",
       "\n",
       "[5 rows x 22 columns]"
      ]
     },
     "execution_count": 97,
     "metadata": {},
     "output_type": "execute_result"
    }
   ],
   "source": [
    "df = pd.merge(df, hq_subset, on='Headquarters_Location_', how=\"left\")\n",
    "df.tail(5)"
   ]
  },
  {
   "cell_type": "code",
   "execution_count": 98,
   "metadata": {},
   "outputs": [],
   "source": [
    "# set Headquarters_Location_ equal to the count column\n",
    "df['Headquarters_Location_'] = df['count']\n",
    "df = df.drop(['count', 'Closed_Date', 'Full_Name', 'Founder', 'Bio', 'Categories'], axis = 1)\n",
    "df['Gender'] = df['Gender'].astype(int)\n"
   ]
  },
  {
   "cell_type": "code",
   "execution_count": 101,
   "metadata": {},
   "outputs": [],
   "source": [
    "df['Gender'].value_counts() # 131 people responded 2\n",
    "index_names = df[df[\"Gender\"] == 2].index\n",
    "df.drop(index_names, inplace=True)"
   ]
  },
  {
   "cell_type": "code",
   "execution_count": 106,
   "metadata": {},
   "outputs": [
    {
     "data": {
      "text/plain": [
       "(18230, 16)"
      ]
     },
     "execution_count": 106,
     "metadata": {},
     "output_type": "execute_result"
    }
   ],
   "source": [
    "clean_df = pd.DataFrame(df)\n",
    "clean_df.shape"
   ]
  },
  {
   "cell_type": "code",
   "execution_count": null,
   "metadata": {},
   "outputs": [],
   "source": []
  },
  {
   "cell_type": "code",
   "execution_count": null,
   "metadata": {},
   "outputs": [],
   "source": []
  },
  {
   "cell_type": "code",
   "execution_count": null,
   "metadata": {},
   "outputs": [],
   "source": []
  },
  {
   "cell_type": "code",
   "execution_count": 9,
   "metadata": {},
   "outputs": [
    {
     "name": "stdout",
     "output_type": "stream",
     "text": [
      "(18361, 9)\n"
     ]
    }
   ],
   "source": [
    "print(filtered_df.shape)\n",
    "if '0' in filtered_df.columns:\n",
    "    print('T')"
   ]
  },
  {
   "cell_type": "code",
   "execution_count": 10,
   "metadata": {
    "scrolled": false
   },
   "outputs": [
    {
     "name": "stdout",
     "output_type": "stream",
     "text": [
      "(18361, 584)\n"
     ]
    }
   ],
   "source": [
    "categories = df['Categories']\n",
    "split_categories = categories.str.split(',', expand=True)\n",
    "categories_firstCol = split_categories.iloc[:, 0]\n",
    "category_type_dummies = pd.get_dummies(categories_firstCol)\n",
    "print(category_type_dummies.shape)"
   ]
  },
  {
   "cell_type": "code",
   "execution_count": 11,
   "metadata": {},
   "outputs": [
    {
     "name": "stdout",
     "output_type": "stream",
     "text": [
      "(18361, 593)\n",
      "True\n",
      "(18361, 592)\n"
     ]
    }
   ],
   "source": [
    "filtered_df = pd.concat([filtered_df, category_type_dummies], axis=1)\n",
    "print(filtered_df.shape)\n",
    "for colName in filtered_df.columns:\n",
    "    if colName == '0':\n",
    "        print('True')\n",
    "\n",
    "filtered_df = filtered_df.drop(['0'], axis = 1)\n",
    "print(filtered_df.shape)"
   ]
  },
  {
   "cell_type": "code",
   "execution_count": 12,
   "metadata": {
    "scrolled": true
   },
   "outputs": [
    {
     "name": "stdout",
     "output_type": "stream",
     "text": [
      "(18361, 142)\n",
      "(18361, 141)\n"
     ]
    }
   ],
   "source": [
    "hq = df['Headquarters_Location_']\n",
    "hq_dummies = pd.get_dummies(hq)\n",
    "print(hq_dummies.shape)\n",
    "\n",
    "hq_dummies = hq_dummies.drop(['0'], axis = 1)\n",
    "print(hq_dummies.shape)"
   ]
  },
  {
   "cell_type": "code",
   "execution_count": 13,
   "metadata": {},
   "outputs": [
    {
     "name": "stdout",
     "output_type": "stream",
     "text": [
      "(18361, 733)\n"
     ]
    }
   ],
   "source": [
    "filtered_df = pd.concat([filtered_df, hq_dummies], axis=1)\n",
    "print(filtered_df.shape)"
   ]
  },
  {
   "cell_type": "code",
   "execution_count": 14,
   "metadata": {},
   "outputs": [
    {
     "name": "stdout",
     "output_type": "stream",
     "text": [
      "Index(['Gender', 'Number_of_News_Articles', 'Number_of_Founded_Organizations',\n",
      "       'Number_of_Exits_x', 'Operating_Status', 'Number_of_Founders',\n",
      "       'Success', '3D Printing', '3D Technology', 'A/B Testing', 'Accounting',\n",
      "       'Ad Network', 'Ad Retargeting', 'Ad Targeting', 'Advanced Materials',\n",
      "       'Adventure Travel', 'Advertising', 'Advertising Platforms', 'Advice',\n",
      "       'Aerospace', 'Affiliate Marketing', 'AgTech', 'Agriculture',\n",
      "       'Air Transportation', 'Alternative Medicine'],\n",
      "      dtype='object')\n",
      "(18361, 731)\n"
     ]
    }
   ],
   "source": [
    "# Drop the initial columns\n",
    "filtered_df = filtered_df.drop(['Headquarters_Location_', 'Categories'], axis=1)\n",
    "print(filtered_df.columns[:25])\n",
    "# filtered_df = filtered_df.drop(['0'], axis = 1)\n",
    "print(filtered_df.shape)"
   ]
  },
  {
   "cell_type": "markdown",
   "metadata": {},
   "source": [
    "# Inspecting the Dataset"
   ]
  },
  {
   "cell_type": "code",
   "execution_count": 15,
   "metadata": {
    "scrolled": true
   },
   "outputs": [
    {
     "name": "stdout",
     "output_type": "stream",
     "text": [
      "Shape of X: (18361, 730)\n",
      "Shape of y: (18361,)\n"
     ]
    }
   ],
   "source": [
    "y = filtered_df['Success'].values\n",
    "X = filtered_df.drop('Success', axis=1)\n",
    "print(\"Shape of X: \" + str(X.values.shape))\n",
    "print(\"Shape of y: \" + str(y.shape))\n"
   ]
  },
  {
   "cell_type": "markdown",
   "metadata": {},
   "source": [
    "### Train & Test Split"
   ]
  },
  {
   "cell_type": "code",
   "execution_count": 18,
   "metadata": {},
   "outputs": [],
   "source": [
    "x_train, x_test, y_train, y_test = train_test_split(X, y, test_size = .3, random_state = 123) \n"
   ]
  },
  {
   "cell_type": "markdown",
   "metadata": {},
   "source": [
    "### Create a dMatrix"
   ]
  },
  {
   "cell_type": "markdown",
   "metadata": {},
   "source": [
    "### XGBoost"
   ]
  },
  {
   "cell_type": "code",
   "execution_count": 52,
   "metadata": {},
   "outputs": [
    {
     "name": "stdout",
     "output_type": "stream",
     "text": [
      "XGB testing data accuracy: 0.6966781630059902\n"
     ]
    }
   ],
   "source": [
    "# instantiate\n",
    "xgb_reg = xgb.XGBRegressor(objective='binary:logistic', learning_rate=.3, colsample_bytree=.3, reg_alpha= 9)\n",
    "\n",
    "# fit the model to training data\n",
    "xgb_reg.fit(x_train, y_train)\n",
    "\n",
    "# y prediction\n",
    "y_pred_xgb = xgb_reg.predict(x_test)\n",
    "\n",
    "xgb_score_TEST = accuracy_score(y_test, y_pred_xgb.round())\n",
    "\n",
    "print(\"XGB testing data accuracy: \" + str(xgb_score_TEST))"
   ]
  },
  {
   "cell_type": "code",
   "execution_count": 53,
   "metadata": {},
   "outputs": [
    {
     "name": "stdout",
     "output_type": "stream",
     "text": [
      "RMSE: 0.4494758165169884\n",
      "MSE: 0.20202850963361346\n"
     ]
    }
   ],
   "source": [
    "from sklearn.metrics import mean_squared_error\n",
    "rmse = np.sqrt(mean_squared_error(y_test, y_pred_xgb))\n",
    "\n",
    "print(\"RMSE: \" + str(rmse))\n",
    "print(\"MSE: \" + str(mean_squared_error(y_test, y_pred_xgb)))"
   ]
  },
  {
   "cell_type": "code",
   "execution_count": 54,
   "metadata": {},
   "outputs": [],
   "source": [
    "params = {\n",
    "    \"objective\": \"binary:logistic\", # classification, dependent has two levels 0 and 1\n",
    "    \"colsame_bytree\": .3,\n",
    "    \"learning_rate\": .3,\n",
    "    \"reg_alpha\":9,\n",
    "}\n",
    "\n",
    "cv_results = xgb.cv(dtrain = data_dMatrix, params=params, nfold = 5, metrics=\"rmse\", num_boost_round = 50, early_stopping_rounds = 5,as_pandas = True)"
   ]
  },
  {
   "cell_type": "code",
   "execution_count": 55,
   "metadata": {},
   "outputs": [
    {
     "name": "stdout",
     "output_type": "stream",
     "text": [
      "49    0.451171\n",
      "Name: test-rmse-mean, dtype: float64\n"
     ]
    }
   ],
   "source": [
    "print(cv_results['test-rmse-mean'].tail(1))"
   ]
  },
  {
   "cell_type": "code",
   "execution_count": 43,
   "metadata": {},
   "outputs": [],
   "source": [
    "xgb_reg = xgb.train(params=params, dtrain= data_dMatrix, num_boost_round=10)"
   ]
  },
  {
   "cell_type": "code",
   "execution_count": 58,
   "metadata": {},
   "outputs": [
    {
     "data": {
      "image/png": "[encoded data removed]",
      "text/plain": [
       "<Figure size 3600x2880 with 1 Axes>"
      ]
     },
     "metadata": {
      "needs_background": "light"
     },
     "output_type": "display_data"
    }
   ],
   "source": [
    "xgb.plot_importance(xgb_reg)\n",
    "plt.rcParams['figure.figsize'] = [50, 40]\n",
    "plt.show()"
   ]
  },
  {
   "cell_type": "code",
   "execution_count": null,
   "metadata": {},
   "outputs": [],
   "source": []
  }
 ],
 "metadata": {
  "kernelspec": {
   "display_name": "Python 3",
   "language": "python",
   "name": "python3"
  },
  "language_info": {
   "codemirror_mode": {
    "name": "ipython",
    "version": 3
   },
   "file_extension": ".py",
   "mimetype": "text/x-python",
   "name": "python",
   "nbconvert_exporter": "python",
   "pygments_lexer": "ipython3",
   "version": "3.7.7"
  }
 },
 "nbformat": 4,
 "nbformat_minor": 4
}
