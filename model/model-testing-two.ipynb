{
 "cells": [
  {
   "cell_type": "code",
   "execution_count": 170,
   "metadata": {},
   "outputs": [],
   "source": [
    "import numpy as np\n",
    "import pandas as pd\n",
    "from sklearn.ensemble import RandomForestClassifier\n",
    "from sklearn.model_selection import train_test_split\n",
    "from sklearn.metrics import average_precision_score\n",
    "from sklearn.metrics import precision_recall_curve\n",
    "import matplotlib.pyplot as plt\n",
    "import xgboost as xgb\n",
    "from sklearn.metrics import precision_score, recall_score, accuracy_score\n",
    "import matplotlib.pyplot as plt"
   ]
  },
  {
   "cell_type": "markdown",
   "metadata": {},
   "source": [
    "# Load and Pre-Process the Data"
   ]
  },
  {
   "cell_type": "code",
   "execution_count": 171,
   "metadata": {},
   "outputs": [],
   "source": [
    "df = pd.read_csv('../data/founder_V0.3_founder.csv')"
   ]
  },
  {
   "cell_type": "code",
   "execution_count": 172,
   "metadata": {},
   "outputs": [
    {
     "data": {
      "text/plain": [
       "Index(['Full_Name', 'Primary_Job_Title', 'Bio', 'Gender',\n",
       "       'Number_of_News_Articles', 'Number_of_Founded_Organizations',\n",
       "       'Number_of_Portfolio_Companies', 'Number_of_Investments_x',\n",
       "       'Number_of_Partner_Investments', 'Number_of_Lead_Investments_x',\n",
       "       'Number_of_Exits_x', 'Number_of_Events_x', 'Categories',\n",
       "       'Headquarters_Location_', 'Operating_Status', 'Founded_Date',\n",
       "       'Closed_Date', 'Company_Type', 'Number_of_Founders', 'Success',\n",
       "       'Founder'],\n",
       "      dtype='object')"
      ]
     },
     "execution_count": 172,
     "metadata": {},
     "output_type": "execute_result"
    }
   ],
   "source": [
    "df.columns = df.columns.str.replace(' ', '_')\n",
    "df.columns "
   ]
  },
  {
   "cell_type": "code",
   "execution_count": 173,
   "metadata": {},
   "outputs": [
    {
     "data": {
      "text/plain": [
       "(18361, 21)"
      ]
     },
     "execution_count": 173,
     "metadata": {},
     "output_type": "execute_result"
    }
   ],
   "source": [
    "df.shape"
   ]
  },
  {
   "cell_type": "markdown",
   "metadata": {},
   "source": [
    "# Normalization"
   ]
  },
  {
   "cell_type": "code",
   "execution_count": 174,
   "metadata": {},
   "outputs": [],
   "source": [
    "df['Number_of_News_Articles'] = df['Number_of_News_Articles']/df['Number_of_News_Articles'].max()"
   ]
  },
  {
   "cell_type": "code",
   "execution_count": 175,
   "metadata": {},
   "outputs": [],
   "source": [
    "df['Number_of_Founded_Organizations'] = df['Number_of_Founded_Organizations']/df['Number_of_Founded_Organizations'].max()"
   ]
  },
  {
   "cell_type": "code",
   "execution_count": 176,
   "metadata": {},
   "outputs": [],
   "source": [
    "df['Number_of_Portfolio_Companies'] = df['Number_of_Portfolio_Companies']/df['Number_of_Portfolio_Companies'].max()"
   ]
  },
  {
   "cell_type": "code",
   "execution_count": 177,
   "metadata": {},
   "outputs": [],
   "source": [
    "df['Number_of_Investments_x'] = df['Number_of_Investments_x'] / df['Number_of_Investments_x'].max()"
   ]
  },
  {
   "cell_type": "code",
   "execution_count": 178,
   "metadata": {},
   "outputs": [],
   "source": [
    "df['Number_of_Partner_Investments'] = df['Number_of_Partner_Investments'] /df['Number_of_Partner_Investments'].max()"
   ]
  },
  {
   "cell_type": "code",
   "execution_count": 179,
   "metadata": {},
   "outputs": [],
   "source": [
    "df['Number_of_Lead_Investments_x'] = df['Number_of_Lead_Investments_x']/ df['Number_of_Lead_Investments_x'].max()"
   ]
  },
  {
   "cell_type": "code",
   "execution_count": 180,
   "metadata": {},
   "outputs": [],
   "source": [
    "df['Number_of_Exits_x'] = df['Number_of_Exits_x'] / df['Number_of_Exits_x'].max()"
   ]
  },
  {
   "cell_type": "code",
   "execution_count": 181,
   "metadata": {},
   "outputs": [],
   "source": [
    "df['Number_of_Events_x'] = df['Number_of_Events_x']/ df['Number_of_Events_x'].max()"
   ]
  },
  {
   "cell_type": "markdown",
   "metadata": {},
   "source": [
    "# OHE Headquarters & Clean the Categories Column"
   ]
  },
  {
   "cell_type": "markdown",
   "metadata": {},
   "source": [
    "### OHE Headqurters"
   ]
  },
  {
   "cell_type": "code",
   "execution_count": 182,
   "metadata": {},
   "outputs": [
    {
     "data": {
      "text/plain": [
       "(18361, 163)"
      ]
     },
     "execution_count": 182,
     "metadata": {},
     "output_type": "execute_result"
    }
   ],
   "source": [
    "country_Dummies = pd.get_dummies(df['Headquarters_Location_'])\n",
    "df = pd.concat([df, country_Dummies], axis = 1)\n",
    "df.shape\n"
   ]
  },
  {
   "cell_type": "markdown",
   "metadata": {},
   "source": [
    "### A Few Helpful Functions"
   ]
  },
  {
   "cell_type": "code",
   "execution_count": 183,
   "metadata": {},
   "outputs": [],
   "source": [
    "def get_unique_vals(column_name):\n",
    "    unique_arr = []\n",
    "    for val in df[column_name].values:\n",
    "        arr = val.split(',')\n",
    "        for category in arr:\n",
    "            if category not in unique_arr:\n",
    "                unique_arr.append(category.strip())\n",
    "    return unique_arr"
   ]
  },
  {
   "cell_type": "code",
   "execution_count": 184,
   "metadata": {},
   "outputs": [],
   "source": [
    "def get_all_vals(column_name):\n",
    "    categories_arr = []\n",
    "    for val in df[column_name].values:\n",
    "        arr = val.split(',')\n",
    "        categories_arr.append(arr[0].strip())\n",
    "    return categories_arr\n"
   ]
  },
  {
   "cell_type": "markdown",
   "metadata": {},
   "source": [
    "### Clean the Category Column\n",
    "#### 1. Create Needed DataFrames"
   ]
  },
  {
   "cell_type": "code",
   "execution_count": 185,
   "metadata": {},
   "outputs": [
    {
     "data": {
      "text/html": [
       "<div>\n",
       "<style scoped>\n",
       "    .dataframe tbody tr th:only-of-type {\n",
       "        vertical-align: middle;\n",
       "    }\n",
       "\n",
       "    .dataframe tbody tr th {\n",
       "        vertical-align: top;\n",
       "    }\n",
       "\n",
       "    .dataframe thead th {\n",
       "        text-align: right;\n",
       "    }\n",
       "</style>\n",
       "<table border=\"1\" class=\"dataframe\">\n",
       "  <thead>\n",
       "    <tr style=\"text-align: right;\">\n",
       "      <th></th>\n",
       "      <th>0</th>\n",
       "    </tr>\n",
       "  </thead>\n",
       "  <tbody>\n",
       "    <tr>\n",
       "      <th>Software</th>\n",
       "      <td>818</td>\n",
       "    </tr>\n",
       "    <tr>\n",
       "      <th>Health Care</th>\n",
       "      <td>532</td>\n",
       "    </tr>\n",
       "    <tr>\n",
       "      <th>Mobile</th>\n",
       "      <td>467</td>\n",
       "    </tr>\n",
       "    <tr>\n",
       "      <th>E-Commerce</th>\n",
       "      <td>400</td>\n",
       "    </tr>\n",
       "    <tr>\n",
       "      <th>Analytics</th>\n",
       "      <td>394</td>\n",
       "    </tr>\n",
       "    <tr>\n",
       "      <th>Internet</th>\n",
       "      <td>384</td>\n",
       "    </tr>\n",
       "    <tr>\n",
       "      <th>Enterprise Software</th>\n",
       "      <td>352</td>\n",
       "    </tr>\n",
       "    <tr>\n",
       "      <th>SaaS</th>\n",
       "      <td>308</td>\n",
       "    </tr>\n",
       "    <tr>\n",
       "      <th>0</th>\n",
       "      <td>306</td>\n",
       "    </tr>\n",
       "    <tr>\n",
       "      <th>Apps</th>\n",
       "      <td>288</td>\n",
       "    </tr>\n",
       "  </tbody>\n",
       "</table>\n",
       "</div>"
      ],
      "text/plain": [
       "                       0\n",
       "Software             818\n",
       "Health Care          532\n",
       "Mobile               467\n",
       "E-Commerce           400\n",
       "Analytics            394\n",
       "Internet             384\n",
       "Enterprise Software  352\n",
       "SaaS                 308\n",
       "0                    306\n",
       "Apps                 288"
      ]
     },
     "execution_count": 185,
     "metadata": {},
     "output_type": "execute_result"
    }
   ],
   "source": [
    "category_df = pd.Series(get_all_vals('Categories')) # all categories\n",
    "counts_df =  pd.Series(pd.Series(get_all_vals('Categories')).value_counts()) # category counts\n",
    "counts_df = pd.DataFrame(counts_df)\n",
    "counts_df = counts_df.head(10)\n",
    "counts_df"
   ]
  },
  {
   "cell_type": "markdown",
   "metadata": {},
   "source": [
    "### 2. Take top 10 Categories, Test if they're in each row, and convert the end values to 0/1"
   ]
  },
  {
   "cell_type": "code",
   "execution_count": 198,
   "metadata": {
    "scrolled": true
   },
   "outputs": [],
   "source": [
    "for cat in counts_df.index:\n",
    "    category_bool = df[\"Categories\"].apply(lambda x: cat in x)\n",
    "    df[cat] = category_bool*1 # convert to True/False\n",
    "  "
   ]
  },
  {
   "cell_type": "markdown",
   "metadata": {},
   "source": [
    "# Next, make final changes and create **_clean_df_**"
   ]
  },
  {
   "cell_type": "code",
   "execution_count": 199,
   "metadata": {},
   "outputs": [],
   "source": [
    "df['Gender'].value_counts() # 131 people responded 2\n",
    "index_names = df[df[\"Gender\"] == 2].index\n",
    "df.drop(index_names, inplace=True)"
   ]
  },
  {
   "cell_type": "code",
   "execution_count": 208,
   "metadata": {},
   "outputs": [
    {
     "data": {
      "text/plain": [
       "(17900, 172)"
      ]
     },
     "execution_count": 208,
     "metadata": {},
     "output_type": "execute_result"
    }
   ],
   "source": [
    "df_filter_date = df[df['Founded_Date'] >= 1995]\n",
    "df_filter_date.shape"
   ]
  },
  {
   "cell_type": "code",
   "execution_count": 209,
   "metadata": {},
   "outputs": [
    {
     "data": {
      "text/html": [
       "<div>\n",
       "<style scoped>\n",
       "    .dataframe tbody tr th:only-of-type {\n",
       "        vertical-align: middle;\n",
       "    }\n",
       "\n",
       "    .dataframe tbody tr th {\n",
       "        vertical-align: top;\n",
       "    }\n",
       "\n",
       "    .dataframe thead th {\n",
       "        text-align: right;\n",
       "    }\n",
       "</style>\n",
       "<table border=\"1\" class=\"dataframe\">\n",
       "  <thead>\n",
       "    <tr style=\"text-align: right;\">\n",
       "      <th></th>\n",
       "      <th>Full_Name</th>\n",
       "      <th>Primary_Job_Title</th>\n",
       "      <th>Bio</th>\n",
       "      <th>Gender</th>\n",
       "      <th>Number_of_News_Articles</th>\n",
       "      <th>Number_of_Founded_Organizations</th>\n",
       "      <th>Number_of_Portfolio_Companies</th>\n",
       "      <th>Number_of_Investments_x</th>\n",
       "      <th>Number_of_Partner_Investments</th>\n",
       "      <th>Number_of_Lead_Investments_x</th>\n",
       "      <th>...</th>\n",
       "      <th>United Kingdom</th>\n",
       "      <th>Software</th>\n",
       "      <th>Health Care</th>\n",
       "      <th>Mobile</th>\n",
       "      <th>E-Commerce</th>\n",
       "      <th>Analytics</th>\n",
       "      <th>Internet</th>\n",
       "      <th>Enterprise Software</th>\n",
       "      <th>SaaS</th>\n",
       "      <th>Apps</th>\n",
       "    </tr>\n",
       "  </thead>\n",
       "  <tbody>\n",
       "    <tr>\n",
       "      <th>0</th>\n",
       "      <td>Elon Musk</td>\n",
       "      <td>Chairman, Product Architect &amp; CEO</td>\n",
       "      <td>Elon co-founded Tesla and continues to oversee...</td>\n",
       "      <td>1</td>\n",
       "      <td>0.734069</td>\n",
       "      <td>0.538462</td>\n",
       "      <td>0.112245</td>\n",
       "      <td>0.187500</td>\n",
       "      <td>0.0</td>\n",
       "      <td>1.0</td>\n",
       "      <td>...</td>\n",
       "      <td>0</td>\n",
       "      <td>0</td>\n",
       "      <td>0</td>\n",
       "      <td>0</td>\n",
       "      <td>0</td>\n",
       "      <td>0</td>\n",
       "      <td>0</td>\n",
       "      <td>0</td>\n",
       "      <td>0</td>\n",
       "      <td>0</td>\n",
       "    </tr>\n",
       "    <tr>\n",
       "      <th>1</th>\n",
       "      <td>JB Straubel</td>\n",
       "      <td>Co-Founder and CTO</td>\n",
       "      <td>The story of JB Straubel's career started at a...</td>\n",
       "      <td>1</td>\n",
       "      <td>0.005082</td>\n",
       "      <td>0.153846</td>\n",
       "      <td>0.010204</td>\n",
       "      <td>0.008929</td>\n",
       "      <td>0.0</td>\n",
       "      <td>0.0</td>\n",
       "      <td>...</td>\n",
       "      <td>0</td>\n",
       "      <td>0</td>\n",
       "      <td>0</td>\n",
       "      <td>0</td>\n",
       "      <td>0</td>\n",
       "      <td>0</td>\n",
       "      <td>0</td>\n",
       "      <td>0</td>\n",
       "      <td>0</td>\n",
       "      <td>0</td>\n",
       "    </tr>\n",
       "    <tr>\n",
       "      <th>2</th>\n",
       "      <td>Mark Zuckerberg</td>\n",
       "      <td>Founder &amp; CEO</td>\n",
       "      <td>Mark Zuckerberg is the founder and CEO of Face...</td>\n",
       "      <td>1</td>\n",
       "      <td>1.000000</td>\n",
       "      <td>0.769231</td>\n",
       "      <td>0.061224</td>\n",
       "      <td>0.062500</td>\n",
       "      <td>0.0</td>\n",
       "      <td>0.0</td>\n",
       "      <td>...</td>\n",
       "      <td>0</td>\n",
       "      <td>0</td>\n",
       "      <td>0</td>\n",
       "      <td>0</td>\n",
       "      <td>0</td>\n",
       "      <td>0</td>\n",
       "      <td>0</td>\n",
       "      <td>0</td>\n",
       "      <td>0</td>\n",
       "      <td>0</td>\n",
       "    </tr>\n",
       "    <tr>\n",
       "      <th>3</th>\n",
       "      <td>Ross Mason</td>\n",
       "      <td>Founder and VP of Product Strategy</td>\n",
       "      <td>Created the Mule Project, Founded MuleSoft, go...</td>\n",
       "      <td>1</td>\n",
       "      <td>0.006505</td>\n",
       "      <td>0.076923</td>\n",
       "      <td>0.061224</td>\n",
       "      <td>0.062500</td>\n",
       "      <td>0.0</td>\n",
       "      <td>0.0</td>\n",
       "      <td>...</td>\n",
       "      <td>0</td>\n",
       "      <td>1</td>\n",
       "      <td>0</td>\n",
       "      <td>0</td>\n",
       "      <td>0</td>\n",
       "      <td>0</td>\n",
       "      <td>0</td>\n",
       "      <td>1</td>\n",
       "      <td>0</td>\n",
       "      <td>1</td>\n",
       "    </tr>\n",
       "    <tr>\n",
       "      <th>4</th>\n",
       "      <td>Rahul Gandhi</td>\n",
       "      <td>Co-Founder &amp; SVP of Finance Operations</td>\n",
       "      <td>Rahul is a Co-founder &amp; Senior Vice President ...</td>\n",
       "      <td>1</td>\n",
       "      <td>0.043754</td>\n",
       "      <td>0.076923</td>\n",
       "      <td>0.000000</td>\n",
       "      <td>0.000000</td>\n",
       "      <td>0.0</td>\n",
       "      <td>0.0</td>\n",
       "      <td>...</td>\n",
       "      <td>0</td>\n",
       "      <td>0</td>\n",
       "      <td>0</td>\n",
       "      <td>0</td>\n",
       "      <td>1</td>\n",
       "      <td>0</td>\n",
       "      <td>1</td>\n",
       "      <td>0</td>\n",
       "      <td>0</td>\n",
       "      <td>0</td>\n",
       "    </tr>\n",
       "  </tbody>\n",
       "</table>\n",
       "<p>5 rows × 172 columns</p>\n",
       "</div>"
      ],
      "text/plain": [
       "         Full_Name                       Primary_Job_Title  \\\n",
       "0        Elon Musk       Chairman, Product Architect & CEO   \n",
       "1      JB Straubel                      Co-Founder and CTO   \n",
       "2  Mark Zuckerberg                           Founder & CEO   \n",
       "3       Ross Mason      Founder and VP of Product Strategy   \n",
       "4     Rahul Gandhi  Co-Founder & SVP of Finance Operations   \n",
       "\n",
       "                                                 Bio  Gender  \\\n",
       "0  Elon co-founded Tesla and continues to oversee...       1   \n",
       "1  The story of JB Straubel's career started at a...       1   \n",
       "2  Mark Zuckerberg is the founder and CEO of Face...       1   \n",
       "3  Created the Mule Project, Founded MuleSoft, go...       1   \n",
       "4  Rahul is a Co-founder & Senior Vice President ...       1   \n",
       "\n",
       "   Number_of_News_Articles  Number_of_Founded_Organizations  \\\n",
       "0                 0.734069                         0.538462   \n",
       "1                 0.005082                         0.153846   \n",
       "2                 1.000000                         0.769231   \n",
       "3                 0.006505                         0.076923   \n",
       "4                 0.043754                         0.076923   \n",
       "\n",
       "   Number_of_Portfolio_Companies  Number_of_Investments_x  \\\n",
       "0                       0.112245                 0.187500   \n",
       "1                       0.010204                 0.008929   \n",
       "2                       0.061224                 0.062500   \n",
       "3                       0.061224                 0.062500   \n",
       "4                       0.000000                 0.000000   \n",
       "\n",
       "   Number_of_Partner_Investments  Number_of_Lead_Investments_x  ...  \\\n",
       "0                            0.0                           1.0  ...   \n",
       "1                            0.0                           0.0  ...   \n",
       "2                            0.0                           0.0  ...   \n",
       "3                            0.0                           0.0  ...   \n",
       "4                            0.0                           0.0  ...   \n",
       "\n",
       "   United Kingdom  Software Health Care Mobile  E-Commerce  Analytics  \\\n",
       "0               0         0           0      0           0          0   \n",
       "1               0         0           0      0           0          0   \n",
       "2               0         0           0      0           0          0   \n",
       "3               0         1           0      0           0          0   \n",
       "4               0         0           0      0           1          0   \n",
       "\n",
       "   Internet  Enterprise Software  SaaS  Apps  \n",
       "0         0                    0     0     0  \n",
       "1         0                    0     0     0  \n",
       "2         0                    0     0     0  \n",
       "3         0                    1     0     1  \n",
       "4         1                    0     0     0  \n",
       "\n",
       "[5 rows x 172 columns]"
      ]
     },
     "execution_count": 209,
     "metadata": {},
     "output_type": "execute_result"
    }
   ],
   "source": [
    "clean_df = pd.DataFrame(df_filter_date)\n",
    "clean_df.head(5)"
   ]
  },
  {
   "cell_type": "code",
   "execution_count": 210,
   "metadata": {},
   "outputs": [
    {
     "data": {
      "text/plain": [
       "(17900, 161)"
      ]
     },
     "execution_count": 210,
     "metadata": {},
     "output_type": "execute_result"
    }
   ],
   "source": [
    "X = clean_df.drop(['Primary_Job_Title', 'Operating_Status', 'Company_Type', 'Success', 'Full_Name', 'Bio', 'Categories', 'Headquarters_Location_', 'Founder', 'Closed_Date', '0'], axis = 1)\n",
    "y = clean_df['Success'].values\n",
    "x_train, x_test, y_train, y_test = train_test_split(X, y, test_size = .2, random_state = 1234)\n",
    "X.shape\n"
   ]
  },
  {
   "cell_type": "markdown",
   "metadata": {},
   "source": [
    "# XGBoost"
   ]
  },
  {
   "cell_type": "code",
   "execution_count": 211,
   "metadata": {},
   "outputs": [
    {
     "name": "stdout",
     "output_type": "stream",
     "text": [
      "Train Accuracy: 82.249\n",
      "Test Accuracy: 77.682\n"
     ]
    }
   ],
   "source": [
    "xgb_classifier = xgb.XGBClassifier(n_estimators= 1000, objective='binary:logistic', booster='gbtree', learning_rate=.3, colsample_bytree=.3, reg_alpha= .3, random_state = 1234)\n",
    "xgb_classifier.fit(x_train, y_train)\n",
    "xgb_y_pred = xgb_classifier.predict(x_test)\n",
    "\n",
    "xgb_train_score = round(xgb_classifier.score(x_train, y_train)*100, 3)\n",
    "xgb_test_score = round(xgb_classifier.score(x_test, y_test)*100, 3)\n",
    "\n",
    "print(\"Train Accuracy: \" + str(xgb_train_score))\n",
    "print(\"Test Accuracy: \" + str(xgb_test_score))\n"
   ]
  },
  {
   "cell_type": "code",
   "execution_count": 213,
   "metadata": {},
   "outputs": [],
   "source": [
    "%%capture\n",
    "xgb.plot_importance(xgb_classifier)\n",
    "plt.rcParams['figure.figsize'] = [50, 30]\n",
    "plt.savefig(\"feature-importance.png\") #easier to inspect as image"
   ]
  },
  {
   "cell_type": "code",
   "execution_count": 214,
   "metadata": {},
   "outputs": [
    {
     "name": "stdout",
     "output_type": "stream",
     "text": [
      "RMSE: 0.4724239171992665\n",
      "MSE: 0.22318435754189944\n"
     ]
    }
   ],
   "source": [
    "from sklearn.metrics import mean_squared_error\n",
    "rmse = np.sqrt(mean_squared_error(y_test, xgb_y_pred))\n",
    "\n",
    "print(\"RMSE: \" + str(rmse))\n",
    "print(\"MSE: \" + str(mean_squared_error(y_test, xgb_y_pred)))"
   ]
  },
  {
   "cell_type": "markdown",
   "metadata": {},
   "source": [
    "# KNearestNeighbors"
   ]
  },
  {
   "cell_type": "code",
   "execution_count": 215,
   "metadata": {},
   "outputs": [
    {
     "name": "stdout",
     "output_type": "stream",
     "text": [
      "79.34\n",
      "76.09\n"
     ]
    }
   ],
   "source": [
    "from sklearn.neighbors import KNeighborsClassifier\n",
    "\n",
    "knn = KNeighborsClassifier(n_neighbors= 10, algorithm= 'auto', n_jobs=-1)\n",
    "\n",
    "knn.fit(x_train, y_train)\n",
    "\n",
    "knn_y_pred = knn.predict(x_test)\n",
    "\n",
    "knn_train_score = round(knn.score(x_train, y_train)*100, 2)\n",
    "knn_test_score = round(knn.score(x_test, y_test)*100, 2)\n",
    "\n",
    "print(knn_train_score)\n",
    "print(knn_test_score)\n"
   ]
  },
  {
   "cell_type": "code",
   "execution_count": 68,
   "metadata": {},
   "outputs": [
    {
     "name": "stdout",
     "output_type": "stream",
     "text": [
      "[0.7820909618272094, 0.7565830928788815, 0.7488350534170858, 0.7478749279576837, 0.7476688375731353, 0.7462295895773925, 0.7456810337614035, 0.7474634053239388, 0.7486974091091574, 0.7483540504940247, 0.7468460743636536, 0.7469147554886137]\n"
     ]
    }
   ],
   "source": [
    "from sklearn.model_selection import cross_val_score \n",
    "k_neighbor = list(range(1, 24, 2))\n",
    "\n",
    "cross_val_scores = []\n",
    "\n",
    "for k in k_neighbor:\n",
    "    knn = KNeighborsClassifier(n_neighbors=k)\n",
    "    scores = cross_val_score(knn, x_train, y_train, cv = 10, scoring = 'accuracy')\n",
    "    cross_val_scores.append(scores.mean())\n",
    "print(cross_val_scores)"
   ]
  },
  {
   "cell_type": "code",
   "execution_count": 69,
   "metadata": {},
   "outputs": [
    {
     "name": "stdout",
     "output_type": "stream",
     "text": [
      "0.7820909618272094\n"
     ]
    }
   ],
   "source": [
    "print(max(cross_val_scores))"
   ]
  },
  {
   "cell_type": "code",
   "execution_count": 71,
   "metadata": {},
   "outputs": [
    {
     "name": "stdout",
     "output_type": "stream",
     "text": [
      "Best value for n_neighbors: 1\n"
     ]
    }
   ],
   "source": [
    "misclassification_error = [1 - score for score in cross_val_scores]\n",
    "\n",
    "best_k = k_neighbor[misclassification_error.index(min(misclassification_error))]\n",
    "print(\"Best value for n_neighbors: \" + str(best_k))"
   ]
  },
  {
   "cell_type": "code",
   "execution_count": 99,
   "metadata": {},
   "outputs": [],
   "source": [
    "%%capture\n",
    "plt.plot(k_neighbor, misclassification_error)\n",
    "plt.xlabel(\"Number of Neighbors\")\n",
    "plt.ylabel(\"Misclassification Error\")\n",
    "plt.rcParams['figure.figsize'] = [5, 5]\n",
    "plt.savefig('knn-misclassification.png')"
   ]
  },
  {
   "cell_type": "markdown",
   "metadata": {},
   "source": [
    "# Random Forest"
   ]
  },
  {
   "cell_type": "code",
   "execution_count": 73,
   "metadata": {},
   "outputs": [
    {
     "name": "stdout",
     "output_type": "stream",
     "text": [
      "Score on Training Data: 98.46\n",
      "Score on Testing Data: 77.81\n"
     ]
    }
   ],
   "source": [
    "from sklearn.ensemble import RandomForestClassifier\n",
    "\n",
    "rf_classification = RandomForestClassifier(n_estimators=int(np.sqrt(len(X.columns))), n_jobs=15, random_state= 1234)\n",
    "\n",
    "rf_classification.fit(x_train, y_train)\n",
    "\n",
    "rf_y_pred = rf_classification.predict(x_test)\n",
    "\n",
    "rf_score_TEST = round(rf_classification.score(x_test, y_test)*100, 2)\n",
    "rf_score_TRAIN = round(rf_classification.score(x_train, y_train)*100, 2)\n",
    "\n",
    "print(\"Score on Training Data: \" + str(rf_score_TRAIN))\n",
    "print(\"Score on Testing Data: \" + str(rf_score_TEST))\n"
   ]
  },
  {
   "cell_type": "markdown",
   "metadata": {},
   "source": [
    "# Gaussian Naive Bayes"
   ]
  },
  {
   "cell_type": "code",
   "execution_count": 74,
   "metadata": {},
   "outputs": [
    {
     "name": "stdout",
     "output_type": "stream",
     "text": [
      "GaussianNB Score on Training Data: 72.98\n",
      "GaussianNB Score on Testing Data: 72.71\n"
     ]
    }
   ],
   "source": [
    "from sklearn.naive_bayes import GaussianNB\n",
    "\n",
    "gnb_clf = GaussianNB()\n",
    "gnb_clf.fit(x_train, y_train)\n",
    "\n",
    "gnb_y_pred = gnb_clf.predict(x_test)\n",
    "\n",
    "gnb_score_TRAIN = round(gnb_clf.score(x_train, y_train)*100, 2)\n",
    "gnb_score_TEST = round(gnb_clf.score(x_test, y_test)*100, 2)\n",
    "\n",
    "print(\"{} Score on Training Data: \".format(str(gnb_clf.__class__.__name__)) + str(gnb_score_TRAIN))\n",
    "print(\"{} Score on Testing Data: \".format(str(gnb_clf.__class__.__name__)) + str(gnb_score_TEST))"
   ]
  },
  {
   "cell_type": "markdown",
   "metadata": {},
   "source": [
    "# Decision Tree Classifier"
   ]
  },
  {
   "cell_type": "markdown",
   "metadata": {},
   "source": [
    "### Grid Search"
   ]
  },
  {
   "cell_type": "code",
   "execution_count": 92,
   "metadata": {},
   "outputs": [],
   "source": [
    "from sklearn.model_selection import GridSearchCV\n",
    "from sklearn.pipeline import Pipeline\n",
    "from sklearn.preprocessing import StandardScaler\n",
    "\n",
    "def decisionTreeGridSearch():\n",
    "    scaler = StandardScaler()\n",
    "    dt_clf = DecisionTreeClassifier()\n",
    "\n",
    "    pipe = Pipeline(\n",
    "        steps=[\n",
    "            ('scaler', scaler),\n",
    "            ('decisiontree', dt_clf)\n",
    "        ]\n",
    "    )\n",
    "\n",
    "    criterion = ['gini', 'entropy']\n",
    "    max_depth = [2, 4, 6, 8, 10, 12]\n",
    "    splitter = ['best', 'random']\n",
    "    max_features = ['auto', 'sqrt', 'log2']\n",
    "\n",
    "\n",
    "    params = dict(\n",
    "        decisiontree__criterion = criterion,\n",
    "        decisiontree__max_depth = max_depth,\n",
    "        decisiontree__splitter = splitter,\n",
    "        decisiontree__max_features = max_features\n",
    "    )\n",
    "\n",
    "    clf = GridSearchCV(pipe, params)\n",
    "\n",
    "    clf.fit(x_train, y_train)\n",
    "    return clf.best_estimator_.get_params()['decisiontree__criterion'], clf.best_estimator_.get_params()['decisiontree__max_depth'], clf.best_estimator_.get_params()['decisiontree__splitter'], clf.best_estimator_.get_params()['decisiontree__max_features']\n",
    "\n",
    "paramsToUse = decisionTreeGridSearch()\n",
    "\n"
   ]
  },
  {
   "cell_type": "markdown",
   "metadata": {},
   "source": [
    "### Use Best Params in Model"
   ]
  },
  {
   "cell_type": "code",
   "execution_count": 95,
   "metadata": {},
   "outputs": [
    {
     "name": "stdout",
     "output_type": "stream",
     "text": [
      "DecisionTreeClassifier TRAINING Score: 75.16\n",
      "DecisionTreeClassifier TESTING Score: 73.45\n"
     ]
    }
   ],
   "source": [
    "from sklearn.tree import DecisionTreeClassifier\n",
    "\n",
    "dt_clf = DecisionTreeClassifier(max_features=str(paramsToUse[3]), criterion= str(paramsToUse[0]), splitter= str(paramsToUse[2]), max_depth= int(paramsToUse[1]))\n",
    "\n",
    "dt_clf.fit(x_train, y_train)\n",
    "\n",
    "dt_y_pred = dt_clf.predict(x_test)\n",
    "\n",
    "dt_score_TRAIN = round(dt_clf.score(x_train, y_train)*100, 2)\n",
    "dt_score_TEST = round(dt_clf.score(x_test, y_test)*100, 2)\n",
    "\n",
    "print(\"{} TRAINING Score: \".format(str(dt_clf.__class__.__name__)) + str(dt_score_TRAIN))\n",
    "print(\"{} TESTING Score: \".format(str(dt_clf.__class__.__name__)) + str(dt_score_TEST))\n"
   ]
  },
  {
   "cell_type": "code",
   "execution_count": null,
   "metadata": {},
   "outputs": [],
   "source": [
    "from sklearn.tree import DecisionTreeClassifier\n",
    "\n",
    "dt_clf = DecisionTreeClassifier(max_features='log2', random_state=1234, criterion=\"entropy\", splitter=\"best\")\n",
    "\n",
    "dt_clf.fit(x_train, y_train)\n",
    "\n",
    "dt_y_pred = dt_clf.predict(x_test)\n",
    "\n",
    "dt_score_TRAIN = round(dt_clf.score(x_train, y_train)*100, 2)\n",
    "dt_score_TEST = round(dt_clf.score(x_test, y_test)*100, 2)\n",
    "\n",
    "print(\"{} TRAINING Score: \".format(str(dt_clf.__class__.__name__)) + str(dt_score_TRAIN))\n",
    "print(\"{} TESTING Score: \".format(str(dt_clf.__class__.__name__)) + str(dt_score_TEST))\n"
   ]
  },
  {
   "cell_type": "markdown",
   "metadata": {},
   "source": [
    "# Log Regression"
   ]
  },
  {
   "cell_type": "code",
   "execution_count": 108,
   "metadata": {},
   "outputs": [
    {
     "name": "stdout",
     "output_type": "stream",
     "text": [
      "LogisticRegression TRAINING Score: 74.67\n",
      "LogisticRegression TESTING Score: 75.53\n"
     ]
    },
    {
     "name": "stderr",
     "output_type": "stream",
     "text": [
      "/usr/local/lib/python3.7/site-packages/sklearn/linear_model/_logistic.py:940: ConvergenceWarning: lbfgs failed to converge (status=1):\n",
      "STOP: TOTAL NO. of ITERATIONS REACHED LIMIT.\n",
      "\n",
      "Increase the number of iterations (max_iter) or scale the data as shown in:\n",
      "    https://scikit-learn.org/stable/modules/preprocessing.html\n",
      "Please also refer to the documentation for alternative solver options:\n",
      "    https://scikit-learn.org/stable/modules/linear_model.html#logistic-regression\n",
      "  extra_warning_msg=_LOGISTIC_SOLVER_CONVERGENCE_MSG)\n"
     ]
    }
   ],
   "source": [
    "from sklearn.linear_model import LogisticRegression\n",
    "\n",
    "log_clf = LogisticRegression()\n",
    "\n",
    "log_clf.fit(x_train, y_train)\n",
    "\n",
    "log_y_pred = log_clf.predict(x_test)\n",
    "\n",
    "log_score_TRAIN = round(log_clf.score(x_train, y_train)*100, 2)\n",
    "log_score_TEST = round(log_clf.score(x_test, y_test)*100, 2)\n",
    "\n",
    "print(\"{} TRAINING Score: \".format(str(log_clf.__class__.__name__)) + str(log_score_TRAIN))\n",
    "print(\"{} TESTING Score: \".format(str(log_clf.__class__.__name__)) + str(log_score_TEST))\n"
   ]
  },
  {
   "cell_type": "markdown",
   "metadata": {},
   "source": [
    "# Ensemble Model"
   ]
  },
  {
   "cell_type": "code",
   "execution_count": 109,
   "metadata": {},
   "outputs": [
    {
     "name": "stdout",
     "output_type": "stream",
     "text": [
      "91.79\n",
      "80.28\n",
      "\n",
      "\n",
      "RandomForestClassifier\n",
      "Accuracy: 0.7989577619308832\n",
      "RMSE: 0.44837733893353354\n",
      "MSE: 0.20104223806911684\n",
      "\n",
      "\n",
      "\n",
      "KNeighborsClassifier\n",
      "Accuracy: 0.767690619857378\n",
      "RMSE: 0.48198483393424535\n",
      "MSE: 0.23230938014262206\n",
      "\n",
      "\n",
      "\n",
      "XGBClassifier\n",
      "Accuracy: 0.7761930883159627\n",
      "RMSE: 0.4730823519050751\n",
      "MSE: 0.2238069116840373\n",
      "\n",
      "\n",
      "\n",
      "VotingClassifier\n",
      "Accuracy: 0.8025233132199671\n",
      "RMSE: 0.4443834906699763\n",
      "MSE: 0.1974766867800329\n",
      "\n",
      "\n",
      "\n"
     ]
    }
   ],
   "source": [
    "from sklearn.ensemble import VotingClassifier\n",
    "\n",
    "rf_clf = RandomForestClassifier()\n",
    "knn_clf = KNeighborsClassifier()\n",
    "xgb_clf = xgb.XGBClassifier()\n",
    "# dt_clf = DecisionTreeClassifier()\n",
    "\n",
    "voting_clf = VotingClassifier(\n",
    "    estimators= [('rf', rf_clf), ('knn', knn_clf), ('xgb', xgb_clf)],\n",
    "    voting='soft' # more weight to highly confident votes\n",
    ")\n",
    "\n",
    "voting_clf.fit(x_train, y_train)\n",
    "voting_y_pred = voting_clf.predict(x_test)\n",
    "\n",
    "voting_train_score = round(voting_clf.score(x_train, y_train)*100, 2)\n",
    "voting_test_score = round(voting_clf.score(x_test, y_test)*100, 2)\n",
    "\n",
    "print(voting_train_score)\n",
    "print(voting_test_score)\n",
    "print(\"\\n\")\n",
    "\n",
    "for classifier in (rf_clf, knn_clf, xgb_clf, voting_clf):\n",
    "    classifier.fit(x_train, y_train)\n",
    "    y_pred = classifier.predict(x_test)\n",
    "    print(classifier.__class__.__name__)\n",
    "    print(\"Accuracy: \" + str(accuracy_score(y_test, y_pred)))\n",
    "    print(\"RMSE: \" + str(np.sqrt(mean_squared_error(y_test, y_pred))))\n",
    "    print(\"MSE: \" + str(mean_squared_error(y_test, y_pred)))\n",
    "    print('\\n\\n')\n",
    "\n",
    "# RMSE: Square root of the variance of the residuals\n",
    "# MSE: Variance of the residuals"
   ]
  },
  {
   "cell_type": "markdown",
   "metadata": {},
   "source": [
    "# Confusion Matrix & AUC"
   ]
  },
  {
   "cell_type": "code",
   "execution_count": 110,
   "metadata": {
    "scrolled": true
   },
   "outputs": [
    {
     "name": "stdout",
     "output_type": "stream",
     "text": [
      "Confusion Matrix: ndarray 0\n",
      "[[1963  298]\n",
      " [ 447  938]]\n",
      "Confusion Matrix: ndarray 1\n",
      "[[1951  310]\n",
      " [ 551  834]]\n",
      "Confusion Matrix: ndarray 2\n",
      "[[1898  363]\n",
      " [ 529  856]]\n",
      "Confusion Matrix: ndarray 3\n",
      "[[1929  332]\n",
      " [ 477  908]]\n",
      "Confusion Matrix: ndarray 4\n",
      "[[1930  331]\n",
      " [ 664  721]]\n",
      "Confusion Matrix: ndarray 5\n",
      "[[1709  552]\n",
      " [ 416  969]]\n"
     ]
    }
   ],
   "source": [
    "from sklearn.metrics import confusion_matrix\n",
    "\n",
    "i = 0\n",
    "model_predictions = [xgb_y_pred, knn_y_pred, log_y_pred, rf_y_pred, gnb_y_pred, dt_y_pred]\n",
    "for pred in model_predictions:\n",
    "    print(\"Confusion Matrix: {}\".format(model_predictions[i].__class__.__name__) + \" \" + str(i) + str('\\n') + str(confusion_matrix(y_test, pred)))\n",
    "    i += 1\n",
    "\n"
   ]
  },
  {
   "cell_type": "code",
   "execution_count": 113,
   "metadata": {},
   "outputs": [
    {
     "name": "stdout",
     "output_type": "stream",
     "text": [
      "Predicted     0    1\n",
      "True                \n",
      "0          1963  298\n",
      "1           447  938\n",
      "Predicted     0    1\n",
      "True                \n",
      "0          1951  310\n",
      "1           551  834\n",
      "Predicted     0    1\n",
      "True                \n",
      "0          1898  363\n",
      "1           529  856\n",
      "Predicted     0    1\n",
      "True                \n",
      "0          1929  332\n",
      "1           477  908\n",
      "Predicted     0    1\n",
      "True                \n",
      "0          1930  331\n",
      "1           664  721\n",
      "Predicted     0    1\n",
      "True                \n",
      "0          1709  552\n",
      "1           416  969\n"
     ]
    }
   ],
   "source": [
    "model_predictions = [xgb_y_pred, knn_y_pred, log_y_pred, rf_y_pred, gnb_y_pred, dt_y_pred]\n",
    "for pred in model_predictions:\n",
    "    print(pd.crosstab(y_test, pred, rownames=[\"True\"], colnames=[\"Predicted\"]))\n"
   ]
  },
  {
   "cell_type": "code",
   "execution_count": 205,
   "metadata": {},
   "outputs": [
    {
     "data": {
      "text/plain": [
       "Text(0.5, 1.0, 'Rand Forest Confusion Matrix')"
      ]
     },
     "execution_count": 205,
     "metadata": {},
     "output_type": "execute_result"
    },
    {
     "data": {
      "image/png": "[encoded data removed]",
      "text/plain": [
       "<Figure size 1080x720 with 12 Axes>"
      ]
     },
     "metadata": {
      "needs_background": "light"
     },
     "output_type": "display_data"
    }
   ],
   "source": [
    "import seaborn as sns\n",
    "plt.rcParams['figure.figsize'] = 15, 10\n",
    "\n",
    "figure, ([ax1, ax2, ax3], [ax4, ax5, ax6]) = plt.subplots(2, 3)\n",
    "plot1 = sns.heatmap(confusion_matrix(y_test, xgb_y_pred), ax = ax1)\n",
    "plot1.set_title('XGBoost Confusion Matrix')\n",
    "\n",
    "plot2 = sns.heatmap(confusion_matrix(y_test, knn_y_pred), ax = ax2)\n",
    "plot2.set_title('KNN Confusion Matrix')\n",
    "\n",
    "plot3 = sns.heatmap(confusion_matrix(y_test, log_y_pred), ax = ax3)\n",
    "plot3.set_title('Log Reg Confusion Matrix')\n",
    "\n",
    "plot4 = sns.heatmap(confusion_matrix(y_test, gnb_y_pred), ax = ax4)\n",
    "plot4.set_title('Gaussian NB Confusion Matrix')\n",
    "\n",
    "plot5 = sns.heatmap(confusion_matrix(y_test, dt_y_pred), ax = ax5)\n",
    "plot5.set_title('XGBoost Confusion Matrix')\n",
    "\n",
    "plot6 = sns.heatmap(confusion_matrix(y_test, rf_y_pred), ax = ax6)\n",
    "plot6.set_title('Rand Forest Confusion Matrix')"
   ]
  },
  {
   "cell_type": "code",
   "execution_count": 206,
   "metadata": {},
   "outputs": [
    {
     "name": "stdout",
     "output_type": "stream",
     "text": [
      "AUC: \n",
      "0.7815549172357524\n",
      "\n",
      "\n",
      "Receiver Operating Characteristic: \n",
      "(array([0.        , 0.13003096, 1.        ]), array([0.        , 0.69314079, 1.        ]), array([2, 1, 0]))\n"
     ]
    }
   ],
   "source": [
    "from sklearn.metrics import roc_auc_score, roc_curve, auc\n",
    "\n",
    "print(\"AUC: \\n{}\".format(roc_auc_score(y_test, voting_y_pred))) # 1.00 would be 100% correct model, 0.0 would be 100% wrong model\n",
    "print(\"\\n\")\n",
    "print(\"Receiver Operating Characteristic: \\n{}\".format(roc_curve(y_test, voting_y_pred)))"
   ]
  },
  {
   "cell_type": "code",
   "execution_count": 209,
   "metadata": {},
   "outputs": [
    {
     "name": "stdout",
     "output_type": "stream",
     "text": [
      "False Positive Rate: [0.         0.13003096 1.        ]\n",
      "True Positive Rate: [0.         0.69314079 1.        ]\n"
     ]
    },
    {
     "data": {
      "text/plain": [
       "[<matplotlib.lines.Line2D at 0x15e144790>]"
      ]
     },
     "execution_count": 209,
     "metadata": {},
     "output_type": "execute_result"
    },
    {
     "data": {
      "image/png": "[encoded data removed]",
      "text/plain": [
       "<Figure size 720x576 with 1 Axes>"
      ]
     },
     "metadata": {
      "needs_background": "light"
     },
     "output_type": "display_data"
    }
   ],
   "source": [
    "fpr, tpr, threshold = roc_curve(y_test, voting_y_pred)\n",
    "\n",
    "print(\"False Positive Rate: {}\".format(fpr))\n",
    "print(\"True Positive Rate: {}\".format(tpr))\n",
    "\n",
    "roc_auc = auc(fpr, tpr)\n",
    "\n",
    "\n",
    "fig, ax = plt.subplots(ncols =1)\n",
    "\n",
    "\n",
    "plt.rcParams['figure.figsize'] = 10, 8\n",
    "plt.title(\"Receiver Operating Characteristic Curve\")\n",
    "plt.plot(fpr, tpr, 'b')\n",
    "plt.xlabel(\"True Positive Rate\")\n",
    "plt.ylabel(\"False Positive Rate\")\n",
    "plt.xlim([0,1])\n",
    "plt.ylim([0,1])\n",
    "\n",
    "x = np.linspace(*ax.get_xlim()) # 45 degree line to measure ROC...\n",
    "plt.plot(x, x, 'black')\n",
    "# The closer the ROC to the 45 degree line, the less accurate \n",
    "\n"
   ]
  },
  {
   "cell_type": "code",
   "execution_count": 210,
   "metadata": {},
   "outputs": [
    {
     "name": "stdout",
     "output_type": "stream",
     "text": [
      "0.7655502392344498\n"
     ]
    }
   ],
   "source": [
    "print(precision_score(y_test, voting_y_pred))"
   ]
  },
  {
   "cell_type": "code",
   "execution_count": null,
   "metadata": {},
   "outputs": [],
   "source": []
  }
 ],
 "metadata": {
  "kernelspec": {
   "display_name": "Python 3",
   "language": "python",
   "name": "python3"
  },
  "language_info": {
   "codemirror_mode": {
    "name": "ipython",
    "version": 3
   },
   "file_extension": ".py",
   "mimetype": "text/x-python",
   "name": "python",
   "nbconvert_exporter": "python",
   "pygments_lexer": "ipython3",
   "version": "3.7.6"
  }
 },
 "nbformat": 4,
 "nbformat_minor": 4
}
