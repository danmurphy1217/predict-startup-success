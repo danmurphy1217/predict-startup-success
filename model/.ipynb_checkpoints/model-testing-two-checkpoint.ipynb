{
 "cells": [
  {
   "cell_type": "code",
   "execution_count": 228,
   "metadata": {},
   "outputs": [],
   "source": [
    "import numpy as np\n",
    "import pandas as pd\n",
    "from sklearn.ensemble import RandomForestClassifier\n",
    "from sklearn.model_selection import train_test_split\n",
    "from sklearn.metrics import average_precision_score\n",
    "from sklearn.metrics import precision_recall_curve\n",
    "import matplotlib.pyplot as plt\n",
    "import xgboost as xgb\n",
    "from sklearn.metrics import accuracy_score"
   ]
  },
  {
   "cell_type": "markdown",
   "metadata": {},
   "source": [
    "# Load and Pre-Process the Data"
   ]
  },
  {
   "cell_type": "code",
   "execution_count": 229,
   "metadata": {},
   "outputs": [],
   "source": [
    "df = pd.read_csv('../data/founder_V0.3_founder.csv')"
   ]
  },
  {
   "cell_type": "code",
   "execution_count": 230,
   "metadata": {
    "scrolled": true
   },
   "outputs": [
    {
     "data": {
      "text/plain": [
       "Index(['Full_Name', 'Primary_Job_Title', 'Bio', 'Gender',\n",
       "       'Number_of_News_Articles', 'Number_of_Founded_Organizations',\n",
       "       'Number_of_Portfolio_Companies', 'Number_of_Investments_x',\n",
       "       'Number_of_Partner_Investments', 'Number_of_Lead_Investments_x',\n",
       "       'Number_of_Exits_x', 'Number_of_Events_x', 'Categories',\n",
       "       'Headquarters_Location_', 'Operating_Status', 'Founded_Date',\n",
       "       'Closed_Date', 'Company_Type', 'Number_of_Founders', 'Success',\n",
       "       'Founder'],\n",
       "      dtype='object')"
      ]
     },
     "execution_count": 230,
     "metadata": {},
     "output_type": "execute_result"
    }
   ],
   "source": [
    "df.columns = df.columns.str.replace(' ', '_')\n",
    "df.columns"
   ]
  },
  {
   "cell_type": "code",
   "execution_count": 231,
   "metadata": {},
   "outputs": [
    {
     "data": {
      "text/plain": [
       "(18361, 21)"
      ]
     },
     "execution_count": 231,
     "metadata": {},
     "output_type": "execute_result"
    }
   ],
   "source": [
    "df.shape"
   ]
  },
  {
   "cell_type": "code",
   "execution_count": 232,
   "metadata": {},
   "outputs": [],
   "source": [
    "filtered_df = df.drop(['Full_Name', 'Primary_Job_Title', 'Bio', 'Number_of_Portfolio_Companies', 'Number_of_Investments_x','Number_of_Partner_Investments', 'Number_of_Lead_Investments_x', 'Number_of_Events_x', 'Founded_Date', 'Closed_Date', 'Company_Type', 'Founder'], axis=1)\n"
   ]
  },
  {
   "cell_type": "code",
   "execution_count": 233,
   "metadata": {},
   "outputs": [
    {
     "name": "stdout",
     "output_type": "stream",
     "text": [
      "(18361, 9)\n"
     ]
    }
   ],
   "source": [
    "print(filtered_df.shape)\n",
    "if '0' in filtered_df.columns:\n",
    "    print('T')"
   ]
  },
  {
   "cell_type": "code",
   "execution_count": 234,
   "metadata": {
    "scrolled": false
   },
   "outputs": [
    {
     "name": "stdout",
     "output_type": "stream",
     "text": [
      "(18361, 584)\n"
     ]
    }
   ],
   "source": [
    "categories = df['Categories']\n",
    "split_categories = categories.str.split(',', expand=True)\n",
    "categories_firstCol = split_categories.iloc[:, 0]\n",
    "category_type_dummies = pd.get_dummies(categories_firstCol)\n",
    "print(category_type_dummies.shape)"
   ]
  },
  {
   "cell_type": "code",
   "execution_count": 235,
   "metadata": {},
   "outputs": [
    {
     "name": "stdout",
     "output_type": "stream",
     "text": [
      "(18361, 593)\n",
      "True\n",
      "(18361, 592)\n"
     ]
    }
   ],
   "source": [
    "filtered_df = pd.concat([filtered_df, category_type_dummies], axis=1)\n",
    "print(filtered_df.shape)\n",
    "for colName in filtered_df.columns:\n",
    "    if colName == '0':\n",
    "        print('True')\n",
    "\n",
    "filtered_df = filtered_df.drop(['0'], axis = 1)\n",
    "print(filtered_df.shape)"
   ]
  },
  {
   "cell_type": "code",
   "execution_count": 236,
   "metadata": {
    "scrolled": true
   },
   "outputs": [
    {
     "name": "stdout",
     "output_type": "stream",
     "text": [
      "(18361, 142)\n",
      "(18361, 141)\n"
     ]
    }
   ],
   "source": [
    "hq = df['Headquarters_Location_']\n",
    "hq_dummies = pd.get_dummies(hq)\n",
    "print(hq_dummies.shape)\n",
    "\n",
    "hq_dummies = hq_dummies.drop(['0'], axis = 1)\n",
    "print(hq_dummies.shape)"
   ]
  },
  {
   "cell_type": "code",
   "execution_count": 237,
   "metadata": {},
   "outputs": [
    {
     "name": "stdout",
     "output_type": "stream",
     "text": [
      "(18361, 733)\n"
     ]
    }
   ],
   "source": [
    "filtered_df = pd.concat([filtered_df, hq_dummies], axis=1)\n",
    "print(filtered_df.shape)"
   ]
  },
  {
   "cell_type": "code",
   "execution_count": 238,
   "metadata": {},
   "outputs": [
    {
     "name": "stdout",
     "output_type": "stream",
     "text": [
      "Index(['Gender', 'Number_of_News_Articles', 'Number_of_Founded_Organizations',\n",
      "       'Number_of_Exits_x', 'Operating_Status', 'Number_of_Founders',\n",
      "       'Success', '3D Printing', '3D Technology', 'A/B Testing', 'Accounting',\n",
      "       'Ad Network', 'Ad Retargeting', 'Ad Targeting', 'Advanced Materials',\n",
      "       'Adventure Travel', 'Advertising', 'Advertising Platforms', 'Advice',\n",
      "       'Aerospace', 'Affiliate Marketing', 'AgTech', 'Agriculture',\n",
      "       'Air Transportation', 'Alternative Medicine'],\n",
      "      dtype='object')\n",
      "(18361, 731)\n"
     ]
    }
   ],
   "source": [
    "# Drop the initial columns\n",
    "filtered_df = filtered_df.drop(['Headquarters_Location_', 'Categories'], axis=1)\n",
    "print(filtered_df.columns[:25])\n",
    "# filtered_df = filtered_df.drop(['0'], axis = 1)\n",
    "print(filtered_df.shape)"
   ]
  },
  {
   "cell_type": "markdown",
   "metadata": {},
   "source": [
    "# Inspecting the Dataset"
   ]
  },
  {
   "cell_type": "code",
   "execution_count": 239,
   "metadata": {
    "scrolled": true
   },
   "outputs": [
    {
     "name": "stdout",
     "output_type": "stream",
     "text": [
      "Shape of X: (18361, 730)\n",
      "Shape of y: (18361,)\n"
     ]
    }
   ],
   "source": [
    "y = filtered_df['Success'].values\n",
    "X = filtered_df.drop('Success', axis=1)\n",
    "print(\"Shape of X: \" + str(X.values.shape))\n",
    "print(\"Shape of y: \" + str(y.shape))\n"
   ]
  },
  {
   "cell_type": "markdown",
   "metadata": {},
   "source": [
    "### Create a DMatrix"
   ]
  },
  {
   "cell_type": "code",
   "execution_count": 240,
   "metadata": {},
   "outputs": [],
   "source": [
    "data_dMatrix = xgboost.DMatrix(data = X, label=y)"
   ]
  },
  {
   "cell_type": "markdown",
   "metadata": {},
   "source": [
    "# Train & Test Split"
   ]
  },
  {
   "cell_type": "code",
   "execution_count": 241,
   "metadata": {},
   "outputs": [],
   "source": [
    "x_train, x_test, y_train, y_test = train_test_split(X, y, test_size = .3, random_state = 123) \n"
   ]
  },
  {
   "cell_type": "markdown",
   "metadata": {},
   "source": [
    "### XGBoost"
   ]
  },
  {
   "cell_type": "code",
   "execution_count": 242,
   "metadata": {},
   "outputs": [
    {
     "name": "stdout",
     "output_type": "stream",
     "text": [
      "XGB testing data accuracy: 0.6966781630059902\n"
     ]
    }
   ],
   "source": [
    "# instantiate\n",
    "xgb_reg = xgboost.XGBRegressor(objective='binary:logistic', learning_rate=.3, colsample_bytree=.3, reg_alpha= 9)\n",
    "\n",
    "# fit the model to training data\n",
    "xgb_reg.fit(x_train, y_train)\n",
    "\n",
    "# y prediction\n",
    "y_pred_xgb = xgb_reg.predict(x_test)\n",
    "\n",
    "xgb_score_TEST = accuracy_score(y_test, y_pred_xgb.round())\n",
    "\n",
    "print(\"XGB testing data accuracy: \" + str(xgb_score_TEST))"
   ]
  },
  {
   "cell_type": "code",
   "execution_count": 243,
   "metadata": {},
   "outputs": [
    {
     "name": "stdout",
     "output_type": "stream",
     "text": [
      "RMSE: 0.4494758165169884\n",
      "MSE: 0.20202850963361346\n"
     ]
    }
   ],
   "source": [
    "from sklearn.metrics import mean_squared_error\n",
    "rmse = np.sqrt(mean_squared_error(y_test, y_pred_xgb))\n",
    "\n",
    "print(\"RMSE: \" + str(rmse))\n",
    "print(\"MSE: \" + str(mean_squared_error(y_test, y_pred_xgb)))"
   ]
  },
  {
   "cell_type": "code",
   "execution_count": 245,
   "metadata": {},
   "outputs": [],
   "source": [
    "params = {\n",
    "    \"objective\": \"binary:logistic\", # classification, dependent has two levels 0 and 1\n",
    "    \"colsame_bytree\": .3,\n",
    "    \"learning_rate\": .3,\n",
    "    \"reg_alpha\":9,\n",
    "}\n",
    "\n",
    "cv_results = xgb.cv(dtrain = data_dMatrix, params=params, nfold = 5, metrics=\"rmse\", num_boost_round = 50, early_stopping_rounds = 5,as_pandas = True)"
   ]
  },
  {
   "cell_type": "code",
   "execution_count": 246,
   "metadata": {},
   "outputs": [
    {
     "name": "stdout",
     "output_type": "stream",
     "text": [
      "49    0.451171\n",
      "Name: test-rmse-mean, dtype: float64\n"
     ]
    }
   ],
   "source": [
    "print(cv_results['test-rmse-mean'].tail(1))"
   ]
  },
  {
   "cell_type": "code",
   "execution_count": 247,
   "metadata": {},
   "outputs": [],
   "source": [
    "xgb_reg2 = xgb.train(params=params, dtrain= data_dMatrix, num_boost_round=10)"
   ]
  },
  {
   "cell_type": "code",
   "execution_count": null,
   "metadata": {},
   "outputs": [],
   "source": []
  }
 ],
 "metadata": {
  "kernelspec": {
   "display_name": "Python 3",
   "language": "python",
   "name": "python3"
  },
  "language_info": {
   "codemirror_mode": {
    "name": "ipython",
    "version": 3
   },
   "file_extension": ".py",
   "mimetype": "text/x-python",
   "name": "python",
   "nbconvert_exporter": "python",
   "pygments_lexer": "ipython3",
   "version": "3.7.6"
  }
 },
 "nbformat": 4,
 "nbformat_minor": 4
}
