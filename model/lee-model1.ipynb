{
 "cells": [
  {
   "cell_type": "code",
   "execution_count": 1,
   "metadata": {},
   "outputs": [],
   "source": [
    "import numpy as np\n",
    "import pandas as pd\n"
   ]
  },
  {
   "cell_type": "code",
   "execution_count": 2,
   "metadata": {},
   "outputs": [
    {
     "name": "stdout",
     "output_type": "stream",
     "text": [
      "         Full Name                       Primary Job Title  \\\n",
      "0        Elon Musk       Chairman, Product Architect & CEO   \n",
      "1      JB Straubel                      Co-Founder and CTO   \n",
      "2  Mark Zuckerberg                           Founder & CEO   \n",
      "3       Ross Mason      Founder and VP of Product Strategy   \n",
      "4     Rahul Gandhi  Co-Founder & SVP of Finance Operations   \n",
      "\n",
      "                                                 Bio  Gender  \\\n",
      "0  Elon co-founded Tesla and continues to oversee...       1   \n",
      "1  The story of JB Straubel's career started at a...       1   \n",
      "2  Mark Zuckerberg is the founder and CEO of Face...       1   \n",
      "3  Created the Mule Project, Founded MuleSoft, go...       1   \n",
      "4  Rahul is a Co-founder & Senior Vice President ...       1   \n",
      "\n",
      "   Number of News Articles  Number of Founded Organizations  \\\n",
      "0                    14445                                7   \n",
      "1                      100                                2   \n",
      "2                    19678                               10   \n",
      "3                      128                                1   \n",
      "4                      861                                1   \n",
      "\n",
      "   Number of Portfolio Companies  Number of Investments_x  \\\n",
      "0                             11                       21   \n",
      "1                              1                        1   \n",
      "2                              6                        7   \n",
      "3                              6                        7   \n",
      "4                              0                        0   \n",
      "\n",
      "   Number of Partner Investments  Number of Lead Investments_x  ...  \\\n",
      "0                              0                             9  ...   \n",
      "1                              0                             0  ...   \n",
      "2                              0                             0  ...   \n",
      "3                              0                             0  ...   \n",
      "4                              0                             0  ...   \n",
      "\n",
      "   Number of Events_x                                         Categories  \\\n",
      "0                   2     Innovation Management, Automotive, Electronics   \n",
      "1                   1     Innovation Management, Automotive, Electronics   \n",
      "2                   5               Social Media, Social, Social Network   \n",
      "3                   5  Apps, Enterprise Software, Developer APIs, Fin...   \n",
      "4                   0                 Internet, Self-Storage, E-Commerce   \n",
      "\n",
      "  Headquarters Location  Operating Status  Founded Date  Closed Date  \\\n",
      "0             California                1          2003            0   \n",
      "1             California                1          2003            0   \n",
      "2             California                1          2004            0   \n",
      "3             California                1          2006            0   \n",
      "4               New York                1          2013            0   \n",
      "\n",
      "   Company Type  Number of Founders  Success  Founder  \n",
      "0             1                   4        1        0  \n",
      "1             1                   4        1        1  \n",
      "2             1                   5        1        1  \n",
      "3             1                   2        1        1  \n",
      "4             0                   3        1        1  \n",
      "\n",
      "[5 rows x 21 columns]\n",
      "<bound method NDFrame.tail of              Full Name                       Primary Job Title  \\\n",
      "0            Elon Musk       Chairman, Product Architect & CEO   \n",
      "1          JB Straubel                      Co-Founder and CTO   \n",
      "2      Mark Zuckerberg                           Founder & CEO   \n",
      "3           Ross Mason      Founder and VP of Product Strategy   \n",
      "4         Rahul Gandhi  Co-Founder & SVP of Finance Operations   \n",
      "...                ...                                     ...   \n",
      "18356    Glenn Shimkus                        Co-founder & CEO   \n",
      "18357  Douglas Keszler                              Co-Founder   \n",
      "18358  Clark Johannson   Co-Founder & Chief Technology Officer   \n",
      "18359  Stefano Colonna                                 Founder   \n",
      "18360  Daniel Hoepfner                                 Founder   \n",
      "\n",
      "                                                     Bio  Gender  \\\n",
      "0      Elon co-founded Tesla and continues to oversee...       1   \n",
      "1      The story of JB Straubel's career started at a...       1   \n",
      "2      Mark Zuckerberg is the founder and CEO of Face...       1   \n",
      "3      Created the Mule Project, Founded MuleSoft, go...       1   \n",
      "4      Rahul is a Co-founder & Senior Vice President ...       1   \n",
      "...                                                  ...     ...   \n",
      "18356                                                  0       1   \n",
      "18357                                                  0       1   \n",
      "18358                                                  0       1   \n",
      "18359  Digital serial entrepreneur.  Founded and mana...       1   \n",
      "18360  Daniel Hoepfner is founder and managing direct...       1   \n",
      "\n",
      "       Number of News Articles  Number of Founded Organizations  \\\n",
      "0                        14445                                7   \n",
      "1                          100                                2   \n",
      "2                        19678                               10   \n",
      "3                          128                                1   \n",
      "4                          861                                1   \n",
      "...                        ...                              ...   \n",
      "18356                        0                                1   \n",
      "18357                        0                                1   \n",
      "18358                        0                                1   \n",
      "18359                        0                                1   \n",
      "18360                        0                                2   \n",
      "\n",
      "       Number of Portfolio Companies  Number of Investments_x  \\\n",
      "0                                 11                       21   \n",
      "1                                  1                        1   \n",
      "2                                  6                        7   \n",
      "3                                  6                        7   \n",
      "4                                  0                        0   \n",
      "...                              ...                      ...   \n",
      "18356                              0                        0   \n",
      "18357                              0                        0   \n",
      "18358                              0                        0   \n",
      "18359                              0                        0   \n",
      "18360                              0                        0   \n",
      "\n",
      "       Number of Partner Investments  Number of Lead Investments_x  ...  \\\n",
      "0                                  0                             9  ...   \n",
      "1                                  0                             0  ...   \n",
      "2                                  0                             0  ...   \n",
      "3                                  0                             0  ...   \n",
      "4                                  0                             0  ...   \n",
      "...                              ...                           ...  ...   \n",
      "18356                              0                             0  ...   \n",
      "18357                              0                             0  ...   \n",
      "18358                              0                             0  ...   \n",
      "18359                              0                             0  ...   \n",
      "18360                              0                             0  ...   \n",
      "\n",
      "       Number of Events_x                                         Categories  \\\n",
      "0                       2     Innovation Management, Automotive, Electronics   \n",
      "1                       1     Innovation Management, Automotive, Electronics   \n",
      "2                       5               Social Media, Social, Social Network   \n",
      "3                       5  Apps, Enterprise Software, Developer APIs, Fin...   \n",
      "4                       0                 Internet, Self-Storage, E-Commerce   \n",
      "...                   ...                                                ...   \n",
      "18356                   0  Document Management, Transaction Processing, R...   \n",
      "18357                   0          Semiconductor, Electronics, Manufacturing   \n",
      "18358                   0         Peer to Peer, Construction, Social Network   \n",
      "18359                   0                E-Commerce, Mobile, Mobile Payments   \n",
      "18360                   1  Content Marketing, Mobile, Publishing, Digital...   \n",
      "\n",
      "      Headquarters Location  Operating Status  Founded Date  Closed Date  \\\n",
      "0                 California                1          2003            0   \n",
      "1                 California                1          2003            0   \n",
      "2                 California                1          2004            0   \n",
      "3                 California                1          2006            0   \n",
      "4                   New York                1          2013            0   \n",
      "...                      ...              ...           ...          ...   \n",
      "18356               Illinois                1          2009            0   \n",
      "18357                 Oregon                1          2007            0   \n",
      "18358                 Canada                1          2015            0   \n",
      "18359          Massachusetts                1          2009            0   \n",
      "18360                Germany                1          2011            0   \n",
      "\n",
      "       Company Type  Number of Founders  Success  Founder  \n",
      "0                 1                   4        1        0  \n",
      "1                 1                   4        1        1  \n",
      "2                 1                   5        1        1  \n",
      "3                 1                   2        1        1  \n",
      "4                 0                   3        1        1  \n",
      "...             ...                 ...      ...      ...  \n",
      "18356             0                   2        1        1  \n",
      "18357             1                   2        1        1  \n",
      "18358             1                   3        0        1  \n",
      "18359             1                   1        0        1  \n",
      "18360             1                   2        0        1  \n",
      "\n",
      "[18361 rows x 21 columns]>\n"
     ]
    }
   ],
   "source": [
    "df = pd.read_csv('/Users/danielmurphy/Desktop/predict-startup-success/data/founder_V0.3_founder.csv')\n",
    "print(df.head(5))\n",
    "print(df.tail)\n",
    "\n"
   ]
  },
  {
   "cell_type": "code",
   "execution_count": 3,
   "metadata": {},
   "outputs": [
    {
     "name": "stdout",
     "output_type": "stream",
     "text": [
      "(18361, 21)\n",
      "<bound method NDFrame.describe of              Full Name                       Primary Job Title  \\\n",
      "0            Elon Musk       Chairman, Product Architect & CEO   \n",
      "1          JB Straubel                      Co-Founder and CTO   \n",
      "2      Mark Zuckerberg                           Founder & CEO   \n",
      "3           Ross Mason      Founder and VP of Product Strategy   \n",
      "4         Rahul Gandhi  Co-Founder & SVP of Finance Operations   \n",
      "...                ...                                     ...   \n",
      "18356    Glenn Shimkus                        Co-founder & CEO   \n",
      "18357  Douglas Keszler                              Co-Founder   \n",
      "18358  Clark Johannson   Co-Founder & Chief Technology Officer   \n",
      "18359  Stefano Colonna                                 Founder   \n",
      "18360  Daniel Hoepfner                                 Founder   \n",
      "\n",
      "                                                     Bio  Gender  \\\n",
      "0      Elon co-founded Tesla and continues to oversee...       1   \n",
      "1      The story of JB Straubel's career started at a...       1   \n",
      "2      Mark Zuckerberg is the founder and CEO of Face...       1   \n",
      "3      Created the Mule Project, Founded MuleSoft, go...       1   \n",
      "4      Rahul is a Co-founder & Senior Vice President ...       1   \n",
      "...                                                  ...     ...   \n",
      "18356                                                  0       1   \n",
      "18357                                                  0       1   \n",
      "18358                                                  0       1   \n",
      "18359  Digital serial entrepreneur.  Founded and mana...       1   \n",
      "18360  Daniel Hoepfner is founder and managing direct...       1   \n",
      "\n",
      "       Number of News Articles  Number of Founded Organizations  \\\n",
      "0                        14445                                7   \n",
      "1                          100                                2   \n",
      "2                        19678                               10   \n",
      "3                          128                                1   \n",
      "4                          861                                1   \n",
      "...                        ...                              ...   \n",
      "18356                        0                                1   \n",
      "18357                        0                                1   \n",
      "18358                        0                                1   \n",
      "18359                        0                                1   \n",
      "18360                        0                                2   \n",
      "\n",
      "       Number of Portfolio Companies  Number of Investments_x  \\\n",
      "0                                 11                       21   \n",
      "1                                  1                        1   \n",
      "2                                  6                        7   \n",
      "3                                  6                        7   \n",
      "4                                  0                        0   \n",
      "...                              ...                      ...   \n",
      "18356                              0                        0   \n",
      "18357                              0                        0   \n",
      "18358                              0                        0   \n",
      "18359                              0                        0   \n",
      "18360                              0                        0   \n",
      "\n",
      "       Number of Partner Investments  Number of Lead Investments_x  ...  \\\n",
      "0                                  0                             9  ...   \n",
      "1                                  0                             0  ...   \n",
      "2                                  0                             0  ...   \n",
      "3                                  0                             0  ...   \n",
      "4                                  0                             0  ...   \n",
      "...                              ...                           ...  ...   \n",
      "18356                              0                             0  ...   \n",
      "18357                              0                             0  ...   \n",
      "18358                              0                             0  ...   \n",
      "18359                              0                             0  ...   \n",
      "18360                              0                             0  ...   \n",
      "\n",
      "       Number of Events_x                                         Categories  \\\n",
      "0                       2     Innovation Management, Automotive, Electronics   \n",
      "1                       1     Innovation Management, Automotive, Electronics   \n",
      "2                       5               Social Media, Social, Social Network   \n",
      "3                       5  Apps, Enterprise Software, Developer APIs, Fin...   \n",
      "4                       0                 Internet, Self-Storage, E-Commerce   \n",
      "...                   ...                                                ...   \n",
      "18356                   0  Document Management, Transaction Processing, R...   \n",
      "18357                   0          Semiconductor, Electronics, Manufacturing   \n",
      "18358                   0         Peer to Peer, Construction, Social Network   \n",
      "18359                   0                E-Commerce, Mobile, Mobile Payments   \n",
      "18360                   1  Content Marketing, Mobile, Publishing, Digital...   \n",
      "\n",
      "      Headquarters Location  Operating Status  Founded Date  Closed Date  \\\n",
      "0                 California                1          2003            0   \n",
      "1                 California                1          2003            0   \n",
      "2                 California                1          2004            0   \n",
      "3                 California                1          2006            0   \n",
      "4                   New York                1          2013            0   \n",
      "...                      ...              ...           ...          ...   \n",
      "18356               Illinois                1          2009            0   \n",
      "18357                 Oregon                1          2007            0   \n",
      "18358                 Canada                1          2015            0   \n",
      "18359          Massachusetts                1          2009            0   \n",
      "18360                Germany                1          2011            0   \n",
      "\n",
      "       Company Type  Number of Founders  Success  Founder  \n",
      "0                 1                   4        1        0  \n",
      "1                 1                   4        1        1  \n",
      "2                 1                   5        1        1  \n",
      "3                 1                   2        1        1  \n",
      "4                 0                   3        1        1  \n",
      "...             ...                 ...      ...      ...  \n",
      "18356             0                   2        1        1  \n",
      "18357             1                   2        1        1  \n",
      "18358             1                   3        0        1  \n",
      "18359             1                   1        0        1  \n",
      "18360             1                   2        0        1  \n",
      "\n",
      "[18361 rows x 21 columns]>\n",
      "<bound method DataFrame.info of              Full Name                       Primary Job Title  \\\n",
      "0            Elon Musk       Chairman, Product Architect & CEO   \n",
      "1          JB Straubel                      Co-Founder and CTO   \n",
      "2      Mark Zuckerberg                           Founder & CEO   \n",
      "3           Ross Mason      Founder and VP of Product Strategy   \n",
      "4         Rahul Gandhi  Co-Founder & SVP of Finance Operations   \n",
      "...                ...                                     ...   \n",
      "18356    Glenn Shimkus                        Co-founder & CEO   \n",
      "18357  Douglas Keszler                              Co-Founder   \n",
      "18358  Clark Johannson   Co-Founder & Chief Technology Officer   \n",
      "18359  Stefano Colonna                                 Founder   \n",
      "18360  Daniel Hoepfner                                 Founder   \n",
      "\n",
      "                                                     Bio  Gender  \\\n",
      "0      Elon co-founded Tesla and continues to oversee...       1   \n",
      "1      The story of JB Straubel's career started at a...       1   \n",
      "2      Mark Zuckerberg is the founder and CEO of Face...       1   \n",
      "3      Created the Mule Project, Founded MuleSoft, go...       1   \n",
      "4      Rahul is a Co-founder & Senior Vice President ...       1   \n",
      "...                                                  ...     ...   \n",
      "18356                                                  0       1   \n",
      "18357                                                  0       1   \n",
      "18358                                                  0       1   \n",
      "18359  Digital serial entrepreneur.  Founded and mana...       1   \n",
      "18360  Daniel Hoepfner is founder and managing direct...       1   \n",
      "\n",
      "       Number of News Articles  Number of Founded Organizations  \\\n",
      "0                        14445                                7   \n",
      "1                          100                                2   \n",
      "2                        19678                               10   \n",
      "3                          128                                1   \n",
      "4                          861                                1   \n",
      "...                        ...                              ...   \n",
      "18356                        0                                1   \n",
      "18357                        0                                1   \n",
      "18358                        0                                1   \n",
      "18359                        0                                1   \n",
      "18360                        0                                2   \n",
      "\n",
      "       Number of Portfolio Companies  Number of Investments_x  \\\n",
      "0                                 11                       21   \n",
      "1                                  1                        1   \n",
      "2                                  6                        7   \n",
      "3                                  6                        7   \n",
      "4                                  0                        0   \n",
      "...                              ...                      ...   \n",
      "18356                              0                        0   \n",
      "18357                              0                        0   \n",
      "18358                              0                        0   \n",
      "18359                              0                        0   \n",
      "18360                              0                        0   \n",
      "\n",
      "       Number of Partner Investments  Number of Lead Investments_x  ...  \\\n",
      "0                                  0                             9  ...   \n",
      "1                                  0                             0  ...   \n",
      "2                                  0                             0  ...   \n",
      "3                                  0                             0  ...   \n",
      "4                                  0                             0  ...   \n",
      "...                              ...                           ...  ...   \n",
      "18356                              0                             0  ...   \n",
      "18357                              0                             0  ...   \n",
      "18358                              0                             0  ...   \n",
      "18359                              0                             0  ...   \n",
      "18360                              0                             0  ...   \n",
      "\n",
      "       Number of Events_x                                         Categories  \\\n",
      "0                       2     Innovation Management, Automotive, Electronics   \n",
      "1                       1     Innovation Management, Automotive, Electronics   \n",
      "2                       5               Social Media, Social, Social Network   \n",
      "3                       5  Apps, Enterprise Software, Developer APIs, Fin...   \n",
      "4                       0                 Internet, Self-Storage, E-Commerce   \n",
      "...                   ...                                                ...   \n",
      "18356                   0  Document Management, Transaction Processing, R...   \n",
      "18357                   0          Semiconductor, Electronics, Manufacturing   \n",
      "18358                   0         Peer to Peer, Construction, Social Network   \n",
      "18359                   0                E-Commerce, Mobile, Mobile Payments   \n",
      "18360                   1  Content Marketing, Mobile, Publishing, Digital...   \n",
      "\n",
      "      Headquarters Location  Operating Status  Founded Date  Closed Date  \\\n",
      "0                 California                1          2003            0   \n",
      "1                 California                1          2003            0   \n",
      "2                 California                1          2004            0   \n",
      "3                 California                1          2006            0   \n",
      "4                   New York                1          2013            0   \n",
      "...                      ...              ...           ...          ...   \n",
      "18356               Illinois                1          2009            0   \n",
      "18357                 Oregon                1          2007            0   \n",
      "18358                 Canada                1          2015            0   \n",
      "18359          Massachusetts                1          2009            0   \n",
      "18360                Germany                1          2011            0   \n",
      "\n",
      "       Company Type  Number of Founders  Success  Founder  \n",
      "0                 1                   4        1        0  \n",
      "1                 1                   4        1        1  \n",
      "2                 1                   5        1        1  \n",
      "3                 1                   2        1        1  \n",
      "4                 0                   3        1        1  \n",
      "...             ...                 ...      ...      ...  \n",
      "18356             0                   2        1        1  \n",
      "18357             1                   2        1        1  \n",
      "18358             1                   3        0        1  \n",
      "18359             1                   1        0        1  \n",
      "18360             1                   2        0        1  \n",
      "\n",
      "[18361 rows x 21 columns]>\n"
     ]
    }
   ],
   "source": [
    "print(df.shape)\n",
    "print(df.describe)\n",
    "print(df.info)"
   ]
  },
  {
   "cell_type": "code",
   "execution_count": 4,
   "metadata": {},
   "outputs": [
    {
     "name": "stdout",
     "output_type": "stream",
     "text": [
      "0              Elon Musk\n",
      "1            JB Straubel\n",
      "2        Mark Zuckerberg\n",
      "3             Ross Mason\n",
      "4           Rahul Gandhi\n",
      "              ...       \n",
      "18356      Glenn Shimkus\n",
      "18357    Douglas Keszler\n",
      "18358    Clark Johannson\n",
      "18359    Stefano Colonna\n",
      "18360    Daniel Hoepfner\n",
      "Name: Full Name, Length: 18361, dtype: object\n",
      "0             Chairman, Product Architect & CEO\n",
      "1                            Co-Founder and CTO\n",
      "2                                 Founder & CEO\n",
      "3            Founder and VP of Product Strategy\n",
      "4        Co-Founder & SVP of Finance Operations\n",
      "                          ...                  \n",
      "18356                          Co-founder & CEO\n",
      "18357                                Co-Founder\n",
      "18358     Co-Founder & Chief Technology Officer\n",
      "18359                                   Founder\n",
      "18360                                   Founder\n",
      "Name: Primary Job Title, Length: 18361, dtype: object\n",
      "0        Elon co-founded Tesla and continues to oversee...\n",
      "1        The story of JB Straubel's career started at a...\n",
      "2        Mark Zuckerberg is the founder and CEO of Face...\n",
      "3        Created the Mule Project, Founded MuleSoft, go...\n",
      "4        Rahul is a Co-founder & Senior Vice President ...\n",
      "                               ...                        \n",
      "18356                                                    0\n",
      "18357                                                    0\n",
      "18358                                                    0\n",
      "18359    Digital serial entrepreneur.  Founded and mana...\n",
      "18360    Daniel Hoepfner is founder and managing direct...\n",
      "Name: Bio, Length: 18361, dtype: object\n",
      "0        1\n",
      "1        1\n",
      "2        1\n",
      "3        1\n",
      "4        1\n",
      "        ..\n",
      "18356    1\n",
      "18357    1\n",
      "18358    1\n",
      "18359    1\n",
      "18360    1\n",
      "Name: Gender, Length: 18361, dtype: int64\n",
      "0        14445\n",
      "1          100\n",
      "2        19678\n",
      "3          128\n",
      "4          861\n",
      "         ...  \n",
      "18356        0\n",
      "18357        0\n",
      "18358        0\n",
      "18359        0\n",
      "18360        0\n",
      "Name: Number of News Articles, Length: 18361, dtype: int64\n",
      "0         7\n",
      "1         2\n",
      "2        10\n",
      "3         1\n",
      "4         1\n",
      "         ..\n",
      "18356     1\n",
      "18357     1\n",
      "18358     1\n",
      "18359     1\n",
      "18360     2\n",
      "Name: Number of Founded Organizations, Length: 18361, dtype: int64\n",
      "0        11\n",
      "1         1\n",
      "2         6\n",
      "3         6\n",
      "4         0\n",
      "         ..\n",
      "18356     0\n",
      "18357     0\n",
      "18358     0\n",
      "18359     0\n",
      "18360     0\n",
      "Name: Number of Portfolio Companies, Length: 18361, dtype: int64\n",
      "0        21\n",
      "1         1\n",
      "2         7\n",
      "3         7\n",
      "4         0\n",
      "         ..\n",
      "18356     0\n",
      "18357     0\n",
      "18358     0\n",
      "18359     0\n",
      "18360     0\n",
      "Name: Number of Investments_x, Length: 18361, dtype: int64\n",
      "0        0\n",
      "1        0\n",
      "2        0\n",
      "3        0\n",
      "4        0\n",
      "        ..\n",
      "18356    0\n",
      "18357    0\n",
      "18358    0\n",
      "18359    0\n",
      "18360    0\n",
      "Name: Number of Partner Investments, Length: 18361, dtype: int64\n",
      "0        9\n",
      "1        0\n",
      "2        0\n",
      "3        0\n",
      "4        0\n",
      "        ..\n",
      "18356    0\n",
      "18357    0\n",
      "18358    0\n",
      "18359    0\n",
      "18360    0\n",
      "Name: Number of Lead Investments_x, Length: 18361, dtype: int64\n",
      "0        6\n",
      "1        0\n",
      "2        0\n",
      "3        1\n",
      "4        0\n",
      "        ..\n",
      "18356    0\n",
      "18357    0\n",
      "18358    0\n",
      "18359    0\n",
      "18360    0\n",
      "Name: Number of Exits_x, Length: 18361, dtype: int64\n",
      "0        2\n",
      "1        1\n",
      "2        5\n",
      "3        5\n",
      "4        0\n",
      "        ..\n",
      "18356    0\n",
      "18357    0\n",
      "18358    0\n",
      "18359    0\n",
      "18360    1\n",
      "Name: Number of Events_x, Length: 18361, dtype: int64\n",
      "0           Innovation Management, Automotive, Electronics\n",
      "1           Innovation Management, Automotive, Electronics\n",
      "2                     Social Media, Social, Social Network\n",
      "3        Apps, Enterprise Software, Developer APIs, Fin...\n",
      "4                       Internet, Self-Storage, E-Commerce\n",
      "                               ...                        \n",
      "18356    Document Management, Transaction Processing, R...\n",
      "18357            Semiconductor, Electronics, Manufacturing\n",
      "18358           Peer to Peer, Construction, Social Network\n",
      "18359                  E-Commerce, Mobile, Mobile Payments\n",
      "18360    Content Marketing, Mobile, Publishing, Digital...\n",
      "Name: Categories, Length: 18361, dtype: object\n",
      "0            California\n",
      "1            California\n",
      "2            California\n",
      "3            California\n",
      "4              New York\n",
      "              ...      \n",
      "18356          Illinois\n",
      "18357            Oregon\n",
      "18358            Canada\n",
      "18359     Massachusetts\n",
      "18360           Germany\n",
      "Name: Headquarters Location , Length: 18361, dtype: object\n",
      "0        1\n",
      "1        1\n",
      "2        1\n",
      "3        1\n",
      "4        1\n",
      "        ..\n",
      "18356    1\n",
      "18357    1\n",
      "18358    1\n",
      "18359    1\n",
      "18360    1\n",
      "Name: Operating Status, Length: 18361, dtype: int64\n",
      "0        2003\n",
      "1        2003\n",
      "2        2004\n",
      "3        2006\n",
      "4        2013\n",
      "         ... \n",
      "18356    2009\n",
      "18357    2007\n",
      "18358    2015\n",
      "18359    2009\n",
      "18360    2011\n",
      "Name: Founded Date, Length: 18361, dtype: int64\n",
      "0        0\n",
      "1        0\n",
      "2        0\n",
      "3        0\n",
      "4        0\n",
      "        ..\n",
      "18356    0\n",
      "18357    0\n",
      "18358    0\n",
      "18359    0\n",
      "18360    0\n",
      "Name: Closed Date, Length: 18361, dtype: int64\n",
      "0        1\n",
      "1        1\n",
      "2        1\n",
      "3        1\n",
      "4        0\n",
      "        ..\n",
      "18356    0\n",
      "18357    1\n",
      "18358    1\n",
      "18359    1\n",
      "18360    1\n",
      "Name: Company Type, Length: 18361, dtype: int64\n",
      "0        4\n",
      "1        4\n",
      "2        5\n",
      "3        2\n",
      "4        3\n",
      "        ..\n",
      "18356    2\n",
      "18357    2\n",
      "18358    3\n",
      "18359    1\n",
      "18360    2\n",
      "Name: Number of Founders, Length: 18361, dtype: int64\n",
      "0        1\n",
      "1        1\n",
      "2        1\n",
      "3        1\n",
      "4        1\n",
      "        ..\n",
      "18356    1\n",
      "18357    1\n",
      "18358    0\n",
      "18359    0\n",
      "18360    0\n",
      "Name: Success, Length: 18361, dtype: int64\n",
      "0        0\n",
      "1        1\n",
      "2        1\n",
      "3        1\n",
      "4        1\n",
      "        ..\n",
      "18356    1\n",
      "18357    1\n",
      "18358    1\n",
      "18359    1\n",
      "18360    1\n",
      "Name: Founder, Length: 18361, dtype: int64\n"
     ]
    }
   ],
   "source": [
    "for col in df.iteritems():\n",
    "    print(df[str(col[0])])"
   ]
  },
  {
   "cell_type": "code",
   "execution_count": 5,
   "metadata": {},
   "outputs": [
    {
     "data": {
      "text/plain": [
       "['Full Name',\n",
       " 'Primary Job Title',\n",
       " 'Bio',\n",
       " 'Gender',\n",
       " 'Number of News Articles',\n",
       " 'Number of Founded Organizations',\n",
       " 'Number of Portfolio Companies',\n",
       " 'Number of Investments_x',\n",
       " 'Number of Partner Investments',\n",
       " 'Number of Lead Investments_x',\n",
       " 'Number of Exits_x',\n",
       " 'Number of Events_x',\n",
       " 'Categories',\n",
       " 'Headquarters Location ',\n",
       " 'Operating Status',\n",
       " 'Founded Date',\n",
       " 'Closed Date',\n",
       " 'Company Type',\n",
       " 'Number of Founders',\n",
       " 'Success',\n",
       " 'Founder']"
      ]
     },
     "execution_count": 5,
     "metadata": {},
     "output_type": "execute_result"
    }
   ],
   "source": [
    "def checkColNames(data):\n",
    "    cols_names = []\n",
    "    for col in data.iteritems():\n",
    "        cols_names.append(col[0])\n",
    "    return cols_names\n",
    "checkColNames(df)"
   ]
  },
  {
   "cell_type": "code",
   "execution_count": 6,
   "metadata": {},
   "outputs": [
    {
     "name": "stdout",
     "output_type": "stream",
     "text": [
      "16521\n",
      "1709\n",
      "16652\n",
      "The percent of female founders in this dataset is 9.37.\n"
     ]
    }
   ],
   "source": [
    "def countGenders(col):\n",
    "    male_count = 0\n",
    "    female_count = 0\n",
    "    not_identified_count = 0\n",
    "    for g in df[col]:\n",
    "        if g == 1:\n",
    "            male_count += 1\n",
    "        if g == 0:\n",
    "            female_count += 1\n",
    "        else:\n",
    "            not_identified_count += 1\n",
    "    print(male_count)\n",
    "    print(female_count)\n",
    "    print(not_identified_count)\n",
    "countGenders('Gender')\n",
    "female_percent = np.divide(1709, (16521+1709))\n",
    "print(\"The percent of female founders in this dataset is \" + \n",
    "      str(np.round(female_percent*100, decimals=2))+\".\")"
   ]
  },
  {
   "cell_type": "code",
   "execution_count": 9,
   "metadata": {},
   "outputs": [],
   "source": [
    "cat_df = df['Categories']\n",
    "cat_df = pd.Series(cat_df)\n",
    "cat_df = cat_df.str.split(',', expand=True)\n",
    "df2 = pd.DataFrame(cat_df)\n",
    "df2 = pd.concat([cat_df[0], cat_df[1], cat_df[2]], axis=1)\n",
    "new_df2 = df2.rename(columns = {0:'Category1', 1:'Category2', 2:'Category3'})\n",
    "temp_df = pd.concat([df, new_df2], axis = 1)\n",
    "temp_df = temp_df.drop(['Category1', 'Category2', 'Category3'], axis=1)\n"
   ]
  },
  {
   "cell_type": "code",
   "execution_count": 10,
   "metadata": {},
   "outputs": [
    {
     "name": "stdout",
     "output_type": "stream",
     "text": [
      "             Full Name                       Primary Job Title  \\\n",
      "0            Elon Musk       Chairman, Product Architect & CEO   \n",
      "1          JB Straubel                      Co-Founder and CTO   \n",
      "2      Mark Zuckerberg                           Founder & CEO   \n",
      "3           Ross Mason      Founder and VP of Product Strategy   \n",
      "4         Rahul Gandhi  Co-Founder & SVP of Finance Operations   \n",
      "...                ...                                     ...   \n",
      "18356    Glenn Shimkus                        Co-founder & CEO   \n",
      "18357  Douglas Keszler                              Co-Founder   \n",
      "18358  Clark Johannson   Co-Founder & Chief Technology Officer   \n",
      "18359  Stefano Colonna                                 Founder   \n",
      "18360  Daniel Hoepfner                                 Founder   \n",
      "\n",
      "                                                     Bio  Gender  \\\n",
      "0      Elon co-founded Tesla and continues to oversee...       1   \n",
      "1      The story of JB Straubel's career started at a...       1   \n",
      "2      Mark Zuckerberg is the founder and CEO of Face...       1   \n",
      "3      Created the Mule Project, Founded MuleSoft, go...       1   \n",
      "4      Rahul is a Co-founder & Senior Vice President ...       1   \n",
      "...                                                  ...     ...   \n",
      "18356                                                  0       1   \n",
      "18357                                                  0       1   \n",
      "18358                                                  0       1   \n",
      "18359  Digital serial entrepreneur.  Founded and mana...       1   \n",
      "18360  Daniel Hoepfner is founder and managing direct...       1   \n",
      "\n",
      "       Number of News Articles  Number of Founded Organizations  \\\n",
      "0                        14445                                7   \n",
      "1                          100                                2   \n",
      "2                        19678                               10   \n",
      "3                          128                                1   \n",
      "4                          861                                1   \n",
      "...                        ...                              ...   \n",
      "18356                        0                                1   \n",
      "18357                        0                                1   \n",
      "18358                        0                                1   \n",
      "18359                        0                                1   \n",
      "18360                        0                                2   \n",
      "\n",
      "       Number of Portfolio Companies  Number of Investments_x  \\\n",
      "0                                 11                       21   \n",
      "1                                  1                        1   \n",
      "2                                  6                        7   \n",
      "3                                  6                        7   \n",
      "4                                  0                        0   \n",
      "...                              ...                      ...   \n",
      "18356                              0                        0   \n",
      "18357                              0                        0   \n",
      "18358                              0                        0   \n",
      "18359                              0                        0   \n",
      "18360                              0                        0   \n",
      "\n",
      "       Number of Partner Investments  Number of Lead Investments_x  ...  \\\n",
      "0                                  0                             9  ...   \n",
      "1                                  0                             0  ...   \n",
      "2                                  0                             0  ...   \n",
      "3                                  0                             0  ...   \n",
      "4                                  0                             0  ...   \n",
      "...                              ...                           ...  ...   \n",
      "18356                              0                             0  ...   \n",
      "18357                              0                             0  ...   \n",
      "18358                              0                             0  ...   \n",
      "18359                              0                             0  ...   \n",
      "18360                              0                             0  ...   \n",
      "\n",
      "       Number of Events_x                                         Categories  \\\n",
      "0                       2     Innovation Management, Automotive, Electronics   \n",
      "1                       1     Innovation Management, Automotive, Electronics   \n",
      "2                       5               Social Media, Social, Social Network   \n",
      "3                       5  Apps, Enterprise Software, Developer APIs, Fin...   \n",
      "4                       0                 Internet, Self-Storage, E-Commerce   \n",
      "...                   ...                                                ...   \n",
      "18356                   0  Document Management, Transaction Processing, R...   \n",
      "18357                   0          Semiconductor, Electronics, Manufacturing   \n",
      "18358                   0         Peer to Peer, Construction, Social Network   \n",
      "18359                   0                E-Commerce, Mobile, Mobile Payments   \n",
      "18360                   1  Content Marketing, Mobile, Publishing, Digital...   \n",
      "\n",
      "      Headquarters Location  Operating Status  Founded Date  Closed Date  \\\n",
      "0                 California                1          2003            0   \n",
      "1                 California                1          2003            0   \n",
      "2                 California                1          2004            0   \n",
      "3                 California                1          2006            0   \n",
      "4                   New York                1          2013            0   \n",
      "...                      ...              ...           ...          ...   \n",
      "18356               Illinois                1          2009            0   \n",
      "18357                 Oregon                1          2007            0   \n",
      "18358                 Canada                1          2015            0   \n",
      "18359          Massachusetts                1          2009            0   \n",
      "18360                Germany                1          2011            0   \n",
      "\n",
      "       Company Type  Number of Founders  Success  Founder  \n",
      "0                 1                   4        1        0  \n",
      "1                 1                   4        1        1  \n",
      "2                 1                   5        1        1  \n",
      "3                 1                   2        1        1  \n",
      "4                 0                   3        1        1  \n",
      "...             ...                 ...      ...      ...  \n",
      "18356             0                   2        1        1  \n",
      "18357             1                   2        1        1  \n",
      "18358             1                   3        0        1  \n",
      "18359             1                   1        0        1  \n",
      "18360             1                   2        0        1  \n",
      "\n",
      "[18361 rows x 21 columns]\n"
     ]
    }
   ],
   "source": [
    "final_df = pd.DataFrame(temp_df)\n",
    "dummy_country_df = pd.get_dummies(final_df['Headquarters Location '])\n",
    "print(final_df)"
   ]
  },
  {
   "cell_type": "code",
   "execution_count": 11,
   "metadata": {},
   "outputs": [
    {
     "name": "stdout",
     "output_type": "stream",
     "text": [
      "       Gender  Number of News Articles  Number of Founded Organizations  \\\n",
      "0           1                    14445                                7   \n",
      "1           1                      100                                2   \n",
      "2           1                    19678                               10   \n",
      "3           1                      128                                1   \n",
      "4           1                      861                                1   \n",
      "...       ...                      ...                              ...   \n",
      "18356       1                        0                                1   \n",
      "18357       1                        0                                1   \n",
      "18358       1                        0                                1   \n",
      "18359       1                        0                                1   \n",
      "18360       1                        0                                2   \n",
      "\n",
      "       Number of Portfolio Companies  Number of Investments_x  \\\n",
      "0                                 11                       21   \n",
      "1                                  1                        1   \n",
      "2                                  6                        7   \n",
      "3                                  6                        7   \n",
      "4                                  0                        0   \n",
      "...                              ...                      ...   \n",
      "18356                              0                        0   \n",
      "18357                              0                        0   \n",
      "18358                              0                        0   \n",
      "18359                              0                        0   \n",
      "18360                              0                        0   \n",
      "\n",
      "       Number of Partner Investments  Number of Lead Investments_x  \\\n",
      "0                                  0                             9   \n",
      "1                                  0                             0   \n",
      "2                                  0                             0   \n",
      "3                                  0                             0   \n",
      "4                                  0                             0   \n",
      "...                              ...                           ...   \n",
      "18356                              0                             0   \n",
      "18357                              0                             0   \n",
      "18358                              0                             0   \n",
      "18359                              0                             0   \n",
      "18360                              0                             0   \n",
      "\n",
      "       Number of Exits_x  Number of Events_x  \\\n",
      "0                      6                   2   \n",
      "1                      0                   1   \n",
      "2                      0                   5   \n",
      "3                      1                   5   \n",
      "4                      0                   0   \n",
      "...                  ...                 ...   \n",
      "18356                  0                   0   \n",
      "18357                  0                   0   \n",
      "18358                  0                   0   \n",
      "18359                  0                   0   \n",
      "18360                  0                   1   \n",
      "\n",
      "                                              Categories  ...   Utah  \\\n",
      "0         Innovation Management, Automotive, Electronics  ...      0   \n",
      "1         Innovation Management, Automotive, Electronics  ...      0   \n",
      "2                   Social Media, Social, Social Network  ...      0   \n",
      "3      Apps, Enterprise Software, Developer APIs, Fin...  ...      0   \n",
      "4                     Internet, Self-Storage, E-Commerce  ...      0   \n",
      "...                                                  ...  ...    ...   \n",
      "18356  Document Management, Transaction Processing, R...  ...      0   \n",
      "18357          Semiconductor, Electronics, Manufacturing  ...      0   \n",
      "18358         Peer to Peer, Construction, Social Network  ...      0   \n",
      "18359                E-Commerce, Mobile, Mobile Payments  ...      0   \n",
      "18360  Content Marketing, Mobile, Publishing, Digital...  ...      0   \n",
      "\n",
      "        Venezuela   Vermont   Vietnam   Virginia   Washington   Wisconsin  \\\n",
      "0               0         0         0          0            0           0   \n",
      "1               0         0         0          0            0           0   \n",
      "2               0         0         0          0            0           0   \n",
      "3               0         0         0          0            0           0   \n",
      "4               0         0         0          0            0           0   \n",
      "...           ...       ...       ...        ...          ...         ...   \n",
      "18356           0         0         0          0            0           0   \n",
      "18357           0         0         0          0            0           0   \n",
      "18358           0         0         0          0            0           0   \n",
      "18359           0         0         0          0            0           0   \n",
      "18360           0         0         0          0            0           0   \n",
      "\n",
      "        Zambia  0  United Kingdom  \n",
      "0            0  0               0  \n",
      "1            0  0               0  \n",
      "2            0  0               0  \n",
      "3            0  0               0  \n",
      "4            0  0               0  \n",
      "...        ... ..             ...  \n",
      "18356        0  0               0  \n",
      "18357        0  0               0  \n",
      "18358        0  0               0  \n",
      "18359        0  0               0  \n",
      "18360        0  0               0  \n",
      "\n",
      "[18361 rows x 155 columns]\n"
     ]
    }
   ],
   "source": [
    "final_df = final_df.drop(['Headquarters Location ', 'Full Name', 'Primary Job Title', 'Bio', 'Operating Status', 'Closed Date', 'Founder', 'Company Type'], axis=1)\n",
    "final_df = pd.concat([final_df, dummy_country_df], axis = 1)\n",
    "print(final_df)"
   ]
  },
  {
   "cell_type": "code",
   "execution_count": 12,
   "metadata": {},
   "outputs": [],
   "source": [
    "from sklearn.linear_model import LogisticRegression\n",
    "from sklearn.svm import LinearSVC, SVC\n",
    "from sklearn.ensemble import RandomForestClassifier\n",
    "from sklearn.neighbors import KNeighborsClassifier\n",
    "from sklearn.naive_bayes import GaussianNB\n",
    "from sklearn.linear_model import Perceptron\n",
    "from sklearn.linear_model import SGDClassifier\n",
    "from sklearn.tree import DecisionTreeClassifier\n",
    "import random as r\n",
    "from sklearn.model_selection import train_test_split"
   ]
  },
  {
   "cell_type": "code",
   "execution_count": 16,
   "metadata": {},
   "outputs": [
    {
     "name": "stdout",
     "output_type": "stream",
     "text": [
      "Shape of y: (18361,)\n",
      "Shape of X: (18361, 153)\n"
     ]
    }
   ],
   "source": [
    "final_df = final_df.drop('Categories', axis=1)\n",
    "y = final_df['Success'].values\n",
    "X = final_df.drop('Success', axis=1).values\n",
    "X = pd.DataFrame(X)\n",
    "print(\"Shape of y: \" + str(y.shape))\n",
    "print(\"Shape of X: \" + str(X.shape))"
   ]
  },
  {
   "cell_type": "code",
   "execution_count": 17,
   "metadata": {},
   "outputs": [],
   "source": [
    "x_train, x_test, y_train, y_test= train_test_split(X, y, test_size = .2, random_state = 42)"
   ]
  },
  {
   "cell_type": "markdown",
   "metadata": {},
   "source": [
    "# Random Forest "
   ]
  },
  {
   "cell_type": "code",
   "execution_count": 61,
   "metadata": {},
   "outputs": [
    {
     "name": "stdout",
     "output_type": "stream",
     "text": [
      "Training Score: 93.1\n",
      "Testing Score: 76.97\n"
     ]
    }
   ],
   "source": [
    "random_forest = RandomForestClassifier(n_estimators= 10000)\n",
    "random_forest.fit(x_train, y_train)\n",
    "y_pred_forest = random_forest.predict(x_test)\n",
    "\n",
    "train_score = round(random_forest.score(x_train, y_train)*100, 2)\n",
    "test_score = round(random_forest.score(x_test, y_test)*100, 2)\n",
    "\n",
    "print(\"Training Score: \" + str(train_score))\n",
    "print(\"Testing Score: \"+ str(test_score))"
   ]
  },
  {
   "cell_type": "code",
   "execution_count": 19,
   "metadata": {},
   "outputs": [
    {
     "name": "stdout",
     "output_type": "stream",
     "text": [
      "The Average Precision Score, which is the number of correctly predicted positive observations divided by the total predicted positive observations, is: 0.61606\n"
     ]
    }
   ],
   "source": [
    "from sklearn.metrics import average_precision_score\n",
    "# precision score : correct predicted positive observations/ total predicted positive observations\n",
    "avg_precision_FOREST = average_precision_score(y_test, y_pred_forest)\n",
    "print(\"The Average Precision Score, which is the number of correctly predicted positive observations divided by the total predicted positive observations, is: \" + str(round(avg_precision_FOREST, 5)))\n"
   ]
  },
  {
   "cell_type": "code",
   "execution_count": 20,
   "metadata": {},
   "outputs": [
    {
     "data": {
      "text/plain": [
       "Text(0.5, 1.0, 'Precision-Recall Curve')"
      ]
     },
     "execution_count": 20,
     "metadata": {},
     "output_type": "execute_result"
    },
    {
     "data": {
      "image/png": "[encoded data removed]",
      "text/plain": [
       "<Figure size 432x288 with 1 Axes>"
      ]
     },
     "metadata": {
      "needs_background": "light"
     },
     "output_type": "display_data"
    }
   ],
   "source": [
    "from sklearn.metrics import precision_recall_curve\n",
    "import matplotlib.pyplot as plt\n",
    "precision, recall, _ = precision_recall_curve(y_test, y_pred_forest)\n",
    "plt.step(recall, precision, color='gray', alpha = .75, where='post')\n",
    "plt.fill_between(recall, precision, step='post')\n",
    "plt.xlabel('Recall')\n",
    "plt.ylabel('Precision')\n",
    "plt.title('Precision-Recall Curve')"
   ]
  },
  {
   "cell_type": "code",
   "execution_count": 21,
   "metadata": {},
   "outputs": [
    {
     "data": {
      "image/png": "[encoded data removed]",
      "text/plain": [
       "<Figure size 432x288 with 1 Axes>"
      ]
     },
     "metadata": {
      "needs_background": "light"
     },
     "output_type": "display_data"
    }
   ],
   "source": [
    "def plot_feature_importance(model, x, y, x2):\n",
    "    importance = pd.DataFrame(\n",
    "    model.feature_importances_,\n",
    "    columns = ['Importance'],\n",
    "    index = x2.columns\n",
    "    )\n",
    "    importance = importance.sort_values( ['Importance'], ascending = True)\n",
    "    importance[:10].plot(kind = 'barh')\n",
    "    \n",
    "plot_feature_importance(random_forest, x_train, y_train, X)"
   ]
  },
  {
   "cell_type": "markdown",
   "metadata": {},
   "source": [
    "# Logistic Regression"
   ]
  },
  {
   "cell_type": "code",
   "execution_count": 22,
   "metadata": {},
   "outputs": [
    {
     "name": "stdout",
     "output_type": "stream",
     "text": [
      "Log Reg score for TRAINING: 64.54\n",
      "Log Reg score for TEST: 64.52\n"
     ]
    },
    {
     "name": "stderr",
     "output_type": "stream",
     "text": [
      "/usr/local/lib/python3.7/site-packages/sklearn/linear_model/_logistic.py:940: ConvergenceWarning: lbfgs failed to converge (status=1):\n",
      "STOP: TOTAL NO. of ITERATIONS REACHED LIMIT.\n",
      "\n",
      "Increase the number of iterations (max_iter) or scale the data as shown in:\n",
      "    https://scikit-learn.org/stable/modules/preprocessing.html\n",
      "Please also refer to the documentation for alternative solver options:\n",
      "    https://scikit-learn.org/stable/modules/linear_model.html#logistic-regression\n",
      "  extra_warning_msg=_LOGISTIC_SOLVER_CONVERGENCE_MSG)\n"
     ]
    }
   ],
   "source": [
    "log = LogisticRegression()\n",
    "log.fit(x_train, y_train)\n",
    "y_pred_log = log.predict(x_test)\n",
    "log_score_train = round(log.score(x_train, y_train)*100, 2)\n",
    "log_score_test = round(log.score(x_test, y_test)*100, 2)\n",
    "\n",
    "print(\"Log Reg score for TRAINING: \" + str(log_score_train))\n",
    "print(\"Log Reg score for TEST: \" + str(log_score_test))"
   ]
  },
  {
   "cell_type": "code",
   "execution_count": 23,
   "metadata": {},
   "outputs": [
    {
     "name": "stdout",
     "output_type": "stream",
     "text": [
      "Average Precision Score for LOG REG: 0.4499015180675384\n"
     ]
    }
   ],
   "source": [
    "avg_precision_LOG = average_precision_score(y_test, y_pred_log)\n",
    "print(\"Average Precision Score for LOG REG: \"+ str(avg_precision_LOG))"
   ]
  },
  {
   "cell_type": "code",
   "execution_count": 24,
   "metadata": {},
   "outputs": [
    {
     "data": {
      "text/plain": [
       "Text(0.5, 1.0, 'Recall-Precision Curve')"
      ]
     },
     "execution_count": 24,
     "metadata": {},
     "output_type": "execute_result"
    },
    {
     "data": {
      "image/png": "[encoded data removed]",
      "text/plain": [
       "<Figure size 432x288 with 1 Axes>"
      ]
     },
     "metadata": {
      "needs_background": "light"
     },
     "output_type": "display_data"
    }
   ],
   "source": [
    "precision, recall, _ = precision_recall_curve(y_test, y_pred_log)\n",
    "plt.step(recall, precision, color = 'lightgray', alpha = .5, where = \"post\")\n",
    "plt.fill_between(recall, precision, step=\"post\")\n",
    "plt.xlabel(\"Recall\")\n",
    "plt.ylabel(\"Precision\")\n",
    "plt.title(\"Recall-Precision Curve\")"
   ]
  },
  {
   "cell_type": "markdown",
   "metadata": {},
   "source": [
    "# Support Vector Machine"
   ]
  },
  {
   "cell_type": "code",
   "execution_count": 25,
   "metadata": {},
   "outputs": [
    {
     "name": "stdout",
     "output_type": "stream",
     "text": [
      "SVM train accuracy: 61.66\n",
      "SVM test accuracy: 61.09\n"
     ]
    }
   ],
   "source": [
    "svm = SVC()\n",
    "svm.fit(x_train, y_train)\n",
    "y_pred_svm = svm.predict(x_test)\n",
    "\n",
    "svm_score_train = round(svm.score(x_train, y_train)*100, 2) \n",
    "svm_score_test =  round(svm.score(x_test, y_test)*100, 2)\n",
    "\n",
    "print(\"SVM train accuracy: \" + str(svm_score_train))\n",
    "print(\"SVM test accuracy: \" + str(svm_score_test))"
   ]
  },
  {
   "cell_type": "code",
   "execution_count": 26,
   "metadata": {},
   "outputs": [
    {
     "name": "stdout",
     "output_type": "stream",
     "text": [
      "Average Precision Score for SVM: 0.40251307923033275\n"
     ]
    }
   ],
   "source": [
    "avg_precision_SVM = average_precision_score(y_test, y_pred_svm)\n",
    "print(\"Average Precision Score for SVM: \"+ str(avg_precision_SVM))"
   ]
  },
  {
   "cell_type": "code",
   "execution_count": 27,
   "metadata": {},
   "outputs": [
    {
     "data": {
      "text/plain": [
       "Text(0.5, 1.0, 'Precision-Recall Curve')"
      ]
     },
     "execution_count": 27,
     "metadata": {},
     "output_type": "execute_result"
    },
    {
     "data": {
      "image/png": "[encoded data removed]",
      "text/plain": [
       "<Figure size 432x288 with 1 Axes>"
      ]
     },
     "metadata": {
      "needs_background": "light"
     },
     "output_type": "display_data"
    }
   ],
   "source": [
    "precision, recall, _ = precision_recall_curve(y_test, y_pred_svm)\n",
    "plt.step(recall, precision, color = 'lightblue', where = \"post\")\n",
    "plt.fill_between(recall, precision, color = 'lightgray', step=\"post\")\n",
    "plt.xlabel(\"Recall\")\n",
    "plt.ylabel(\"Precision\")\n",
    "plt.title(\"Precision-Recall Curve\")"
   ]
  },
  {
   "cell_type": "markdown",
   "metadata": {},
   "source": [
    "# KNN"
   ]
  },
  {
   "cell_type": "code",
   "execution_count": 60,
   "metadata": {},
   "outputs": [
    {
     "name": "stdout",
     "output_type": "stream",
     "text": [
      "KNN train accuracy: 78.44\n",
      "KNN test accuracy: 74.46\n"
     ]
    }
   ],
   "source": [
    "knn = KNeighborsClassifier(n_neighbors= 15)\n",
    "knn.fit(x_train, y_train)\n",
    "y_pred_KNN = knn.predict(x_test)\n",
    "knn_score_train = round(knn.score(x_train, y_train) * 100, 2)\n",
    "knn_score_test = round(knn.score(x_test, y_test) * 100, 2)\n",
    "\n",
    "\n",
    "print(\"KNN train accuracy: \" + str(knn_score_train))\n",
    "print(\"KNN test accuracy: \" + str(knn_score_test))"
   ]
  },
  {
   "cell_type": "code",
   "execution_count": 33,
   "metadata": {},
   "outputs": [
    {
     "name": "stdout",
     "output_type": "stream",
     "text": [
      "Avg Precision Score for KNN: 0.5806812615549906\n"
     ]
    }
   ],
   "source": [
    "avg_precision_KNN = average_precision_score(y_test, y_pred_KNN)\n",
    "print(\"Avg Precision Score for KNN: \" + str(avg_precision_KNN))"
   ]
  },
  {
   "cell_type": "code",
   "execution_count": 35,
   "metadata": {},
   "outputs": [
    {
     "data": {
      "text/plain": [
       "Text(0.5, 0, 'Recall')"
      ]
     },
     "execution_count": 35,
     "metadata": {},
     "output_type": "execute_result"
    },
    {
     "data": {
      "image/png": "[encoded data removed]",
      "text/plain": [
       "<Figure size 432x288 with 1 Axes>"
      ]
     },
     "metadata": {
      "needs_background": "light"
     },
     "output_type": "display_data"
    }
   ],
   "source": [
    "precision, recall, _ = precision_recall_curve(y_test, y_pred_KNN)\n",
    "plt.step(recall, precision, where=\"post\")\n",
    "plt.fill_between(recall, precision, step=\"post\")\n",
    "plt.ylabel(\"Precision\")\n",
    "plt.xlabel(\"Recall\")"
   ]
  },
  {
   "cell_type": "code",
   "execution_count": 57,
   "metadata": {},
   "outputs": [
    {
     "name": "stdout",
     "output_type": "stream",
     "text": [
      "Perceptron train accuracy: 60.74\n",
      "Perceptron test accuracy: 60.28\n"
     ]
    }
   ],
   "source": [
    "per = Perceptron(max_iter= 40, eta0 = 0.01, random_state=100)\n",
    "per.fit(x_train, y_train)\n",
    "y_pred_per = per.predict(x_test)\n",
    "\n",
    "per_score_train = round(per.score(x_train, y_train)*100, 2)\n",
    "per_score_test = round(per.score(x_test, y_test)*100, 2)\n",
    "\n",
    "print(\"Perceptron train accuracy: \" + str(per_score_train))\n",
    "print(\"Perceptron test accuracy: \" + str(per_score_test))"
   ]
  },
  {
   "cell_type": "code",
   "execution_count": null,
   "metadata": {},
   "outputs": [],
   "source": []
  }
 ],
 "metadata": {
  "kernelspec": {
   "display_name": "Python 3",
   "language": "python",
   "name": "python3"
  },
  "language_info": {
   "codemirror_mode": {
    "name": "ipython",
    "version": 3
   },
   "file_extension": ".py",
   "mimetype": "text/x-python",
   "name": "python",
   "nbconvert_exporter": "python",
   "pygments_lexer": "ipython3",
   "version": "3.7.6"
  }
 },
 "nbformat": 4,
 "nbformat_minor": 4
}
