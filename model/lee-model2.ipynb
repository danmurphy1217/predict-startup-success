{
 "cells": [
  {
   "cell_type": "code",
   "execution_count": 31,
   "metadata": {},
   "outputs": [],
   "source": [
    "import numpy as np\n",
    "import pandas as pd\n",
    "from sklearn.ensemble import RandomForestClassifier\n",
    "from sklearn.model_selection import train_test_split\n",
    "from sklearn.metrics import average_precision_score\n",
    "from sklearn.metrics import precision_recall_curve\n",
    "import matplotlib.pyplot as plt"
   ]
  },
  {
   "cell_type": "markdown",
   "metadata": {},
   "source": [
    "# Load and Pre-Process the Data"
   ]
  },
  {
   "cell_type": "code",
   "execution_count": 32,
   "metadata": {},
   "outputs": [],
   "source": [
    "df = pd.read_csv('/Users/danielmurphy/Desktop/predict-startup-success/data/founder_V0.3_founder.csv')"
   ]
  },
  {
   "cell_type": "code",
   "execution_count": 33,
   "metadata": {
    "scrolled": true
   },
   "outputs": [
    {
     "data": {
      "text/plain": [
       "Index(['Full Name', 'Primary Job Title', 'Bio', 'Gender',\n",
       "       'Number of News Articles', 'Number of Founded Organizations',\n",
       "       'Number of Portfolio Companies', 'Number of Investments_x',\n",
       "       'Number of Partner Investments', 'Number of Lead Investments_x',\n",
       "       'Number of Exits_x', 'Number of Events_x', 'Categories',\n",
       "       'Headquarters Location ', 'Operating Status', 'Founded Date',\n",
       "       'Closed Date', 'Company Type', 'Number of Founders', 'Success',\n",
       "       'Founder'],\n",
       "      dtype='object')"
      ]
     },
     "execution_count": 33,
     "metadata": {},
     "output_type": "execute_result"
    }
   ],
   "source": [
    "df.columns"
   ]
  },
  {
   "cell_type": "code",
   "execution_count": 34,
   "metadata": {},
   "outputs": [
    {
     "data": {
      "text/plain": [
       "(18361, 21)"
      ]
     },
     "execution_count": 34,
     "metadata": {},
     "output_type": "execute_result"
    }
   ],
   "source": [
    "df.shape"
   ]
  },
  {
   "cell_type": "code",
   "execution_count": 35,
   "metadata": {},
   "outputs": [],
   "source": [
    "filtered_df = df.drop(['Full Name', 'Primary Job Title', 'Bio', 'Number of Portfolio Companies', 'Number of Investments_x','Number of Partner Investments', 'Number of Lead Investments_x', 'Number of Events_x', 'Founded Date', 'Closed Date', 'Company Type', 'Founder'], axis=1)\n"
   ]
  },
  {
   "cell_type": "code",
   "execution_count": 36,
   "metadata": {},
   "outputs": [
    {
     "name": "stdout",
     "output_type": "stream",
     "text": [
      "       Gender  Number of News Articles  Number of Founded Organizations  \\\n",
      "0           1                    14445                                7   \n",
      "1           1                      100                                2   \n",
      "2           1                    19678                               10   \n",
      "3           1                      128                                1   \n",
      "4           1                      861                                1   \n",
      "...       ...                      ...                              ...   \n",
      "18356       1                        0                                1   \n",
      "18357       1                        0                                1   \n",
      "18358       1                        0                                1   \n",
      "18359       1                        0                                1   \n",
      "18360       1                        0                                2   \n",
      "\n",
      "       Number of Exits_x                                         Categories  \\\n",
      "0                      6     Innovation Management, Automotive, Electronics   \n",
      "1                      0     Innovation Management, Automotive, Electronics   \n",
      "2                      0               Social Media, Social, Social Network   \n",
      "3                      1  Apps, Enterprise Software, Developer APIs, Fin...   \n",
      "4                      0                 Internet, Self-Storage, E-Commerce   \n",
      "...                  ...                                                ...   \n",
      "18356                  0  Document Management, Transaction Processing, R...   \n",
      "18357                  0          Semiconductor, Electronics, Manufacturing   \n",
      "18358                  0         Peer to Peer, Construction, Social Network   \n",
      "18359                  0                E-Commerce, Mobile, Mobile Payments   \n",
      "18360                  0  Content Marketing, Mobile, Publishing, Digital...   \n",
      "\n",
      "      Headquarters Location   Operating Status  Number of Founders  Success  \n",
      "0                 California                 1                   4        1  \n",
      "1                 California                 1                   4        1  \n",
      "2                 California                 1                   5        1  \n",
      "3                 California                 1                   2        1  \n",
      "4                   New York                 1                   3        1  \n",
      "...                      ...               ...                 ...      ...  \n",
      "18356               Illinois                 1                   2        1  \n",
      "18357                 Oregon                 1                   2        1  \n",
      "18358                 Canada                 1                   3        0  \n",
      "18359          Massachusetts                 1                   1        0  \n",
      "18360                Germany                 1                   2        0  \n",
      "\n",
      "[18361 rows x 9 columns]\n"
     ]
    }
   ],
   "source": [
    "print(filtered_df)"
   ]
  },
  {
   "cell_type": "code",
   "execution_count": 37,
   "metadata": {},
   "outputs": [
    {
     "name": "stdout",
     "output_type": "stream",
     "text": [
      "       0  3D Printing  3D Technology  A/B Testing  Accounting  Ad Network  \\\n",
      "0      0            0              0            0           0           0   \n",
      "1      0            0              0            0           0           0   \n",
      "2      0            0              0            0           0           0   \n",
      "3      0            0              0            0           0           0   \n",
      "4      0            0              0            0           0           0   \n",
      "...   ..          ...            ...          ...         ...         ...   \n",
      "18356  0            0              0            0           0           0   \n",
      "18357  0            0              0            0           0           0   \n",
      "18358  0            0              0            0           0           0   \n",
      "18359  0            0              0            0           0           0   \n",
      "18360  0            0              0            0           0           0   \n",
      "\n",
      "       Ad Retargeting  Ad Targeting  Advanced Materials  Adventure Travel  \\\n",
      "0                   0             0                   0                 0   \n",
      "1                   0             0                   0                 0   \n",
      "2                   0             0                   0                 0   \n",
      "3                   0             0                   0                 0   \n",
      "4                   0             0                   0                 0   \n",
      "...               ...           ...                 ...               ...   \n",
      "18356               0             0                   0                 0   \n",
      "18357               0             0                   0                 0   \n",
      "18358               0             0                   0                 0   \n",
      "18359               0             0                   0                 0   \n",
      "18360               0             0                   0                 0   \n",
      "\n",
      "       ...  Wholesale  Wind Energy  Windows Phone  Wine And Spirits  Wireless  \\\n",
      "0      ...          0            0              0                 0         0   \n",
      "1      ...          0            0              0                 0         0   \n",
      "2      ...          0            0              0                 0         0   \n",
      "3      ...          0            0              0                 0         0   \n",
      "4      ...          0            0              0                 0         0   \n",
      "...    ...        ...          ...            ...               ...       ...   \n",
      "18356  ...          0            0              0                 0         0   \n",
      "18357  ...          0            0              0                 0         0   \n",
      "18358  ...          0            0              0                 0         0   \n",
      "18359  ...          0            0              0                 0         0   \n",
      "18360  ...          0            0              0                 0         0   \n",
      "\n",
      "       Women's  Young Adults  eSports  iOS  mHealth  \n",
      "0            0             0        0    0        0  \n",
      "1            0             0        0    0        0  \n",
      "2            0             0        0    0        0  \n",
      "3            0             0        0    0        0  \n",
      "4            0             0        0    0        0  \n",
      "...        ...           ...      ...  ...      ...  \n",
      "18356        0             0        0    0        0  \n",
      "18357        0             0        0    0        0  \n",
      "18358        0             0        0    0        0  \n",
      "18359        0             0        0    0        0  \n",
      "18360        0             0        0    0        0  \n",
      "\n",
      "[18361 rows x 584 columns]\n"
     ]
    }
   ],
   "source": [
    "categories_dummy = df['Categories']\n",
    "categories_dummy = categories_dummy.str.split(',', expand=True)\n",
    "categories_dummy = categories_dummy[0]\n",
    "categories_dummy = pd.get_dummies(categories_dummy)\n",
    "print(categories_dummy)"
   ]
  },
  {
   "cell_type": "code",
   "execution_count": 38,
   "metadata": {},
   "outputs": [
    {
     "name": "stdout",
     "output_type": "stream",
     "text": [
      "       Gender  Number of News Articles  Number of Founded Organizations  \\\n",
      "0           1                    14445                                7   \n",
      "1           1                      100                                2   \n",
      "2           1                    19678                               10   \n",
      "3           1                      128                                1   \n",
      "4           1                      861                                1   \n",
      "...       ...                      ...                              ...   \n",
      "18356       1                        0                                1   \n",
      "18357       1                        0                                1   \n",
      "18358       1                        0                                1   \n",
      "18359       1                        0                                1   \n",
      "18360       1                        0                                2   \n",
      "\n",
      "       Number of Exits_x                                         Categories  \\\n",
      "0                      6     Innovation Management, Automotive, Electronics   \n",
      "1                      0     Innovation Management, Automotive, Electronics   \n",
      "2                      0               Social Media, Social, Social Network   \n",
      "3                      1  Apps, Enterprise Software, Developer APIs, Fin...   \n",
      "4                      0                 Internet, Self-Storage, E-Commerce   \n",
      "...                  ...                                                ...   \n",
      "18356                  0  Document Management, Transaction Processing, R...   \n",
      "18357                  0          Semiconductor, Electronics, Manufacturing   \n",
      "18358                  0         Peer to Peer, Construction, Social Network   \n",
      "18359                  0                E-Commerce, Mobile, Mobile Payments   \n",
      "18360                  0  Content Marketing, Mobile, Publishing, Digital...   \n",
      "\n",
      "      Headquarters Location   Operating Status  Number of Founders  Success  \\\n",
      "0                 California                 1                   4        1   \n",
      "1                 California                 1                   4        1   \n",
      "2                 California                 1                   5        1   \n",
      "3                 California                 1                   2        1   \n",
      "4                   New York                 1                   3        1   \n",
      "...                      ...               ...                 ...      ...   \n",
      "18356               Illinois                 1                   2        1   \n",
      "18357                 Oregon                 1                   2        1   \n",
      "18358                 Canada                 1                   3        0   \n",
      "18359          Massachusetts                 1                   1        0   \n",
      "18360                Germany                 1                   2        0   \n",
      "\n",
      "       0  ...  Wholesale  Wind Energy  Windows Phone  Wine And Spirits  \\\n",
      "0      0  ...          0            0              0                 0   \n",
      "1      0  ...          0            0              0                 0   \n",
      "2      0  ...          0            0              0                 0   \n",
      "3      0  ...          0            0              0                 0   \n",
      "4      0  ...          0            0              0                 0   \n",
      "...   ..  ...        ...          ...            ...               ...   \n",
      "18356  0  ...          0            0              0                 0   \n",
      "18357  0  ...          0            0              0                 0   \n",
      "18358  0  ...          0            0              0                 0   \n",
      "18359  0  ...          0            0              0                 0   \n",
      "18360  0  ...          0            0              0                 0   \n",
      "\n",
      "       Wireless  Women's  Young Adults  eSports  iOS  mHealth  \n",
      "0             0        0             0        0    0        0  \n",
      "1             0        0             0        0    0        0  \n",
      "2             0        0             0        0    0        0  \n",
      "3             0        0             0        0    0        0  \n",
      "4             0        0             0        0    0        0  \n",
      "...         ...      ...           ...      ...  ...      ...  \n",
      "18356         0        0             0        0    0        0  \n",
      "18357         0        0             0        0    0        0  \n",
      "18358         0        0             0        0    0        0  \n",
      "18359         0        0             0        0    0        0  \n",
      "18360         0        0             0        0    0        0  \n",
      "\n",
      "[18361 rows x 593 columns]\n"
     ]
    }
   ],
   "source": [
    "filtered_df = pd.concat([filtered_df, categories_dummy], axis=1)\n",
    "print(filtered_df)"
   ]
  },
  {
   "cell_type": "code",
   "execution_count": 39,
   "metadata": {},
   "outputs": [
    {
     "name": "stdout",
     "output_type": "stream",
     "text": [
      "        Africa   Alabama   Albania   Argentina   Arizona   Arkansas   Armenia  \\\n",
      "0            0         0         0           0         0          0         0   \n",
      "1            0         0         0           0         0          0         0   \n",
      "2            0         0         0           0         0          0         0   \n",
      "3            0         0         0           0         0          0         0   \n",
      "4            0         0         0           0         0          0         0   \n",
      "...        ...       ...       ...         ...       ...        ...       ...   \n",
      "18356        0         0         0           0         0          0         0   \n",
      "18357        0         0         0           0         0          0         0   \n",
      "18358        0         0         0           0         0          0         0   \n",
      "18359        0         0         0           0         0          0         0   \n",
      "18360        0         0         0           0         0          0         0   \n",
      "\n",
      "        Asia   Australia   Austria  ...   Utah   Venezuela   Vermont  \\\n",
      "0          0           0         0  ...      0           0         0   \n",
      "1          0           0         0  ...      0           0         0   \n",
      "2          0           0         0  ...      0           0         0   \n",
      "3          0           0         0  ...      0           0         0   \n",
      "4          0           0         0  ...      0           0         0   \n",
      "...      ...         ...       ...  ...    ...         ...       ...   \n",
      "18356      0           0         0  ...      0           0         0   \n",
      "18357      0           0         0  ...      0           0         0   \n",
      "18358      0           0         0  ...      0           0         0   \n",
      "18359      0           0         0  ...      0           0         0   \n",
      "18360      0           0         0  ...      0           0         0   \n",
      "\n",
      "        Vietnam   Virginia   Washington   Wisconsin   Zambia  0  \\\n",
      "0             0          0            0           0        0  0   \n",
      "1             0          0            0           0        0  0   \n",
      "2             0          0            0           0        0  0   \n",
      "3             0          0            0           0        0  0   \n",
      "4             0          0            0           0        0  0   \n",
      "...         ...        ...          ...         ...      ... ..   \n",
      "18356         0          0            0           0        0  0   \n",
      "18357         0          0            0           0        0  0   \n",
      "18358         0          0            0           0        0  0   \n",
      "18359         0          0            0           0        0  0   \n",
      "18360         0          0            0           0        0  0   \n",
      "\n",
      "       United Kingdom  \n",
      "0                   0  \n",
      "1                   0  \n",
      "2                   0  \n",
      "3                   0  \n",
      "4                   0  \n",
      "...               ...  \n",
      "18356               0  \n",
      "18357               0  \n",
      "18358               0  \n",
      "18359               0  \n",
      "18360               0  \n",
      "\n",
      "[18361 rows x 142 columns]\n"
     ]
    }
   ],
   "source": [
    "hq_dummy = df['Headquarters Location ']\n",
    "hq_dummy = pd.get_dummies(hq_dummy)\n",
    "print(hq_dummy)"
   ]
  },
  {
   "cell_type": "code",
   "execution_count": 40,
   "metadata": {},
   "outputs": [
    {
     "name": "stdout",
     "output_type": "stream",
     "text": [
      "       Gender  Number of News Articles  Number of Founded Organizations  \\\n",
      "0           1                    14445                                7   \n",
      "1           1                      100                                2   \n",
      "2           1                    19678                               10   \n",
      "3           1                      128                                1   \n",
      "4           1                      861                                1   \n",
      "...       ...                      ...                              ...   \n",
      "18356       1                        0                                1   \n",
      "18357       1                        0                                1   \n",
      "18358       1                        0                                1   \n",
      "18359       1                        0                                1   \n",
      "18360       1                        0                                2   \n",
      "\n",
      "       Number of Exits_x                                         Categories  \\\n",
      "0                      6     Innovation Management, Automotive, Electronics   \n",
      "1                      0     Innovation Management, Automotive, Electronics   \n",
      "2                      0               Social Media, Social, Social Network   \n",
      "3                      1  Apps, Enterprise Software, Developer APIs, Fin...   \n",
      "4                      0                 Internet, Self-Storage, E-Commerce   \n",
      "...                  ...                                                ...   \n",
      "18356                  0  Document Management, Transaction Processing, R...   \n",
      "18357                  0          Semiconductor, Electronics, Manufacturing   \n",
      "18358                  0         Peer to Peer, Construction, Social Network   \n",
      "18359                  0                E-Commerce, Mobile, Mobile Payments   \n",
      "18360                  0  Content Marketing, Mobile, Publishing, Digital...   \n",
      "\n",
      "      Headquarters Location   Operating Status  Number of Founders  Success  \\\n",
      "0                 California                 1                   4        1   \n",
      "1                 California                 1                   4        1   \n",
      "2                 California                 1                   5        1   \n",
      "3                 California                 1                   2        1   \n",
      "4                   New York                 1                   3        1   \n",
      "...                      ...               ...                 ...      ...   \n",
      "18356               Illinois                 1                   2        1   \n",
      "18357                 Oregon                 1                   2        1   \n",
      "18358                 Canada                 1                   3        0   \n",
      "18359          Massachusetts                 1                   1        0   \n",
      "18360                Germany                 1                   2        0   \n",
      "\n",
      "       0  ...   Utah   Venezuela   Vermont   Vietnam   Virginia   Washington  \\\n",
      "0      0  ...      0           0         0         0          0            0   \n",
      "1      0  ...      0           0         0         0          0            0   \n",
      "2      0  ...      0           0         0         0          0            0   \n",
      "3      0  ...      0           0         0         0          0            0   \n",
      "4      0  ...      0           0         0         0          0            0   \n",
      "...   ..  ...    ...         ...       ...       ...        ...          ...   \n",
      "18356  0  ...      0           0         0         0          0            0   \n",
      "18357  0  ...      0           0         0         0          0            0   \n",
      "18358  0  ...      0           0         0         0          0            0   \n",
      "18359  0  ...      0           0         0         0          0            0   \n",
      "18360  0  ...      0           0         0         0          0            0   \n",
      "\n",
      "        Wisconsin   Zambia  0  United Kingdom  \n",
      "0               0        0  0               0  \n",
      "1               0        0  0               0  \n",
      "2               0        0  0               0  \n",
      "3               0        0  0               0  \n",
      "4               0        0  0               0  \n",
      "...           ...      ... ..             ...  \n",
      "18356           0        0  0               0  \n",
      "18357           0        0  0               0  \n",
      "18358           0        0  0               0  \n",
      "18359           0        0  0               0  \n",
      "18360           0        0  0               0  \n",
      "\n",
      "[18361 rows x 735 columns]\n"
     ]
    }
   ],
   "source": [
    "filtered_df = pd.concat([filtered_df, hq_dummy], axis=1)\n",
    "print(filtered_df)"
   ]
  },
  {
   "cell_type": "code",
   "execution_count": 43,
   "metadata": {},
   "outputs": [
    {
     "name": "stdout",
     "output_type": "stream",
     "text": [
      "       Gender  Number of News Articles  Number of Founded Organizations  \\\n",
      "0           1                    14445                                7   \n",
      "1           1                      100                                2   \n",
      "2           1                    19678                               10   \n",
      "3           1                      128                                1   \n",
      "4           1                      861                                1   \n",
      "...       ...                      ...                              ...   \n",
      "18356       1                        0                                1   \n",
      "18357       1                        0                                1   \n",
      "18358       1                        0                                1   \n",
      "18359       1                        0                                1   \n",
      "18360       1                        0                                2   \n",
      "\n",
      "       Number of Exits_x  Operating Status  Number of Founders  Success  0  \\\n",
      "0                      6                 1                   4        1  0   \n",
      "1                      0                 1                   4        1  0   \n",
      "2                      0                 1                   5        1  0   \n",
      "3                      1                 1                   2        1  0   \n",
      "4                      0                 1                   3        1  0   \n",
      "...                  ...               ...                 ...      ... ..   \n",
      "18356                  0                 1                   2        1  0   \n",
      "18357                  0                 1                   2        1  0   \n",
      "18358                  0                 1                   3        0  0   \n",
      "18359                  0                 1                   1        0  0   \n",
      "18360                  0                 1                   2        0  0   \n",
      "\n",
      "       3D Printing  3D Technology  ...   Utah   Venezuela   Vermont   Vietnam  \\\n",
      "0                0              0  ...      0           0         0         0   \n",
      "1                0              0  ...      0           0         0         0   \n",
      "2                0              0  ...      0           0         0         0   \n",
      "3                0              0  ...      0           0         0         0   \n",
      "4                0              0  ...      0           0         0         0   \n",
      "...            ...            ...  ...    ...         ...       ...       ...   \n",
      "18356            0              0  ...      0           0         0         0   \n",
      "18357            0              0  ...      0           0         0         0   \n",
      "18358            0              0  ...      0           0         0         0   \n",
      "18359            0              0  ...      0           0         0         0   \n",
      "18360            0              0  ...      0           0         0         0   \n",
      "\n",
      "        Virginia   Washington   Wisconsin   Zambia  0  United Kingdom  \n",
      "0              0            0           0        0  0               0  \n",
      "1              0            0           0        0  0               0  \n",
      "2              0            0           0        0  0               0  \n",
      "3              0            0           0        0  0               0  \n",
      "4              0            0           0        0  0               0  \n",
      "...          ...          ...         ...      ... ..             ...  \n",
      "18356          0            0           0        0  0               0  \n",
      "18357          0            0           0        0  0               0  \n",
      "18358          0            0           0        0  0               0  \n",
      "18359          0            0           0        0  0               0  \n",
      "18360          0            0           0        0  0               0  \n",
      "\n",
      "[18361 rows x 733 columns]\n"
     ]
    }
   ],
   "source": [
    "filtered_df = filtered_df.drop(['Headquarters Location ', 'Categories'], axis=1)\n",
    "print(filtered_df)"
   ]
  },
  {
   "cell_type": "markdown",
   "metadata": {},
   "source": [
    "# Inspecting the Dataset"
   ]
  },
  {
   "cell_type": "code",
   "execution_count": 59,
   "metadata": {},
   "outputs": [
    {
     "name": "stdout",
     "output_type": "stream",
     "text": [
      "Shape of X: (18361, 732)\n",
      "Shape of y: (18361,)\n"
     ]
    }
   ],
   "source": [
    "y = filtered_df['Success'].values\n",
    "X = filtered_df.drop('Success', axis=1)\n",
    "print(\"Shape of X: \" + str(X.values.shape))\n",
    "print(\"Shape of y: \" + str(y.shape))"
   ]
  },
  {
   "cell_type": "markdown",
   "metadata": {},
   "source": [
    "# Train & Test Split"
   ]
  },
  {
   "cell_type": "code",
   "execution_count": 60,
   "metadata": {},
   "outputs": [],
   "source": [
    "x_train, x_test, y_train, y_test = train_test_split(X, y, test_size = .3, random_state = 42)"
   ]
  },
  {
   "cell_type": "markdown",
   "metadata": {},
   "source": [
    "# Random Forest"
   ]
  },
  {
   "cell_type": "markdown",
   "metadata": {},
   "source": [
    "### n_estimators = 500"
   ]
  },
  {
   "cell_type": "code",
   "execution_count": 61,
   "metadata": {},
   "outputs": [
    {
     "name": "stdout",
     "output_type": "stream",
     "text": [
      "Train Score : 96.79\n",
      "Test Score : 72.34\n"
     ]
    }
   ],
   "source": [
    "rand_forest = RandomForestClassifier(n_estimators=500)\n",
    "rand_forest.fit(x_train, y_train)\n",
    "\n",
    "y_pred_rf = rand_forest.predict(x_test)\n",
    "\n",
    "rf_train_score = round(rand_forest.score(x_train, y_train)*100, 2)\n",
    "rf_test_score = round(rand_forest.score(x_test, y_test)*100, 2)\n",
    "\n",
    "print(\"Train Score : \" + str(rf_train_score))\n",
    "print(\"Test Score : \" + str(rf_test_score))"
   ]
  },
  {
   "cell_type": "markdown",
   "metadata": {},
   "source": [
    "### n_estimators = 1000"
   ]
  },
  {
   "cell_type": "code",
   "execution_count": 50,
   "metadata": {},
   "outputs": [
    {
     "name": "stdout",
     "output_type": "stream",
     "text": [
      "Train Score : 96.79\n",
      "Test Score : 72.32\n"
     ]
    }
   ],
   "source": [
    "rand_forest = RandomForestClassifier(n_estimators=1000)\n",
    "rand_forest.fit(x_train, y_train)\n",
    "\n",
    "y_pred_rf = rand_forest.predict(x_test)\n",
    "\n",
    "rf_train_score = round(rand_forest.score(x_train, y_train)*100, 2)\n",
    "rf_test_score = round(rand_forest.score(x_test, y_test)*100, 2)\n",
    "\n",
    "print(\"Train Score : \" + str(rf_train_score))\n",
    "print(\"Test Score : \" + str(rf_test_score))"
   ]
  },
  {
   "cell_type": "markdown",
   "metadata": {},
   "source": [
    "### n_estimators = 2000"
   ]
  },
  {
   "cell_type": "code",
   "execution_count": 51,
   "metadata": {},
   "outputs": [
    {
     "name": "stdout",
     "output_type": "stream",
     "text": [
      "Train Score : 96.79\n",
      "Test Score : 72.41\n"
     ]
    }
   ],
   "source": [
    "rand_forest = RandomForestClassifier(n_estimators=2000)\n",
    "rand_forest.fit(x_train, y_train)\n",
    "\n",
    "y_pred_rf = rand_forest.predict(x_test)\n",
    "\n",
    "rf_train_score = round(rand_forest.score(x_train, y_train)*100, 2)\n",
    "rf_test_score = round(rand_forest.score(x_test, y_test)*100, 2)\n",
    "\n",
    "print(\"Train Score : \" + str(rf_train_score))\n",
    "print(\"Test Score : \" + str(rf_test_score))"
   ]
  },
  {
   "cell_type": "code",
   "execution_count": 66,
   "metadata": {},
   "outputs": [
    {
     "data": {
      "text/html": [
       "<div>\n",
       "<style scoped>\n",
       "    .dataframe tbody tr th:only-of-type {\n",
       "        vertical-align: middle;\n",
       "    }\n",
       "\n",
       "    .dataframe tbody tr th {\n",
       "        vertical-align: top;\n",
       "    }\n",
       "\n",
       "    .dataframe thead th {\n",
       "        text-align: right;\n",
       "    }\n",
       "</style>\n",
       "<table border=\"1\" class=\"dataframe\">\n",
       "  <thead>\n",
       "    <tr style=\"text-align: right;\">\n",
       "      <th></th>\n",
       "      <th>feature</th>\n",
       "      <th>importance</th>\n",
       "    </tr>\n",
       "  </thead>\n",
       "  <tbody>\n",
       "    <tr>\n",
       "      <th>1</th>\n",
       "      <td>Number of News Articles</td>\n",
       "      <td>0.174112</td>\n",
       "    </tr>\n",
       "    <tr>\n",
       "      <th>5</th>\n",
       "      <td>Number of Founders</td>\n",
       "      <td>0.087164</td>\n",
       "    </tr>\n",
       "    <tr>\n",
       "      <th>2</th>\n",
       "      <td>Number of Founded Organizations</td>\n",
       "      <td>0.035062</td>\n",
       "    </tr>\n",
       "    <tr>\n",
       "      <th>607</th>\n",
       "      <td>California</td>\n",
       "      <td>0.018907</td>\n",
       "    </tr>\n",
       "    <tr>\n",
       "      <th>675</th>\n",
       "      <td>New York</td>\n",
       "      <td>0.013277</td>\n",
       "    </tr>\n",
       "    <tr>\n",
       "      <th>0</th>\n",
       "      <td>Gender</td>\n",
       "      <td>0.012476</td>\n",
       "    </tr>\n",
       "    <tr>\n",
       "      <th>612</th>\n",
       "      <td>China</td>\n",
       "      <td>0.009464</td>\n",
       "    </tr>\n",
       "    <tr>\n",
       "      <th>507</th>\n",
       "      <td>Software</td>\n",
       "      <td>0.009361</td>\n",
       "    </tr>\n",
       "    <tr>\n",
       "      <th>3</th>\n",
       "      <td>Number of Exits_x</td>\n",
       "      <td>0.008397</td>\n",
       "    </tr>\n",
       "    <tr>\n",
       "      <th>356</th>\n",
       "      <td>Mobile</td>\n",
       "      <td>0.007979</td>\n",
       "    </tr>\n",
       "  </tbody>\n",
       "</table>\n",
       "</div>"
      ],
      "text/plain": [
       "                             feature  importance\n",
       "1            Number of News Articles    0.174112\n",
       "5                 Number of Founders    0.087164\n",
       "2    Number of Founded Organizations    0.035062\n",
       "607                       California    0.018907\n",
       "675                         New York    0.013277\n",
       "0                             Gender    0.012476\n",
       "612                            China    0.009464\n",
       "507                         Software    0.009361\n",
       "3                  Number of Exits_x    0.008397\n",
       "356                           Mobile    0.007979"
      ]
     },
     "execution_count": 66,
     "metadata": {},
     "output_type": "execute_result"
    }
   ],
   "source": [
    "X = pd.DataFrame(X)\n",
    "rand_forest_feature_importance = pd.DataFrame({\n",
    "    'feature' : X.columns,\n",
    "    'importance': rand_forest.feature_importances_\n",
    "}).sort_values(by = 'importance', ascending=False)\n",
    "\n",
    "rand_forest_feature_importance[:10]"
   ]
  },
  {
   "cell_type": "code",
   "execution_count": 62,
   "metadata": {},
   "outputs": [
    {
     "name": "stdout",
     "output_type": "stream",
     "text": [
      "       Gender  Number of News Articles  Number of Founded Organizations  \\\n",
      "0           1                    14445                                7   \n",
      "1           1                      100                                2   \n",
      "2           1                    19678                               10   \n",
      "3           1                      128                                1   \n",
      "4           1                      861                                1   \n",
      "...       ...                      ...                              ...   \n",
      "18356       1                        0                                1   \n",
      "18357       1                        0                                1   \n",
      "18358       1                        0                                1   \n",
      "18359       1                        0                                1   \n",
      "18360       1                        0                                2   \n",
      "\n",
      "       Number of Exits_x  Operating Status  Number of Founders  0  \\\n",
      "0                      6                 1                   4  0   \n",
      "1                      0                 1                   4  0   \n",
      "2                      0                 1                   5  0   \n",
      "3                      1                 1                   2  0   \n",
      "4                      0                 1                   3  0   \n",
      "...                  ...               ...                 ... ..   \n",
      "18356                  0                 1                   2  0   \n",
      "18357                  0                 1                   2  0   \n",
      "18358                  0                 1                   3  0   \n",
      "18359                  0                 1                   1  0   \n",
      "18360                  0                 1                   2  0   \n",
      "\n",
      "       3D Printing  3D Technology  A/B Testing  ...   Utah   Venezuela  \\\n",
      "0                0              0            0  ...      0           0   \n",
      "1                0              0            0  ...      0           0   \n",
      "2                0              0            0  ...      0           0   \n",
      "3                0              0            0  ...      0           0   \n",
      "4                0              0            0  ...      0           0   \n",
      "...            ...            ...          ...  ...    ...         ...   \n",
      "18356            0              0            0  ...      0           0   \n",
      "18357            0              0            0  ...      0           0   \n",
      "18358            0              0            0  ...      0           0   \n",
      "18359            0              0            0  ...      0           0   \n",
      "18360            0              0            0  ...      0           0   \n",
      "\n",
      "        Vermont   Vietnam   Virginia   Washington   Wisconsin   Zambia  0  \\\n",
      "0             0         0          0            0           0        0  0   \n",
      "1             0         0          0            0           0        0  0   \n",
      "2             0         0          0            0           0        0  0   \n",
      "3             0         0          0            0           0        0  0   \n",
      "4             0         0          0            0           0        0  0   \n",
      "...         ...       ...        ...          ...         ...      ... ..   \n",
      "18356         0         0          0            0           0        0  0   \n",
      "18357         0         0          0            0           0        0  0   \n",
      "18358         0         0          0            0           0        0  0   \n",
      "18359         0         0          0            0           0        0  0   \n",
      "18360         0         0          0            0           0        0  0   \n",
      "\n",
      "       United Kingdom  \n",
      "0                   0  \n",
      "1                   0  \n",
      "2                   0  \n",
      "3                   0  \n",
      "4                   0  \n",
      "...               ...  \n",
      "18356               0  \n",
      "18357               0  \n",
      "18358               0  \n",
      "18359               0  \n",
      "18360               0  \n",
      "\n",
      "[18361 rows x 732 columns]\n"
     ]
    }
   ],
   "source": [
    "print(pd.DataFrame(X))"
   ]
  },
  {
   "cell_type": "code",
   "execution_count": null,
   "metadata": {},
   "outputs": [],
   "source": []
  }
 ],
 "metadata": {
  "kernelspec": {
   "display_name": "Python 3",
   "language": "python",
   "name": "python3"
  },
  "language_info": {
   "codemirror_mode": {
    "name": "ipython",
    "version": 3
   },
   "file_extension": ".py",
   "mimetype": "text/x-python",
   "name": "python",
   "nbconvert_exporter": "python",
   "pygments_lexer": "ipython3",
   "version": "3.7.6"
  }
 },
 "nbformat": 4,
 "nbformat_minor": 4
}
